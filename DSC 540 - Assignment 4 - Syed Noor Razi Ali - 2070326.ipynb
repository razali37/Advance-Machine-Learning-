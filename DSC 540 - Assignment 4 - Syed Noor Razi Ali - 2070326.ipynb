{
 "cells": [
  {
   "cell_type": "markdown",
   "metadata": {},
   "source": [
    "# DSC540 Project 4 - "
   ]
  },
  {
   "cell_type": "markdown",
   "metadata": {},
   "source": [
    "DePaul University  \n",
    "Ilyas Ustun, PhD  \n",
    "Chicago, IL  "
   ]
  },
  {
   "cell_type": "markdown",
   "metadata": {},
   "source": [
    "## Rules\n",
    "- Write your code under the corresponding questions where you see `# Code here`. You are encouraged to use more than one cell.\n",
    "- Provide explanation in a separate Markdown formatted cell. \n",
    "- You can change the cell type by:\n",
    "    - Clicking on the outer area of the cell type you want to change,\n",
    "    - Go to the top, and select either Code or Markdown from the dropdown menu.\n",
    "- Be concise in your explanations and conclusions.\n",
    "- Write clear code and provide explanation to functions you create by using `#` comment sign.\n",
    "- For built-in function and methods you use from libraries, provide a very brief explanation of what they do.\n",
    "- Try to answer the questions by yourself. Use documentation from pandas, sklearn and similar libraries to solve the problem.\n",
    "- If you are stuck you can use different resources. Do not find an identical project and copy paste the solutions. \n",
    "- Write your name before beginning to code.\n",
    "\n",
    "\n",
    "Important:  \n",
    "- **Do NOT share the solutions with other people.**\n",
    "- **Do NOT share the solutions on the internet including but not limited to Github and other platforms.**\n",
    "- Sign the Honor Pledge below indicating that you have agreed to these rules listed here, and any other ethical and honor rules as required by the university.\n",
    "\n",
    "\n",
    "\n",
    "- **Deliverables:**\n",
    "    1. The Python Jupyter notebook file named properly with your name. Example: dsc540_project1_john_doe.ipynb\n",
    "    2. The HTML output of this code notebook names the same way. Example: dsc540_project1_john_doe.html\n",
    "        - File -> Download as -> HTML   \n",
    "\n",
    "Good Luck!"
   ]
  },
  {
   "cell_type": "markdown",
   "metadata": {},
   "source": [
    "### SYED NOOR RAZI ALI"
   ]
  },
  {
   "cell_type": "markdown",
   "metadata": {},
   "source": [
    "**Honor Pledge:**  \n",
    "I pledge on my honor that I, **SYED NOOR RAZI ALI**, have followed the rules listed above, that I have not given or received any unauthorized assistance on this assignment. \n"
   ]
  },
  {
   "cell_type": "markdown",
   "metadata": {},
   "source": [
    "## Q1 [10]"
   ]
  },
  {
   "cell_type": "markdown",
   "metadata": {},
   "source": [
    "A drug company would like to introduce a drug to help patients with Alzheimer's. It is desirable to estimate $θ$, the proportion of the market share that this drug will capture. \n",
    "- The company interviews 100 people and 15 of them say that they will buy the drug. (This the observed data: n=100, observed=15) $->$ likelihood\n",
    "- If in the past new drugs tend to capture a proportion between say .10 and .40 of the market, and if all values in between are assumed equally likely, then $θ ∼ Unif(0.10, 0.40)$ $->$ prior"
   ]
  },
  {
   "cell_type": "markdown",
   "metadata": {},
   "source": [
    "### What is the traceplot of $\\theta$ using Bayesian analysis to estimate the market share for the new drug?\n",
    "- Sample 10000 draws\n",
    "- Plot the traceplot"
   ]
  },
  {
   "cell_type": "code",
   "execution_count": 4,
   "metadata": {},
   "outputs": [
    {
     "name": "stdout",
     "output_type": "stream",
     "text": [
      "Requirement already satisfied: pymc3 in c:\\users\\razia\\anaconda3\\lib\\site-packages (3.10.0)\n",
      "Requirement already satisfied: typing-extensions>=3.7.4 in c:\\users\\razia\\anaconda3\\lib\\site-packages (from pymc3) (3.10.0.2)\n",
      "Requirement already satisfied: scipy>=0.18.1 in c:\\users\\razia\\anaconda3\\lib\\site-packages (from pymc3) (1.7.3)\n",
      "Requirement already satisfied: fastprogress>=0.2.0 in c:\\users\\razia\\anaconda3\\lib\\site-packages (from pymc3) (1.0.3)\n",
      "Requirement already satisfied: theano-pymc==1.0.11 in c:\\users\\razia\\anaconda3\\lib\\site-packages (from pymc3) (1.0.11)\n",
      "Requirement already satisfied: dill in c:\\users\\razia\\anaconda3\\lib\\site-packages (from pymc3) (0.3.6)\n",
      "Requirement already satisfied: pandas>=0.18.0 in c:\\users\\razia\\anaconda3\\lib\\site-packages (from pymc3) (0.25.3)\n",
      "Requirement already satisfied: patsy>=0.5.1 in c:\\users\\razia\\anaconda3\\lib\\site-packages (from pymc3) (0.5.1)\n",
      "Requirement already satisfied: arviz>=0.9.0 in c:\\users\\razia\\anaconda3\\lib\\site-packages (from pymc3) (0.11.2)\n",
      "Requirement already satisfied: numpy>=1.13.0 in c:\\users\\razia\\anaconda3\\lib\\site-packages (from pymc3) (1.16.5)\n",
      "Requirement already satisfied: python-dateutil>=2.6.1 in c:\\users\\razia\\anaconda3\\lib\\site-packages (from pandas>=0.18.0->pymc3) (2.8.0)\n",
      "Requirement already satisfied: pytz>=2017.2 in c:\\users\\razia\\anaconda3\\lib\\site-packages (from pandas>=0.18.0->pymc3) (2019.1)\n",
      "Requirement already satisfied: six in c:\\users\\razia\\anaconda3\\lib\\site-packages (from patsy>=0.5.1->pymc3) (1.12.0)\n",
      "Requirement already satisfied: setuptools>=38.4 in c:\\users\\razia\\anaconda3\\lib\\site-packages (from arviz>=0.9.0->pymc3) (41.0.1)\n",
      "Requirement already satisfied: xarray>=0.16.1 in c:\\users\\razia\\anaconda3\\lib\\site-packages (from arviz>=0.9.0->pymc3) (0.20.2)\n",
      "Requirement already satisfied: netcdf4 in c:\\users\\razia\\anaconda3\\lib\\site-packages (from arviz>=0.9.0->pymc3) (1.4.2)\n",
      "Requirement already satisfied: matplotlib>=3.0 in c:\\users\\razia\\anaconda3\\lib\\site-packages (from arviz>=0.9.0->pymc3) (3.1.0)\n",
      "Requirement already satisfied: packaging in c:\\users\\razia\\anaconda3\\lib\\site-packages (from arviz>=0.9.0->pymc3) (19.0)\n",
      "Requirement already satisfied: importlib-metadata; python_version < \"3.8\" in c:\\users\\razia\\anaconda3\\lib\\site-packages (from xarray>=0.16.1->arviz>=0.9.0->pymc3) (4.11.4)\n",
      "Requirement already satisfied: cftime in c:\\users\\razia\\anaconda3\\lib\\site-packages (from netcdf4->arviz>=0.9.0->pymc3) (1.0.3.4)\n",
      "Requirement already satisfied: cycler>=0.10 in c:\\users\\razia\\anaconda3\\lib\\site-packages (from matplotlib>=3.0->arviz>=0.9.0->pymc3) (0.10.0)\n",
      "Requirement already satisfied: kiwisolver>=1.0.1 in c:\\users\\razia\\anaconda3\\lib\\site-packages (from matplotlib>=3.0->arviz>=0.9.0->pymc3) (1.1.0)\n",
      "Requirement already satisfied: pyparsing!=2.0.4,!=2.1.2,!=2.1.6,>=2.0.1 in c:\\users\\razia\\anaconda3\\lib\\site-packages (from matplotlib>=3.0->arviz>=0.9.0->pymc3) (2.4.0)\n",
      "Requirement already satisfied: zipp>=0.5 in c:\\users\\razia\\anaconda3\\lib\\site-packages (from importlib-metadata; python_version < \"3.8\"->xarray>=0.16.1->arviz>=0.9.0->pymc3) (0.5.1)\n",
      "Note: you may need to restart the kernel to use updated packages.\n"
     ]
    }
   ],
   "source": [
    "pip install pymc3\n"
   ]
  },
  {
   "cell_type": "code",
   "execution_count": 2,
   "metadata": {},
   "outputs": [
    {
     "name": "stdout",
     "output_type": "stream",
     "text": [
      "Requirement already satisfied: arviz in c:\\users\\razia\\anaconda3\\lib\\site-packages (0.11.2)\n",
      "Requirement already satisfied: scipy>=0.19 in c:\\users\\razia\\anaconda3\\lib\\site-packages (from arviz) (1.7.3)\n",
      "Requirement already satisfied: netcdf4 in c:\\users\\razia\\anaconda3\\lib\\site-packages (from arviz) (1.4.2)\n",
      "Requirement already satisfied: pandas>=0.23 in c:\\users\\razia\\anaconda3\\lib\\site-packages (from arviz) (0.25.3)\n",
      "Requirement already satisfied: typing-extensions<4,>=3.7.4.3 in c:\\users\\razia\\anaconda3\\lib\\site-packages (from arviz) (3.10.0.2)\n",
      "Requirement already satisfied: matplotlib>=3.0 in c:\\users\\razia\\anaconda3\\lib\\site-packages (from arviz) (3.1.0)\n",
      "Requirement already satisfied: xarray>=0.16.1 in c:\\users\\razia\\anaconda3\\lib\\site-packages (from arviz) (0.20.2)\n",
      "Requirement already satisfied: numpy>=1.12 in c:\\users\\razia\\anaconda3\\lib\\site-packages (from arviz) (1.16.5)\n",
      "Requirement already satisfied: packaging in c:\\users\\razia\\anaconda3\\lib\\site-packages (from arviz) (19.0)\n",
      "Requirement already satisfied: setuptools>=38.4 in c:\\users\\razia\\anaconda3\\lib\\site-packages (from arviz) (41.0.1)\n",
      "Requirement already satisfied: cftime in c:\\users\\razia\\anaconda3\\lib\\site-packages (from netcdf4->arviz) (1.0.3.4)\n",
      "Requirement already satisfied: pytz>=2017.2 in c:\\users\\razia\\anaconda3\\lib\\site-packages (from pandas>=0.23->arviz) (2019.1)\n",
      "Requirement already satisfied: python-dateutil>=2.6.1 in c:\\users\\razia\\anaconda3\\lib\\site-packages (from pandas>=0.23->arviz) (2.8.0)\n",
      "Requirement already satisfied: cycler>=0.10 in c:\\users\\razia\\anaconda3\\lib\\site-packages (from matplotlib>=3.0->arviz) (0.10.0)\n",
      "Requirement already satisfied: kiwisolver>=1.0.1 in c:\\users\\razia\\anaconda3\\lib\\site-packages (from matplotlib>=3.0->arviz) (1.1.0)\n",
      "Requirement already satisfied: pyparsing!=2.0.4,!=2.1.2,!=2.1.6,>=2.0.1 in c:\\users\\razia\\anaconda3\\lib\\site-packages (from matplotlib>=3.0->arviz) (2.4.0)\n",
      "Requirement already satisfied: importlib-metadata; python_version < \"3.8\" in c:\\users\\razia\\anaconda3\\lib\\site-packages (from xarray>=0.16.1->arviz) (4.11.4)\n",
      "Requirement already satisfied: six in c:\\users\\razia\\anaconda3\\lib\\site-packages (from packaging->arviz) (1.12.0)\n",
      "Requirement already satisfied: zipp>=0.5 in c:\\users\\razia\\anaconda3\\lib\\site-packages (from importlib-metadata; python_version < \"3.8\"->xarray>=0.16.1->arviz) (0.5.1)\n",
      "Note: you may need to restart the kernel to use updated packages.\n"
     ]
    }
   ],
   "source": [
    "pip install arviz"
   ]
  },
  {
   "cell_type": "code",
   "execution_count": 2,
   "metadata": {},
   "outputs": [
    {
     "name": "stdout",
     "output_type": "stream",
     "text": [
      "Collecting arviz==0.10.0\n",
      "  Downloading https://files.pythonhosted.org/packages/a9/05/54183e9e57b0793eceb67361dbf4a7c4ed797ae36a04a3287791a564568c/arviz-0.10.0-py3-none-any.whl (1.5MB)\n",
      "Requirement already satisfied: xarray>=0.16.1 in c:\\users\\razia\\anaconda3\\lib\\site-packages (from arviz==0.10.0) (0.20.2)\n",
      "Requirement already satisfied: numpy>=1.12 in c:\\users\\razia\\anaconda3\\lib\\site-packages (from arviz==0.10.0) (1.16.5)\n",
      "Requirement already satisfied: setuptools>=38.4 in c:\\users\\razia\\anaconda3\\lib\\site-packages (from arviz==0.10.0) (41.0.1)\n",
      "Requirement already satisfied: pandas>=0.23 in c:\\users\\razia\\anaconda3\\lib\\site-packages (from arviz==0.10.0) (0.25.3)\n",
      "Requirement already satisfied: packaging in c:\\users\\razia\\anaconda3\\lib\\site-packages (from arviz==0.10.0) (19.0)\n",
      "Requirement already satisfied: netcdf4 in c:\\users\\razia\\anaconda3\\lib\\site-packages (from arviz==0.10.0) (1.4.2)\n",
      "Requirement already satisfied: matplotlib>=3.0 in c:\\users\\razia\\anaconda3\\lib\\site-packages (from arviz==0.10.0) (3.1.0)\n",
      "Requirement already satisfied: scipy>=0.19 in c:\\users\\razia\\anaconda3\\lib\\site-packages (from arviz==0.10.0) (1.7.3)\n",
      "Requirement already satisfied: typing-extensions>=3.7; python_version < \"3.8\" in c:\\users\\razia\\anaconda3\\lib\\site-packages (from xarray>=0.16.1->arviz==0.10.0) (3.10.0.2)\n",
      "Requirement already satisfied: importlib-metadata; python_version < \"3.8\" in c:\\users\\razia\\anaconda3\\lib\\site-packages (from xarray>=0.16.1->arviz==0.10.0) (4.11.4)\n",
      "Requirement already satisfied: pytz>=2017.2 in c:\\users\\razia\\anaconda3\\lib\\site-packages (from pandas>=0.23->arviz==0.10.0) (2019.1)\n",
      "Requirement already satisfied: python-dateutil>=2.6.1 in c:\\users\\razia\\anaconda3\\lib\\site-packages (from pandas>=0.23->arviz==0.10.0) (2.8.0)\n",
      "Requirement already satisfied: six in c:\\users\\razia\\anaconda3\\lib\\site-packages (from packaging->arviz==0.10.0) (1.12.0)\n",
      "Requirement already satisfied: pyparsing>=2.0.2 in c:\\users\\razia\\anaconda3\\lib\\site-packages (from packaging->arviz==0.10.0) (2.4.0)\n",
      "Requirement already satisfied: cftime in c:\\users\\razia\\anaconda3\\lib\\site-packages (from netcdf4->arviz==0.10.0) (1.0.3.4)\n",
      "Requirement already satisfied: cycler>=0.10 in c:\\users\\razia\\anaconda3\\lib\\site-packages (from matplotlib>=3.0->arviz==0.10.0) (0.10.0)\n",
      "Requirement already satisfied: kiwisolver>=1.0.1 in c:\\users\\razia\\anaconda3\\lib\\site-packages (from matplotlib>=3.0->arviz==0.10.0) (1.1.0)\n",
      "Requirement already satisfied: zipp>=0.5 in c:\\users\\razia\\anaconda3\\lib\\site-packages (from importlib-metadata; python_version < \"3.8\"->xarray>=0.16.1->arviz==0.10.0) (0.5.1)\n",
      "Installing collected packages: arviz\n",
      "  Found existing installation: arviz 0.11.2\n",
      "    Uninstalling arviz-0.11.2:\n",
      "      Successfully uninstalled arviz-0.11.2\n",
      "Successfully installed arviz-0.10.0\n",
      "Note: you may need to restart the kernel to use updated packages.\n"
     ]
    }
   ],
   "source": [
    "pip install arviz==0.10.0\n"
   ]
  },
  {
   "cell_type": "code",
   "execution_count": 1,
   "metadata": {},
   "outputs": [
    {
     "name": "stderr",
     "output_type": "stream",
     "text": [
      "WARNING (theano.configdefaults): g++ not available, if using conda: `conda install m2w64-toolchain`\n",
      "C:\\Users\\razia\\Anaconda3\\lib\\site-packages\\theano\\configdefaults.py:697: UserWarning: DeprecationWarning: there is no c++ compiler.This is deprecated and with Theano 0.11 a c++ compiler will be mandatory\n",
      "  \"DeprecationWarning: there is no c++ compiler.\"\n",
      "WARNING (theano.configdefaults): g++ not detected ! Theano will be unable to execute optimized C-implementations (for both CPU and GPU) and will default to Python implementations. Performance will be severely degraded. To remove this warning, set Theano flags cxx to an empty string.\n",
      "WARNING (theano.tensor.blas): Using NumPy C-API based implementation for BLAS functions.\n"
     ]
    }
   ],
   "source": [
    "import pymc3 as pm\n",
    "import arviz as az"
   ]
  },
  {
   "cell_type": "code",
   "execution_count": 3,
   "metadata": {},
   "outputs": [
    {
     "name": "stderr",
     "output_type": "stream",
     "text": [
      "C:\\Users\\razia\\Anaconda3\\lib\\site-packages\\pymc3\\sampling.py:468: FutureWarning: In an upcoming release, pm.sample will return an `arviz.InferenceData` object instead of a `MultiTrace` by default. You can pass return_inferencedata=True or return_inferencedata=False to be safe and silence this warning.\n",
      "  FutureWarning,\n",
      "Auto-assigning NUTS sampler...\n",
      "Initializing NUTS using jitter+adapt_diag...\n",
      "Multiprocess sampling (4 chains in 2 jobs)\n",
      "NUTS: [theta]\n"
     ]
    },
    {
     "data": {
      "text/html": [
       "\n",
       "<style>\n",
       "    /* Turns off some styling */\n",
       "    progress {\n",
       "        /* gets rid of default border in Firefox and Opera. */\n",
       "        border: none;\n",
       "        /* Needs to be in here for Safari polyfill so background images work as expected. */\n",
       "        background-size: auto;\n",
       "    }\n",
       "    progress:not([value]), progress:not([value])::-webkit-progress-bar {\n",
       "        background: repeating-linear-gradient(45deg, #7e7e7e, #7e7e7e 10px, #5c5c5c 10px, #5c5c5c 20px);\n",
       "    }\n",
       "    .progress-bar-interrupted, .progress-bar-interrupted::-webkit-progress-bar {\n",
       "        background: #F44336;\n",
       "    }\n",
       "</style>\n"
      ],
      "text/plain": [
       "<IPython.core.display.HTML object>"
      ]
     },
     "metadata": {},
     "output_type": "display_data"
    },
    {
     "data": {
      "text/html": [
       "\n",
       "    <div>\n",
       "      <progress value='42000' class='' max='42000' style='width:300px; height:20px; vertical-align: middle;'></progress>\n",
       "      100.00% [42000/42000 00:52&lt;00:00 Sampling 4 chains, 0 divergences]\n",
       "    </div>\n",
       "    "
      ],
      "text/plain": [
       "<IPython.core.display.HTML object>"
      ]
     },
     "metadata": {},
     "output_type": "display_data"
    },
    {
     "name": "stderr",
     "output_type": "stream",
     "text": [
      "Sampling 4 chains for 500 tune and 10_000 draw iterations (2_000 + 40_000 draws total) took 68 seconds.\n"
     ]
    },
    {
     "data": {
      "image/png": "[encoded data removed]",
      "text/plain": [
       "<Figure size 864x144 with 2 Axes>"
      ]
     },
     "metadata": {
      "needs_background": "light"
     },
     "output_type": "display_data"
    }
   ],
   "source": [
    "with pm.Model() as model:\n",
    "    \n",
    "    # Priors for unknown model parameters\n",
    "    theta = pm.Uniform(name=\"theta\", lower=0.10 , upper=0.40)\n",
    "    \n",
    "    # Likelihood\n",
    "    x = pm.Binomial(name=\"x\", p=theta, n=100, observed=15)\n",
    "\n",
    "    # Posterior\n",
    "    # draw 10000 posterior samples\n",
    "    trace1 = pm.sample(draws=10000, tune=500, chains=4)\n",
    "    \n",
    "    # Plot the trace plot\n",
    "    az.plot_trace(trace1)"
   ]
  },
  {
   "cell_type": "markdown",
   "metadata": {},
   "source": [
    "### Plot the posterior distribution plot of $ \\theta $\n",
    "- What is the mean posterior value?"
   ]
  },
  {
   "cell_type": "code",
   "execution_count": 4,
   "metadata": {},
   "outputs": [
    {
     "data": {
      "image/png": "[encoded data removed]",
      "text/plain": [
       "<Figure size 432x288 with 1 Axes>"
      ]
     },
     "metadata": {
      "needs_background": "light"
     },
     "output_type": "display_data"
    }
   ],
   "source": [
    "# Plot the posterior of trace\n",
    "az.plot_posterior(trace1['theta']);"
   ]
  },
  {
   "cell_type": "markdown",
   "metadata": {},
   "source": [
    "\n",
    "## Bayesian Network Analysis\n",
    "\n",
    "In this part we will be analyzing medical diagnosis using Bayes Nets. The structure and the Conditional Probabability Distribution tables are shown in the figure below."
   ]
  },
  {
   "cell_type": "markdown",
   "metadata": {},
   "source": [
    "![MedicalDiagnosis](Med-diag-bnet.jpg)"
   ]
  },
  {
   "cell_type": "markdown",
   "metadata": {},
   "source": [
    "- In the first few questions you will build the Bayes Net, set up the Conditional Probability Distribution tables, and associate the CPDs to the network.   \n",
    "- These steps are extremely important and crucial. Make sure you do the set up correctly, as everything else depends on that.   "
   ]
  },
  {
   "cell_type": "markdown",
   "metadata": {},
   "source": [
    "## Import Libraries\n",
    "\n",
    "**Import the usual libraries for pandas and plotting, and sklearn.**"
   ]
  },
  {
   "cell_type": "code",
   "execution_count": 7,
   "metadata": {},
   "outputs": [],
   "source": [
    "import pandas as pd\n",
    "import numpy as np\n",
    "import matplotlib.pyplot as plt\n",
    "import seaborn as sns\n",
    "\n",
    "from sklearn import metrics"
   ]
  },
  {
   "cell_type": "code",
   "execution_count": 8,
   "metadata": {},
   "outputs": [
    {
     "name": "stdout",
     "output_type": "stream",
     "text": [
      "Collecting pgmpy\n",
      "  Downloading https://files.pythonhosted.org/packages/0c/4c/b152c5bc8a3c267b86335368bd21a76cd90037fc66f821161609171aee7e/pgmpy-0.1.21-py3-none-any.whl (1.9MB)\n",
      "Requirement already satisfied: scipy in c:\\users\\razia\\anaconda3\\lib\\site-packages (from pgmpy) (1.7.3)\n",
      "Requirement already satisfied: numpy in c:\\users\\razia\\anaconda3\\lib\\site-packages (from pgmpy) (1.16.5)\n",
      "Requirement already satisfied: pandas in c:\\users\\razia\\anaconda3\\lib\\site-packages (from pgmpy) (0.25.3)\n",
      "Requirement already satisfied: scikit-learn in c:\\users\\razia\\anaconda3\\lib\\site-packages (from pgmpy) (1.0.2)\n",
      "Requirement already satisfied: joblib in c:\\users\\razia\\anaconda3\\lib\\site-packages (from pgmpy) (0.14.1)\n",
      "Collecting torch (from pgmpy)\n",
      "  Downloading https://files.pythonhosted.org/packages/b1/85/62b8da9d984ae95f6fdda707df4af6552a5cea46fde2b944223daf236524/torch-1.13.1-cp37-cp37m-win_amd64.whl (162.6MB)\n",
      "Requirement already satisfied: pyparsing in c:\\users\\razia\\anaconda3\\lib\\site-packages (from pgmpy) (2.4.0)\n",
      "Requirement already satisfied: statsmodels in c:\\users\\razia\\anaconda3\\lib\\site-packages (from pgmpy) (0.10.0)\n",
      "Collecting opt-einsum (from pgmpy)\n",
      "  Downloading https://files.pythonhosted.org/packages/bc/19/404708a7e54ad2798907210462fd950c3442ea51acc8790f3da48d2bee8b/opt_einsum-3.3.0-py3-none-any.whl (65kB)\n",
      "Requirement already satisfied: networkx in c:\\users\\razia\\anaconda3\\lib\\site-packages (from pgmpy) (2.3)\n",
      "Requirement already satisfied: tqdm in c:\\users\\razia\\anaconda3\\lib\\site-packages (from pgmpy) (4.42.0)\n",
      "Requirement already satisfied: pytz>=2017.2 in c:\\users\\razia\\anaconda3\\lib\\site-packages (from pandas->pgmpy) (2019.1)\n",
      "Requirement already satisfied: python-dateutil>=2.6.1 in c:\\users\\razia\\anaconda3\\lib\\site-packages (from pandas->pgmpy) (2.8.0)\n",
      "Requirement already satisfied: threadpoolctl>=2.0.0 in c:\\users\\razia\\anaconda3\\lib\\site-packages (from scikit-learn->pgmpy) (3.1.0)\n",
      "Requirement already satisfied: typing-extensions in c:\\users\\razia\\anaconda3\\lib\\site-packages (from torch->pgmpy) (3.10.0.2)\n",
      "Requirement already satisfied: patsy>=0.4.0 in c:\\users\\razia\\anaconda3\\lib\\site-packages (from statsmodels->pgmpy) (0.5.1)\n",
      "Requirement already satisfied: decorator>=4.3.0 in c:\\users\\razia\\anaconda3\\lib\\site-packages (from networkx->pgmpy) (4.4.0)\n",
      "Requirement already satisfied: six>=1.5 in c:\\users\\razia\\anaconda3\\lib\\site-packages (from python-dateutil>=2.6.1->pandas->pgmpy) (1.12.0)\n",
      "Installing collected packages: torch, opt-einsum, pgmpy\n",
      "Successfully installed opt-einsum-3.3.0 pgmpy-0.1.21 torch-1.13.1\n",
      "Note: you may need to restart the kernel to use updated packages.\n"
     ]
    }
   ],
   "source": [
    "pip install pgmpy\n"
   ]
  },
  {
   "cell_type": "code",
   "execution_count": 3,
   "metadata": {},
   "outputs": [],
   "source": [
    "# import pgmpy\n",
    "from pgmpy.models import BayesianModel\n",
    "from pgmpy.factors.discrete import TabularCPD"
   ]
  },
  {
   "cell_type": "code",
   "execution_count": 4,
   "metadata": {},
   "outputs": [
    {
     "data": {
      "text/plain": [
       "'1.0.2'"
      ]
     },
     "execution_count": 4,
     "metadata": {},
     "output_type": "execute_result"
    }
   ],
   "source": [
    "import sklearn\n",
    "sklearn.__version__"
   ]
  },
  {
   "cell_type": "markdown",
   "metadata": {},
   "source": [
    "### These are the packages I used"
   ]
  },
  {
   "cell_type": "code",
   "execution_count": 4,
   "metadata": {},
   "outputs": [],
   "source": [
    "# Your package imports here"
   ]
  },
  {
   "cell_type": "code",
   "execution_count": 5,
   "metadata": {},
   "outputs": [],
   "source": [
    "import numpy as np\n",
    "import pandas as pd\n",
    "import matplotlib.pyplot as plt\n",
    "import seaborn as sns\n",
    "\n",
    "from sklearn import metrics\n",
    "from pgmpy.models import BayesianModel\n",
    "from pgmpy.factors.discrete import TabularCPD"
   ]
  },
  {
   "cell_type": "code",
   "execution_count": null,
   "metadata": {},
   "outputs": [],
   "source": []
  },
  {
   "cell_type": "markdown",
   "metadata": {},
   "source": [
    "## Q2 [10]\n",
    "\n",
    "**Define the model structure.** \n",
    "\n",
    "You need to define the network by passing a list of edges. "
   ]
  },
  {
   "cell_type": "code",
   "execution_count": 6,
   "metadata": {},
   "outputs": [
    {
     "name": "stderr",
     "output_type": "stream",
     "text": [
      "C:\\Users\\razia\\Anaconda3\\lib\\site-packages\\pgmpy\\models\\BayesianModel.py:10: FutureWarning: BayesianModel has been renamed to BayesianNetwork. Please use BayesianNetwork class, BayesianModel will be removed in future.\n",
      "  FutureWarning,\n"
     ]
    }
   ],
   "source": [
    "model = BayesianModel([('Smokes', 'LungDisease'), ('LungDisease', 'ShortnessBreath'), ('LungDisease', 'ChestPain'), ('LungDisease', 'Cough'), ('Cold', 'Cough'), ('Cold', 'Fever')])"
   ]
  },
  {
   "cell_type": "code",
   "execution_count": 7,
   "metadata": {},
   "outputs": [],
   "source": [
    "model = BayesianModel([('Smokes', 'LungDisease'),           \n",
    "                       ('LungDisease', 'ShortnessBreath'),            \n",
    "                       ('LungDisease', 'ChestPain'),            \n",
    "                       ('LungDisease', 'Cough'),                \n",
    "                       ('Cold', 'Cough'),                   \n",
    "                       ('Cold', 'Fever')])"
   ]
  },
  {
   "cell_type": "markdown",
   "metadata": {},
   "source": [
    "## Q3 [15] \n",
    "\n",
    "**Define individual CPDs**\n",
    "- Define the CPDs using the state names of the variables. "
   ]
  },
  {
   "cell_type": "code",
   "execution_count": 8,
   "metadata": {
    "scrolled": true
   },
   "outputs": [
    {
     "name": "stdout",
     "output_type": "stream",
     "text": [
      "+-----------+-----+\n",
      "| Smokes(T) | 0.2 |\n",
      "+-----------+-----+\n",
      "| Smokes(F) | 0.8 |\n",
      "+-----------+-----+\n",
      "+----------------+-----------+-----------+\n",
      "| Smokes         | Smokes(T) | Smokes(F) |\n",
      "+----------------+-----------+-----------+\n",
      "| LungDisease(T) | 0.1009    | 0.001     |\n",
      "+----------------+-----------+-----------+\n",
      "| LungDisease(F) | 0.8991    | 0.999     |\n",
      "+----------------+-----------+-----------+\n"
     ]
    }
   ],
   "source": [
    "cpd_Smokes = TabularCPD(variable='Smokes', variable_card=2, values=[[0.2], [0.8]], state_names={'Smokes' : ['T', 'F']})\n",
    "print(cpd_Smokes)\n",
    "\n",
    "\n",
    "cpd_LungDisease = TabularCPD(variable='LungDisease', \n",
    "                             variable_card=2, \n",
    "                             values=[[0.1009, 0.001],\n",
    "                                     [0.8991, 0.999]],\n",
    "                             evidence=['Smokes'],\n",
    "                             evidence_card=[2],\n",
    "                            state_names={'Smokes' : ['T', 'F'], 'LungDisease' : ['T', 'F']})\n",
    "print(cpd_LungDisease)\n",
    "\n"
   ]
  },
  {
   "cell_type": "code",
   "execution_count": 9,
   "metadata": {},
   "outputs": [
    {
     "name": "stdout",
     "output_type": "stream",
     "text": [
      "+---------+------+\n",
      "| Cold(T) | 0.02 |\n",
      "+---------+------+\n",
      "| Cold(F) | 0.98 |\n",
      "+---------+------+\n"
     ]
    }
   ],
   "source": [
    "cpd_cold = TabularCPD(variable='Cold', \n",
    "                      variable_card=2, values=[[0.02], [0.98]],\n",
    "                      state_names={'Cold' : ['T', 'F']})\n",
    "print(cpd_cold)"
   ]
  },
  {
   "cell_type": "code",
   "execution_count": 10,
   "metadata": {},
   "outputs": [
    {
     "name": "stdout",
     "output_type": "stream",
     "text": [
      "+-------------+----------------+----------------+----------------+----------------+\n",
      "| Cold        | Cold(T)        | Cold(T)        | Cold(F)        | Cold(F)        |\n",
      "+-------------+----------------+----------------+----------------+----------------+\n",
      "| LungDisease | LungDisease(T) | LungDisease(F) | LungDisease(T) | LungDisease(F) |\n",
      "+-------------+----------------+----------------+----------------+----------------+\n",
      "| Cough(T)    | 0.7525         | 0.505          | 0.505          | 0.01           |\n",
      "+-------------+----------------+----------------+----------------+----------------+\n",
      "| Cough(F)    | 0.2475         | 0.495          | 0.495          | 0.99           |\n",
      "+-------------+----------------+----------------+----------------+----------------+\n"
     ]
    }
   ],
   "source": [
    "cpd_cough = TabularCPD(variable='Cough', \n",
    "                       variable_card=2, \n",
    "                       values=[[0.7525, 0.505, 0.505, 0.01], \n",
    "                               [0.2475, 0.495, 0.495, 0.99]],\n",
    "                       evidence=['Cold', 'LungDisease'], \n",
    "                       evidence_card=[2, 2],\n",
    "                      state_names={'Cough': ['T', 'F'],\n",
    "                                   'Cold': ['T', 'F'],\n",
    "                                   'LungDisease': ['T', 'F']})\n",
    "print(cpd_cough)\n"
   ]
  },
  {
   "cell_type": "code",
   "execution_count": 12,
   "metadata": {},
   "outputs": [
    {
     "name": "stdout",
     "output_type": "stream",
     "text": [
      "+--------------------+----------------+----------------+\n",
      "| LungDisease        | LungDisease(T) | LungDisease(F) |\n",
      "+--------------------+----------------+----------------+\n",
      "| ShortnessBreath(T) | 0.208          | 0.01           |\n",
      "+--------------------+----------------+----------------+\n",
      "| ShortnessBreath(F) | 0.792          | 0.99           |\n",
      "+--------------------+----------------+----------------+\n"
     ]
    }
   ],
   "source": [
    "cpd_ShortnessBreath = TabularCPD(variable='ShortnessBreath', \n",
    "                             variable_card=2, \n",
    "                             values=[[0.208, 0.01],\n",
    "                                     [0.792, 0.99]],\n",
    "                             evidence=['LungDisease'],\n",
    "                             evidence_card=[2],\n",
    "                            state_names={'ShortnessBreath' : ['T', 'F'], 'LungDisease' : ['T', 'F']})\n",
    "print(cpd_ShortnessBreath)"
   ]
  },
  {
   "cell_type": "code",
   "execution_count": 13,
   "metadata": {},
   "outputs": [
    {
     "name": "stdout",
     "output_type": "stream",
     "text": [
      "+--------------+----------------+----------------+\n",
      "| LungDisease  | LungDisease(T) | LungDisease(F) |\n",
      "+--------------+----------------+----------------+\n",
      "| ChestPain(T) | 0.208          | 0.01           |\n",
      "+--------------+----------------+----------------+\n",
      "| ChestPain(F) | 0.792          | 0.99           |\n",
      "+--------------+----------------+----------------+\n"
     ]
    }
   ],
   "source": [
    "cpd_ChestPain = TabularCPD(variable='ChestPain', \n",
    "                             variable_card=2, \n",
    "                             values=[[0.208, 0.01],\n",
    "                                     [0.792, 0.99]],\n",
    "                             evidence=['LungDisease'],\n",
    "                             evidence_card=[2],\n",
    "                            state_names={'ChestPain' : ['T', 'F'], 'LungDisease' : ['T', 'F']})\n",
    "print(cpd_ChestPain)"
   ]
  },
  {
   "cell_type": "code",
   "execution_count": 14,
   "metadata": {},
   "outputs": [
    {
     "name": "stdout",
     "output_type": "stream",
     "text": [
      "+----------+---------+---------+\n",
      "| Cold     | Cold(T) | Cold(F) |\n",
      "+----------+---------+---------+\n",
      "| Fever(T) | 0.307   | 0.01    |\n",
      "+----------+---------+---------+\n",
      "| Fever(F) | 0.693   | 0.99    |\n",
      "+----------+---------+---------+\n"
     ]
    }
   ],
   "source": [
    "cpd_fever = TabularCPD(variable='Fever', variable_card=2,\n",
    "                      values=[[0.307, 0.01],\n",
    "                              [0.693, 0.99]],\n",
    "                      evidence=['Cold'],\n",
    "                      evidence_card=[2],\n",
    "                      state_names={'Fever': ['T', 'F'],\n",
    "                                   'Cold': ['T', 'F']})\n",
    "print(cpd_fever)"
   ]
  },
  {
   "cell_type": "markdown",
   "metadata": {},
   "source": [
    "## Q4 [5] \n",
    "- Check that each of the CPDs are correct"
   ]
  },
  {
   "cell_type": "code",
   "execution_count": 131,
   "metadata": {},
   "outputs": [
    {
     "data": {
      "text/plain": [
       "<TabularCPD representing P(Smokes:2) at 0x26ae8e1d4e0>"
      ]
     },
     "execution_count": 131,
     "metadata": {},
     "output_type": "execute_result"
    }
   ],
   "source": [
    "cpd_smokes"
   ]
  },
  {
   "cell_type": "code",
   "execution_count": 132,
   "metadata": {},
   "outputs": [
    {
     "name": "stdout",
     "output_type": "stream",
     "text": [
      "+-----------+-----+\n",
      "| Smokes(0) | 0.8 |\n",
      "+-----------+-----+\n",
      "| Smokes(1) | 0.2 |\n",
      "+-----------+-----+\n"
     ]
    }
   ],
   "source": [
    "print(cpd_smokes)"
   ]
  },
  {
   "cell_type": "code",
   "execution_count": 15,
   "metadata": {},
   "outputs": [
    {
     "data": {
      "text/plain": [
       "<TabularCPD representing P(LungDisease:2 | Smokes:2) at 0x1485bbd3240>"
      ]
     },
     "execution_count": 15,
     "metadata": {},
     "output_type": "execute_result"
    }
   ],
   "source": [
    "cpd_LungDisease"
   ]
  },
  {
   "cell_type": "code",
   "execution_count": 16,
   "metadata": {},
   "outputs": [
    {
     "name": "stdout",
     "output_type": "stream",
     "text": [
      "+----------------+-----------+-----------+\n",
      "| Smokes         | Smokes(T) | Smokes(F) |\n",
      "+----------------+-----------+-----------+\n",
      "| LungDisease(T) | 0.1009    | 0.001     |\n",
      "+----------------+-----------+-----------+\n",
      "| LungDisease(F) | 0.8991    | 0.999     |\n",
      "+----------------+-----------+-----------+\n"
     ]
    }
   ],
   "source": [
    "print(cpd_LungDisease)"
   ]
  },
  {
   "cell_type": "code",
   "execution_count": 17,
   "metadata": {},
   "outputs": [
    {
     "data": {
      "text/plain": [
       "<TabularCPD representing P(ShortnessBreath:2 | LungDisease:2) at 0x148678cce48>"
      ]
     },
     "execution_count": 17,
     "metadata": {},
     "output_type": "execute_result"
    }
   ],
   "source": [
    "cpd_ShortnessBreath"
   ]
  },
  {
   "cell_type": "code",
   "execution_count": 19,
   "metadata": {},
   "outputs": [
    {
     "name": "stdout",
     "output_type": "stream",
     "text": [
      "+--------------------+----------------+----------------+\n",
      "| LungDisease        | LungDisease(T) | LungDisease(F) |\n",
      "+--------------------+----------------+----------------+\n",
      "| ShortnessBreath(T) | 0.208          | 0.01           |\n",
      "+--------------------+----------------+----------------+\n",
      "| ShortnessBreath(F) | 0.792          | 0.99           |\n",
      "+--------------------+----------------+----------------+\n"
     ]
    }
   ],
   "source": [
    "print(cpd_ShortnessBreath)"
   ]
  },
  {
   "cell_type": "code",
   "execution_count": 20,
   "metadata": {},
   "outputs": [
    {
     "data": {
      "text/plain": [
       "<TabularCPD representing P(ChestPain:2 | LungDisease:2) at 0x148678ccf60>"
      ]
     },
     "execution_count": 20,
     "metadata": {},
     "output_type": "execute_result"
    }
   ],
   "source": [
    "cpd_ChestPain"
   ]
  },
  {
   "cell_type": "code",
   "execution_count": 21,
   "metadata": {},
   "outputs": [
    {
     "name": "stdout",
     "output_type": "stream",
     "text": [
      "+--------------+----------------+----------------+\n",
      "| LungDisease  | LungDisease(T) | LungDisease(F) |\n",
      "+--------------+----------------+----------------+\n",
      "| ChestPain(T) | 0.208          | 0.01           |\n",
      "+--------------+----------------+----------------+\n",
      "| ChestPain(F) | 0.792          | 0.99           |\n",
      "+--------------+----------------+----------------+\n"
     ]
    }
   ],
   "source": [
    "print(cpd_ChestPain)"
   ]
  },
  {
   "cell_type": "code",
   "execution_count": 24,
   "metadata": {},
   "outputs": [
    {
     "data": {
      "text/plain": [
       "<TabularCPD representing P(Cough:2 | Cold:2, LungDisease:2) at 0x148678cccf8>"
      ]
     },
     "execution_count": 24,
     "metadata": {},
     "output_type": "execute_result"
    }
   ],
   "source": [
    "cpd_cough"
   ]
  },
  {
   "cell_type": "code",
   "execution_count": 27,
   "metadata": {},
   "outputs": [
    {
     "name": "stdout",
     "output_type": "stream",
     "text": [
      "+-------------+----------------+----------------+----------------+----------------+\n",
      "| Cold        | Cold(T)        | Cold(T)        | Cold(F)        | Cold(F)        |\n",
      "+-------------+----------------+----------------+----------------+----------------+\n",
      "| LungDisease | LungDisease(T) | LungDisease(F) | LungDisease(T) | LungDisease(F) |\n",
      "+-------------+----------------+----------------+----------------+----------------+\n",
      "| Cough(T)    | 0.7525         | 0.505          | 0.505          | 0.01           |\n",
      "+-------------+----------------+----------------+----------------+----------------+\n",
      "| Cough(F)    | 0.2475         | 0.495          | 0.495          | 0.99           |\n",
      "+-------------+----------------+----------------+----------------+----------------+\n"
     ]
    }
   ],
   "source": [
    "print(cpd_cough"
   ]
  },
  {
   "cell_type": "code",
   "execution_count": 29,
   "metadata": {},
   "outputs": [
    {
     "data": {
      "text/plain": [
       "<TabularCPD representing P(Cold:2) at 0x148678cc400>"
      ]
     },
     "execution_count": 29,
     "metadata": {},
     "output_type": "execute_result"
    }
   ],
   "source": [
    "cpd_cold"
   ]
  },
  {
   "cell_type": "code",
   "execution_count": 31,
   "metadata": {},
   "outputs": [
    {
     "name": "stdout",
     "output_type": "stream",
     "text": [
      "+---------+------+\n",
      "| Cold(T) | 0.02 |\n",
      "+---------+------+\n",
      "| Cold(F) | 0.98 |\n",
      "+---------+------+\n"
     ]
    }
   ],
   "source": [
    "print(cpd_cold)"
   ]
  },
  {
   "cell_type": "code",
   "execution_count": 32,
   "metadata": {},
   "outputs": [
    {
     "data": {
      "text/plain": [
       "<TabularCPD representing P(Fever:2 | Cold:2) at 0x148678f7240>"
      ]
     },
     "execution_count": 32,
     "metadata": {},
     "output_type": "execute_result"
    }
   ],
   "source": [
    "cpd_fever"
   ]
  },
  {
   "cell_type": "code",
   "execution_count": 33,
   "metadata": {},
   "outputs": [
    {
     "name": "stdout",
     "output_type": "stream",
     "text": [
      "+----------+---------+---------+\n",
      "| Cold     | Cold(T) | Cold(F) |\n",
      "+----------+---------+---------+\n",
      "| Fever(T) | 0.307   | 0.01    |\n",
      "+----------+---------+---------+\n",
      "| Fever(F) | 0.693   | 0.99    |\n",
      "+----------+---------+---------+\n"
     ]
    }
   ],
   "source": [
    "print(cpd_fever)"
   ]
  },
  {
   "cell_type": "markdown",
   "metadata": {},
   "source": [
    "## Q5 [5]\n",
    "- Add the defined CPDs to the model (Associate the CPDs with the network)"
   ]
  },
  {
   "cell_type": "code",
   "execution_count": 39,
   "metadata": {},
   "outputs": [
    {
     "data": {
      "text/plain": [
       "True"
      ]
     },
     "execution_count": 39,
     "metadata": {},
     "output_type": "execute_result"
    }
   ],
   "source": [
    "model.add_cpds(cpd_Smokes, cpd_LungDisease, cpd_ShortnessBreath, cpd_ChestPain, cpd_cold, cpd_cough, cpd_fever)\n",
    "model.check_model()"
   ]
  },
  {
   "cell_type": "markdown",
   "metadata": {},
   "source": [
    "## Q6 [5]\n",
    "- The cardinality of each of the nodes is 2 - True or False?"
   ]
  },
  {
   "cell_type": "code",
   "execution_count": 40,
   "metadata": {},
   "outputs": [
    {
     "data": {
      "text/plain": [
       "defaultdict(int,\n",
       "            {'Smokes': 2,\n",
       "             'LungDisease': 2,\n",
       "             'ShortnessBreath': 2,\n",
       "             'ChestPain': 2,\n",
       "             'Cold': 2,\n",
       "             'Cough': 2,\n",
       "             'Fever': 2})"
      ]
     },
     "execution_count": 40,
     "metadata": {},
     "output_type": "execute_result"
    }
   ],
   "source": [
    "model.get_cardinality()"
   ]
  },
  {
   "cell_type": "markdown",
   "metadata": {},
   "source": [
    "### Q7 [10] \n",
    "**Find the probability of each event hapenning using the variable elimination method.**\n",
    "- $ P(Smokes) $\n",
    "- $ P(Cold) $\n",
    "- $ P(LungDisease) $\n",
    "- $ P(ShortnessBreath) $\n",
    "- $ P(ChestPain) $\n",
    "- $ P(Fever) $\n",
    "- $ P(Cough) $\n",
    "- $ P(LungDisease|Smokes=True) $\n",
    "- $ P(LungDisease|Cough=True) $\n",
    "- $ P(ShortnessBreath|Smokes=True) $\n",
    "- $ P(ChestPain|Fever=True) $"
   ]
  },
  {
   "cell_type": "code",
   "execution_count": 55,
   "metadata": {},
   "outputs": [],
   "source": [
    "from pgmpy.inference import VariableElimination\n",
    "infer = VariableElimination(model)"
   ]
  },
  {
   "cell_type": "code",
   "execution_count": 56,
   "metadata": {
    "scrolled": true
   },
   "outputs": [
    {
     "name": "stdout",
     "output_type": "stream",
     "text": [
      "+-----------+---------------+\n",
      "| Smokes    |   phi(Smokes) |\n",
      "+===========+===============+\n",
      "| Smokes(T) |        0.2000 |\n",
      "+-----------+---------------+\n",
      "| Smokes(F) |        0.8000 |\n",
      "+-----------+---------------+\n",
      "+---------+-------------+\n",
      "| Cold    |   phi(Cold) |\n",
      "+=========+=============+\n",
      "| Cold(T) |      0.0200 |\n",
      "+---------+-------------+\n",
      "| Cold(F) |      0.9800 |\n",
      "+---------+-------------+\n",
      "+----------------+--------------------+\n",
      "| LungDisease    |   phi(LungDisease) |\n",
      "+================+====================+\n",
      "| LungDisease(T) |             0.0210 |\n",
      "+----------------+--------------------+\n",
      "| LungDisease(F) |             0.9790 |\n",
      "+----------------+--------------------+\n",
      "+--------------------+------------------------+\n",
      "| ShortnessBreath    |   phi(ShortnessBreath) |\n",
      "+====================+========================+\n",
      "| ShortnessBreath(T) |                 0.0142 |\n",
      "+--------------------+------------------------+\n",
      "| ShortnessBreath(F) |                 0.9858 |\n",
      "+--------------------+------------------------+\n",
      "+--------------+------------------+\n",
      "| ChestPain    |   phi(ChestPain) |\n",
      "+==============+==================+\n",
      "| ChestPain(T) |           0.0142 |\n",
      "+--------------+------------------+\n",
      "| ChestPain(F) |           0.9858 |\n",
      "+--------------+------------------+\n",
      "+----------+--------------+\n",
      "| Fever    |   phi(Fever) |\n",
      "+==========+==============+\n",
      "| Fever(T) |       0.0159 |\n",
      "+----------+--------------+\n",
      "| Fever(F) |       0.9841 |\n",
      "+----------+--------------+\n",
      "+----------+--------------+\n",
      "| Cough    |   phi(Cough) |\n",
      "+==========+==============+\n",
      "| Cough(T) |       0.0302 |\n",
      "+----------+--------------+\n",
      "| Cough(F) |       0.9698 |\n",
      "+----------+--------------+\n",
      "+----------------+--------------------+\n",
      "| LungDisease    |   phi(LungDisease) |\n",
      "+================+====================+\n",
      "| LungDisease(T) |             0.1009 |\n",
      "+----------------+--------------------+\n",
      "| LungDisease(F) |             0.8991 |\n",
      "+----------------+--------------------+\n",
      "+----------------+--------------------+\n",
      "| LungDisease    |   phi(LungDisease) |\n",
      "+================+====================+\n",
      "| LungDisease(T) |             0.3545 |\n",
      "+----------------+--------------------+\n",
      "| LungDisease(F) |             0.6455 |\n",
      "+----------------+--------------------+\n",
      "+--------------------+------------------------+\n",
      "| ShortnessBreath    |   phi(ShortnessBreath) |\n",
      "+====================+========================+\n",
      "| ShortnessBreath(T) |                 0.0300 |\n",
      "+--------------------+------------------------+\n",
      "| ShortnessBreath(F) |                 0.9700 |\n",
      "+--------------------+------------------------+\n",
      "+--------------+------------------+\n",
      "| ChestPain    |   phi(ChestPain) |\n",
      "+==============+==================+\n",
      "| ChestPain(T) |           0.0142 |\n",
      "+--------------+------------------+\n",
      "| ChestPain(F) |           0.9858 |\n",
      "+--------------+------------------+\n"
     ]
    }
   ],
   "source": [
    "dist = infer.query(['Smokes'])\n",
    "print(dist)\n",
    "\n",
    "dist1 = infer.query(['Cold'])\n",
    "print(dist1)\n",
    "\n",
    "dist2 = infer.query(['LungDisease'])\n",
    "print(dist2)\n",
    "\n",
    "dist3 = infer.query(['ShortnessBreath'])\n",
    "print(dist3)\n",
    "\n",
    "dist4 = infer.query(['ChestPain'])\n",
    "print(dist4)\n",
    "\n",
    "dist5 = infer.query(['Fever'])\n",
    "print(dist5)\n",
    "\n",
    "dist6= infer.query(['Cough'])\n",
    "print(dist6)\n",
    "\n",
    "dist7 = infer.query(['LungDisease'], evidence={'Smokes':'T'})\n",
    "print(dist7)\n",
    "\n",
    "dist8 = infer.query(['LungDisease'], evidence={'Cough':'T'})\n",
    "print(dist8)\n",
    "\n",
    "dist9 = infer.query(['ShortnessBreath'], evidence={'Smokes':'T'})\n",
    "print(dist9)\n",
    "\n",
    "dist10 = infer.query(['ChestPain'], evidence={'Fever':'T'})\n",
    "print(dist10)"
   ]
  },
  {
   "cell_type": "markdown",
   "metadata": {},
   "source": []
  },
  {
   "cell_type": "markdown",
   "metadata": {},
   "source": [
    "## Q8 [15] \n",
    "**Are the following  true? If not, can you make them independent by including info on the parent?**\n",
    "1. Cough is independent from Fever. (Having knowledge about Fever does not change the probability of Cough) \n",
    "2. Fever is independent from Smokes. \n",
    "3. ChestPain is independent from Smokes.\n",
    "4. ChestPain is independent from Smokes given LungDisease.\n"
   ]
  },
  {
   "cell_type": "markdown",
   "metadata": {},
   "source": [
    "##### 1. Cough is independent from Fever"
   ]
  },
  {
   "cell_type": "code",
   "execution_count": 45,
   "metadata": {},
   "outputs": [
    {
     "name": "stdout",
     "output_type": "stream",
     "text": [
      "+----------+--------------+\n",
      "| Cough    |   phi(Cough) |\n",
      "+==========+==============+\n",
      "| Cough(T) |       0.0302 |\n",
      "+----------+--------------+\n",
      "| Cough(F) |       0.9698 |\n",
      "+----------+--------------+\n",
      "+----------+--------------+\n",
      "| Cough    |   phi(Cough) |\n",
      "+==========+==============+\n",
      "| Cough(T) |       0.2091 |\n",
      "+----------+--------------+\n",
      "| Cough(F) |       0.7909 |\n",
      "+----------+--------------+\n",
      "+----------+--------------+\n",
      "| Cough    |   phi(Cough) |\n",
      "+==========+==============+\n",
      "| Cough(T) |       0.0273 |\n",
      "+----------+--------------+\n",
      "| Cough(F) |       0.9727 |\n",
      "+----------+--------------+\n"
     ]
    }
   ],
   "source": [
    "dist = infer.query(['Cough'])\n",
    "print(dist)\n",
    "\n",
    "dist = infer.query(['Cough'], evidence={'Fever':'T'})\n",
    "print(dist)\n",
    "\n",
    "dist = infer.query(['Cough'], evidence={'Fever':'F'})\n",
    "print(dist)"
   ]
  },
  {
   "cell_type": "markdown",
   "metadata": {},
   "source": [
    "- Fever does affect Cough -> Not independent\n",
    "- However, given the parent of both Fever and Cough (Cold), they should be independent."
   ]
  },
  {
   "cell_type": "code",
   "execution_count": 46,
   "metadata": {},
   "outputs": [
    {
     "name": "stdout",
     "output_type": "stream",
     "text": [
      "+----------+--------------+\n",
      "| Cough    |   phi(Cough) |\n",
      "+==========+==============+\n",
      "| Cough(T) |       0.0204 |\n",
      "+----------+--------------+\n",
      "| Cough(F) |       0.9796 |\n",
      "+----------+--------------+\n",
      "+----------+--------------+\n",
      "| Cough    |   phi(Cough) |\n",
      "+==========+==============+\n",
      "| Cough(T) |       0.0204 |\n",
      "+----------+--------------+\n",
      "| Cough(F) |       0.9796 |\n",
      "+----------+--------------+\n",
      "+----------+--------------+\n",
      "| Cough    |   phi(Cough) |\n",
      "+==========+==============+\n",
      "| Cough(T) |       0.5102 |\n",
      "+----------+--------------+\n",
      "| Cough(F) |       0.4898 |\n",
      "+----------+--------------+\n",
      "+----------+--------------+\n",
      "| Cough    |   phi(Cough) |\n",
      "+==========+==============+\n",
      "| Cough(T) |       0.5102 |\n",
      "+----------+--------------+\n",
      "| Cough(F) |       0.4898 |\n",
      "+----------+--------------+\n"
     ]
    }
   ],
   "source": [
    "dist = infer.query(['Cough'], evidence={'Cold':'F', 'Fever':'T'})\n",
    "print(dist)\n",
    "\n",
    "dist = infer.query(['Cough'], evidence={'Cold':'F', 'Fever':'F'})\n",
    "print(dist)\n",
    "\n",
    "dist = infer.query(['Cough'], evidence={'Cold':'T', 'Fever':'T'})\n",
    "print(dist)\n",
    "\n",
    "dist = infer.query(['Cough'], evidence={'Cold':'T', 'Fever':'F'})\n",
    "print(dist)"
   ]
  },
  {
   "cell_type": "markdown",
   "metadata": {},
   "source": [
    "##### 2. Fever is independent from Smokes. "
   ]
  },
  {
   "cell_type": "code",
   "execution_count": 49,
   "metadata": {},
   "outputs": [
    {
     "name": "stdout",
     "output_type": "stream",
     "text": [
      "+----------+--------------+\n",
      "| Fever    |   phi(Fever) |\n",
      "+==========+==============+\n",
      "| Fever(T) |       0.0159 |\n",
      "+----------+--------------+\n",
      "| Fever(F) |       0.9841 |\n",
      "+----------+--------------+\n",
      "+----------+--------------+\n",
      "| Fever    |   phi(Fever) |\n",
      "+==========+==============+\n",
      "| Fever(T) |       0.0159 |\n",
      "+----------+--------------+\n",
      "| Fever(F) |       0.9841 |\n",
      "+----------+--------------+\n",
      "+----------+--------------+\n",
      "| Fever    |   phi(Fever) |\n",
      "+==========+==============+\n",
      "| Fever(T) |       0.0159 |\n",
      "+----------+--------------+\n",
      "| Fever(F) |       0.9841 |\n",
      "+----------+--------------+\n"
     ]
    }
   ],
   "source": [
    "dist5 = infer.query(['Fever'])\n",
    "print(dist5)\n",
    "\n",
    "dist5 = infer.query(['Fever'], evidence={'Smokes' :'T'})\n",
    "print(dist5)\n",
    "\n",
    "dist5 = infer.query(['Fever'], evidence={'Smokes' :'F'})\n",
    "print(dist5)"
   ]
  },
  {
   "cell_type": "markdown",
   "metadata": {},
   "source": [
    "Fever is independent from Smokes."
   ]
  },
  {
   "cell_type": "markdown",
   "metadata": {},
   "source": [
    "##### 3. ChestPain is independent from Smokes."
   ]
  },
  {
   "cell_type": "code",
   "execution_count": 50,
   "metadata": {},
   "outputs": [
    {
     "name": "stdout",
     "output_type": "stream",
     "text": [
      "+--------------+------------------+\n",
      "| ChestPain    |   phi(ChestPain) |\n",
      "+==============+==================+\n",
      "| ChestPain(T) |           0.0142 |\n",
      "+--------------+------------------+\n",
      "| ChestPain(F) |           0.9858 |\n",
      "+--------------+------------------+\n",
      "+--------------+------------------+\n",
      "| ChestPain    |   phi(ChestPain) |\n",
      "+==============+==================+\n",
      "| ChestPain(T) |           0.0300 |\n",
      "+--------------+------------------+\n",
      "| ChestPain(F) |           0.9700 |\n",
      "+--------------+------------------+\n",
      "+--------------+------------------+\n",
      "| ChestPain    |   phi(ChestPain) |\n",
      "+==============+==================+\n",
      "| ChestPain(T) |           0.0102 |\n",
      "+--------------+------------------+\n",
      "| ChestPain(F) |           0.9898 |\n",
      "+--------------+------------------+\n"
     ]
    }
   ],
   "source": [
    "dist4 = infer.query(['ChestPain'])\n",
    "print(dist4)\n",
    "\n",
    "dist4 = infer.query(['ChestPain'], evidence={'Smokes' :'T'})\n",
    "print(dist4)\n",
    "\n",
    "dist4 = infer.query(['ChestPain'], evidence={'Smokes' :'F'})\n",
    "print(dist4)"
   ]
  },
  {
   "cell_type": "markdown",
   "metadata": {},
   "source": [
    "ChestPain is not indepdent from Smokes."
   ]
  },
  {
   "cell_type": "markdown",
   "metadata": {},
   "source": [
    "#### 4. ChestPain is independent from Smokes given LungDisease."
   ]
  },
  {
   "cell_type": "code",
   "execution_count": 54,
   "metadata": {},
   "outputs": [
    {
     "name": "stdout",
     "output_type": "stream",
     "text": [
      "+--------------+----------------+------------------------------+\n",
      "| ChestPain    | LungDisease    |   phi(ChestPain,LungDisease) |\n",
      "+==============+================+==============================+\n",
      "| ChestPain(T) | LungDisease(T) |                       0.0044 |\n",
      "+--------------+----------------+------------------------------+\n",
      "| ChestPain(T) | LungDisease(F) |                       0.0098 |\n",
      "+--------------+----------------+------------------------------+\n",
      "| ChestPain(F) | LungDisease(T) |                       0.0166 |\n",
      "+--------------+----------------+------------------------------+\n",
      "| ChestPain(F) | LungDisease(F) |                       0.9692 |\n",
      "+--------------+----------------+------------------------------+\n",
      "+--------------+----------------+------------------------------+\n",
      "| ChestPain    | LungDisease    |   phi(ChestPain,LungDisease) |\n",
      "+==============+================+==============================+\n",
      "| ChestPain(T) | LungDisease(T) |                       0.0210 |\n",
      "+--------------+----------------+------------------------------+\n",
      "| ChestPain(T) | LungDisease(F) |                       0.0090 |\n",
      "+--------------+----------------+------------------------------+\n",
      "| ChestPain(F) | LungDisease(T) |                       0.0799 |\n",
      "+--------------+----------------+------------------------------+\n",
      "| ChestPain(F) | LungDisease(F) |                       0.8901 |\n",
      "+--------------+----------------+------------------------------+\n",
      "+--------------+----------------+------------------------------+\n",
      "| ChestPain    | LungDisease    |   phi(ChestPain,LungDisease) |\n",
      "+==============+================+==============================+\n",
      "| ChestPain(T) | LungDisease(T) |                       0.0002 |\n",
      "+--------------+----------------+------------------------------+\n",
      "| ChestPain(T) | LungDisease(F) |                       0.0100 |\n",
      "+--------------+----------------+------------------------------+\n",
      "| ChestPain(F) | LungDisease(T) |                       0.0008 |\n",
      "+--------------+----------------+------------------------------+\n",
      "| ChestPain(F) | LungDisease(F) |                       0.9890 |\n",
      "+--------------+----------------+------------------------------+\n"
     ]
    }
   ],
   "source": [
    "dist4 = infer.query(['ChestPain', 'LungDisease'])\n",
    "print(dist4)\n",
    "\n",
    "dist4 = infer.query(['ChestPain', 'LungDisease'], evidence={'Smokes' :'T'})\n",
    "print(dist4)\n",
    "\n",
    "dist4 = infer.query(['ChestPain', 'LungDisease'], evidence={'Smokes' :'F'})\n",
    "print(dist4)"
   ]
  },
  {
   "cell_type": "markdown",
   "metadata": {},
   "source": [
    "ChestPain is not independent from Smokes given LungDisease.\n"
   ]
  },
  {
   "cell_type": "markdown",
   "metadata": {},
   "source": [
    "## Q9 [20]\n",
    "1. Does having the knowledge that the person is coughing increase the probability of lung disease?\n",
    "2. Does having the knowledge that the person is coughing increase the probability that the person has Cold?\n",
    "3. Does having the knowledge that the person is coughing increase the probability that there is Fever?\n",
    "4. Does having the knowledge that the person is coughing increase the probability that there is Fever, given the person has Cold?\n",
    "5. Does having the knowledge that the person has Fever increase the probability that there is Lung Disease?\n"
   ]
  },
  {
   "cell_type": "markdown",
   "metadata": {},
   "source": [
    "##### 1. Does having the knowledge that the person is coughing increase the probability of lung disease? [5]"
   ]
  },
  {
   "cell_type": "code",
   "execution_count": 57,
   "metadata": {},
   "outputs": [
    {
     "name": "stdout",
     "output_type": "stream",
     "text": [
      "+----------------+--------------------+\n",
      "| LungDisease    |   phi(LungDisease) |\n",
      "+================+====================+\n",
      "| LungDisease(T) |             0.0210 |\n",
      "+----------------+--------------------+\n",
      "| LungDisease(F) |             0.9790 |\n",
      "+----------------+--------------------+\n",
      "+----------------+--------------------+\n",
      "| LungDisease    |   phi(LungDisease) |\n",
      "+================+====================+\n",
      "| LungDisease(T) |             0.3545 |\n",
      "+----------------+--------------------+\n",
      "| LungDisease(F) |             0.6455 |\n",
      "+----------------+--------------------+\n"
     ]
    }
   ],
   "source": [
    "dist = infer.query(['LungDisease'])\n",
    "print(dist)\n",
    "dist = infer.query(['LungDisease'], evidence={'Cough': 'T'})\n",
    "print(dist)"
   ]
  },
  {
   "cell_type": "markdown",
   "metadata": {},
   "source": [
    "Having the knowledge that the person is coughing increases the probability of lung disease."
   ]
  },
  {
   "cell_type": "markdown",
   "metadata": {},
   "source": [
    "##### 2. Does having the knowledge that the person is coughing increase the probability that the person has Cold? [5]"
   ]
  },
  {
   "cell_type": "code",
   "execution_count": 58,
   "metadata": {},
   "outputs": [
    {
     "name": "stdout",
     "output_type": "stream",
     "text": [
      "+---------+-------------+\n",
      "| Cold    |   phi(Cold) |\n",
      "+=========+=============+\n",
      "| Cold(T) |      0.0200 |\n",
      "+---------+-------------+\n",
      "| Cold(F) |      0.9800 |\n",
      "+---------+-------------+\n",
      "+---------+-------------+\n",
      "| Cold    |   phi(Cold) |\n",
      "+=========+=============+\n",
      "| Cold(T) |      0.3381 |\n",
      "+---------+-------------+\n",
      "| Cold(F) |      0.6619 |\n",
      "+---------+-------------+\n"
     ]
    }
   ],
   "source": [
    "dist1 = infer.query(['Cold'])\n",
    "print(dist1)\n",
    "\n",
    "dist1 = infer.query(['Cold'], evidence={'Cough':'T'})\n",
    "print(dist1)"
   ]
  },
  {
   "cell_type": "markdown",
   "metadata": {},
   "source": [
    "Yes, having the knowledge that a person is coughing does increase the probability that the person has a cold."
   ]
  },
  {
   "cell_type": "markdown",
   "metadata": {},
   "source": [
    "##### 3. Does having the knowledge that the person is coughing increase the probability that there is Fever? [5]"
   ]
  },
  {
   "cell_type": "code",
   "execution_count": 60,
   "metadata": {
    "scrolled": true
   },
   "outputs": [
    {
     "name": "stdout",
     "output_type": "stream",
     "text": [
      "+----------+--------------+\n",
      "| Fever    |   phi(Fever) |\n",
      "+==========+==============+\n",
      "| Fever(T) |       0.0159 |\n",
      "+----------+--------------+\n",
      "| Fever(F) |       0.9841 |\n",
      "+----------+--------------+\n",
      "+----------+--------------+\n",
      "| Fever    |   phi(Fever) |\n",
      "+==========+==============+\n",
      "| Fever(T) |       0.0159 |\n",
      "+----------+--------------+\n",
      "| Fever(F) |       0.9841 |\n",
      "+----------+--------------+\n"
     ]
    }
   ],
   "source": [
    "dist2 = infer.query(['Fever'])\n",
    "print(dist2)\n",
    "\n",
    "dist3 = infer.query(['Fever'], evidence={'Cough' : 'T'})\n",
    "print(dist2)"
   ]
  },
  {
   "cell_type": "markdown",
   "metadata": {},
   "source": [
    "Yes, having the knowledge that a person is coughing does increase the probability that the person has a fever."
   ]
  },
  {
   "cell_type": "markdown",
   "metadata": {},
   "source": [
    "##### 4. Does having the knowledge that the person is coughing increase the probability that there is Fever, given the person has Cold?"
   ]
  },
  {
   "cell_type": "code",
   "execution_count": 65,
   "metadata": {},
   "outputs": [
    {
     "name": "stdout",
     "output_type": "stream",
     "text": [
      "+----------+--------------+\n",
      "| Fever    |   phi(Fever) |\n",
      "+==========+==============+\n",
      "| Fever(T) |       0.0159 |\n",
      "+----------+--------------+\n",
      "| Fever(F) |       0.9841 |\n",
      "+----------+--------------+\n",
      "+----------+--------------+\n",
      "| Fever    |   phi(Fever) |\n",
      "+==========+==============+\n",
      "| Fever(T) |       0.3070 |\n",
      "+----------+--------------+\n",
      "| Fever(F) |       0.6930 |\n",
      "+----------+--------------+\n"
     ]
    }
   ],
   "source": [
    "dist3 = infer.query(['Fever'])\n",
    "print(dist3)\n",
    "\n",
    "dist3 = infer.query(['Fever'], evidence={'Cold' : 'T', 'Cough':'T'})\n",
    "print(dist3)\n",
    "\n"
   ]
  },
  {
   "cell_type": "markdown",
   "metadata": {},
   "source": [
    "Yes, having the knowledge that a person is coughing and has a cold does increase the probability that the person has a fever."
   ]
  },
  {
   "cell_type": "markdown",
   "metadata": {},
   "source": [
    "##### 5. Does having the knowledge that the person has Fever increase the probability that there is Lung Disease?"
   ]
  },
  {
   "cell_type": "code",
   "execution_count": 66,
   "metadata": {},
   "outputs": [
    {
     "name": "stdout",
     "output_type": "stream",
     "text": [
      "+----------------+--------------------+\n",
      "| LungDisease    |   phi(LungDisease) |\n",
      "+================+====================+\n",
      "| LungDisease(T) |             0.0210 |\n",
      "+----------------+--------------------+\n",
      "| LungDisease(F) |             0.9790 |\n",
      "+----------------+--------------------+\n",
      "+----------------+--------------------+\n",
      "| LungDisease    |   phi(LungDisease) |\n",
      "+================+====================+\n",
      "| LungDisease(T) |             0.0210 |\n",
      "+----------------+--------------------+\n",
      "| LungDisease(F) |             0.9790 |\n",
      "+----------------+--------------------+\n"
     ]
    }
   ],
   "source": [
    "dist4 = infer.query(['LungDisease'])\n",
    "print(dist4)\n",
    "\n",
    "dist4 = infer.query(['LungDisease'], evidence={'Fever':'T'})\n",
    "print(dist4)"
   ]
  },
  {
   "cell_type": "markdown",
   "metadata": {},
   "source": [
    "No, if a person has a fever, there is no probablity that they have lung disease."
   ]
  },
  {
   "cell_type": "markdown",
   "metadata": {},
   "source": [
    "## Q10 [5]\n",
    "1. What's the most probable state of Cough? \n",
    "2. What's the most probable state of Cough given Cold is True? \n",
    "3. What's the most probable state of Cough given Cold is True and Lung Disease is True?"
   ]
  },
  {
   "cell_type": "markdown",
   "metadata": {},
   "source": [
    "##### 1. What's the most probable state of Cough? "
   ]
  },
  {
   "cell_type": "code",
   "execution_count": 69,
   "metadata": {},
   "outputs": [
    {
     "data": {
      "application/vnd.jupyter.widget-view+json": {
       "model_id": "86a4e0f49263471ba82f196454473387",
       "version_major": 2,
       "version_minor": 0
      },
      "text/plain": [
       "HBox(children=(FloatProgress(value=0.0, max=3.0), HTML(value='')))"
      ]
     },
     "metadata": {},
     "output_type": "display_data"
    },
    {
     "data": {
      "application/vnd.jupyter.widget-view+json": {
       "model_id": "3f268504abc74e198a470d7eabdd7444",
       "version_major": 2,
       "version_minor": 0
      },
      "text/plain": [
       "HBox(children=(FloatProgress(value=0.0, max=3.0), HTML(value='')))"
      ]
     },
     "metadata": {},
     "output_type": "display_data"
    },
    {
     "name": "stdout",
     "output_type": "stream",
     "text": [
      "\n"
     ]
    },
    {
     "data": {
      "text/plain": [
       "{'Cough': 'F'}"
      ]
     },
     "execution_count": 69,
     "metadata": {},
     "output_type": "execute_result"
    }
   ],
   "source": [
    "infer.map_query(['Cough'])"
   ]
  },
  {
   "cell_type": "markdown",
   "metadata": {},
   "source": [
    "The most probable state of Cough is False."
   ]
  },
  {
   "cell_type": "markdown",
   "metadata": {},
   "source": [
    "##### 2. What's the most probable state of Cough given Cold is True? "
   ]
  },
  {
   "cell_type": "code",
   "execution_count": 67,
   "metadata": {},
   "outputs": [
    {
     "data": {
      "application/vnd.jupyter.widget-view+json": {
       "model_id": "497177240b574f6e8fa8ae8c4bd7c0eb",
       "version_major": 2,
       "version_minor": 0
      },
      "text/plain": [
       "HBox(children=(FloatProgress(value=0.0, max=2.0), HTML(value='')))"
      ]
     },
     "metadata": {},
     "output_type": "display_data"
    },
    {
     "data": {
      "application/vnd.jupyter.widget-view+json": {
       "model_id": "8680be008b874e58bc488518556c8610",
       "version_major": 2,
       "version_minor": 0
      },
      "text/plain": [
       "HBox(children=(FloatProgress(value=0.0, max=2.0), HTML(value='')))"
      ]
     },
     "metadata": {},
     "output_type": "display_data"
    },
    {
     "name": "stdout",
     "output_type": "stream",
     "text": [
      "\n"
     ]
    },
    {
     "data": {
      "text/plain": [
       "{'Cough': 'T'}"
      ]
     },
     "execution_count": 67,
     "metadata": {},
     "output_type": "execute_result"
    }
   ],
   "source": [
    "infer.map_query(['Cough'], evidence={'Cold': 'T'})"
   ]
  },
  {
   "cell_type": "markdown",
   "metadata": {},
   "source": [
    "The most probable state of Cough given Cold is True."
   ]
  },
  {
   "cell_type": "markdown",
   "metadata": {},
   "source": [
    "##### 3. What's the most probable state of Cough given Cold is True and Lung Disease is True?"
   ]
  },
  {
   "cell_type": "code",
   "execution_count": 68,
   "metadata": {},
   "outputs": [
    {
     "data": {
      "application/vnd.jupyter.widget-view+json": {
       "model_id": "fa10b2a01b974153887cafbf8ed2fce6",
       "version_major": 2,
       "version_minor": 0
      },
      "text/plain": [
       "HBox(children=(FloatProgress(value=1.0, bar_style='info', max=1.0), HTML(value='')))"
      ]
     },
     "metadata": {},
     "output_type": "display_data"
    },
    {
     "name": "stdout",
     "output_type": "stream",
     "text": [
      "\n"
     ]
    },
    {
     "data": {
      "application/vnd.jupyter.widget-view+json": {
       "model_id": "6363c6a30e1f461992c9bcac59bac6ea",
       "version_major": 2,
       "version_minor": 0
      },
      "text/plain": [
       "HBox(children=(FloatProgress(value=1.0, bar_style='info', max=1.0), HTML(value='')))"
      ]
     },
     "metadata": {},
     "output_type": "display_data"
    },
    {
     "name": "stdout",
     "output_type": "stream",
     "text": [
      "\n"
     ]
    },
    {
     "data": {
      "text/plain": [
       "{'Cough': 'T'}"
      ]
     },
     "execution_count": 68,
     "metadata": {},
     "output_type": "execute_result"
    }
   ],
   "source": [
    "infer.map_query(['Cough'], evidence={'Cold': 'T', 'LungDisease': 'T'})"
   ]
  },
  {
   "cell_type": "markdown",
   "metadata": {},
   "source": [
    "The most probable state of Cough given Cold and Lung Disease is True"
   ]
  },
  {
   "cell_type": "markdown",
   "metadata": {},
   "source": [
    "# Well done!"
   ]
  }
 ],
 "metadata": {
  "kernelspec": {
   "display_name": "Python 3",
   "language": "python",
   "name": "python3"
  },
  "language_info": {
   "codemirror_mode": {
    "name": "ipython",
    "version": 3
   },
   "file_extension": ".py",
   "mimetype": "text/x-python",
   "name": "python",
   "nbconvert_exporter": "python",
   "pygments_lexer": "ipython3",
   "version": "3.7.3"
  },
  "toc": {
   "base_numbering": 1,
   "nav_menu": {},
   "number_sections": false,
   "sideBar": false,
   "skip_h1_title": false,
   "title_cell": "Table of Contents",
   "title_sidebar": "Contents",
   "toc_cell": false,
   "toc_position": {},
   "toc_section_display": false,
   "toc_window_display": false
  }
 },
 "nbformat": 4,
 "nbformat_minor": 4
}
