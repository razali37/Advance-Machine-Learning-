{
 "cells": [
  {
   "cell_type": "markdown",
   "metadata": {},
   "source": [
    "# DSC540 Project 3"
   ]
  },
  {
   "cell_type": "markdown",
   "metadata": {},
   "source": [
    "DePaul University  \n",
    "Ilyas Ustun, PhD  \n",
    "Chicago, IL  "
   ]
  },
  {
   "cell_type": "markdown",
   "metadata": {},
   "source": [
    "## Rules\n",
    "- Write your code under the corresponding questions. You are encouraged to use more than one cell.\n",
    "- Provide explanation in a separate Markdown formatted cell. \n",
    "- You can change the cell type by:\n",
    "    - Click on the outer area of the cell type you want to change,\n",
    "    - Go to the top, and select either Code or Markdown from the dropdown menu.\n",
    "- Be concise in your explanations and conclusions.\n",
    "- Write clear code and provide explanation to functions you create by using `#` comment sign.\n",
    "- Try to answer the questions by yourself. Use documentation from pandas, sklearn and similar libraries to solve the problem.\n",
    "- If you are stuck you can use different resources. Do not find an identical project and copy paste the solutions. \n",
    "- Write your name at the beginning of the jupyter notebook.\n",
    "\n",
    "\n",
    "Important:  \n",
    "- **Do NOT share the solutions with other people.**\n",
    "- **Do NOT share the solutions on the internet including but not limited to Github and other platforms.**\n",
    "- Sign the Honor Pledge below indicating that you have agreed to these rules listed here, and any other ethical and honor rules as required by the university.\n",
    "\n",
    "\n",
    "\n",
    "- **Deliverables:**\n",
    "    1. The Python Jupyter notebook file named properly with your name. Example: dsc540_project1_john_doe.ipynb\n",
    "    2. The HTML output of this code notebook names the same way. Example: dsc540_project1_john_doe.html\n",
    "        - File -> Download as -> HTML  \n",
    "        \n",
    "        \n",
    "**DO NOT zip the files.**\n",
    "\n",
    "Good Luck!"
   ]
  },
  {
   "cell_type": "markdown",
   "metadata": {},
   "source": [
    "### SYED NOOR RAZI ALI"
   ]
  },
  {
   "cell_type": "markdown",
   "metadata": {},
   "source": [
    "**Honor Pledge:**  \n",
    "I pledge on my honor that I, **SYED NOOR RAZI ALI**, have followed the rules listed above, that I have not given or received any unauthorized assistance on this assignment. \n"
   ]
  },
  {
   "cell_type": "markdown",
   "metadata": {},
   "source": [
    "\n",
    "## Project Description\n",
    "\n",
    "In this project we will be analyzing CO and NOX gas emissions from a power plant. The variables, their meanings and some statistics are given in the table below."
   ]
  },
  {
   "cell_type": "markdown",
   "metadata": {},
   "source": [
    "![PowerPlantEmissionsFeaturesTable](PowerPlantEmissionsFeaturesTable.PNG)"
   ]
  },
  {
   "cell_type": "markdown",
   "metadata": {},
   "source": [
    "## Import Libraries\n",
    "\n",
    "**Import the usual libraries for pandas and plotting, and sklearn.**"
   ]
  },
  {
   "cell_type": "code",
   "execution_count": 1,
   "metadata": {},
   "outputs": [],
   "source": [
    "import pandas as pd\n",
    "import numpy as np\n",
    "import matplotlib.pyplot as plt\n",
    "import seaborn as sns\n",
    "\n",
    "from sklearn import metrics\n",
    "from sklearn.model_selection import GridSearchCV\n",
    "from sklearn import metrics\n",
    "from sklearn.metrics import r2_score, mean_squared_error\n"
   ]
  },
  {
   "cell_type": "code",
   "execution_count": 2,
   "metadata": {},
   "outputs": [
    {
     "data": {
      "text/plain": [
       "'1.0.2'"
      ]
     },
     "execution_count": 2,
     "metadata": {},
     "output_type": "execute_result"
    }
   ],
   "source": [
    "import sklearn\n",
    "sklearn.__version__"
   ]
  },
  {
   "cell_type": "code",
   "execution_count": 3,
   "metadata": {},
   "outputs": [],
   "source": [
    "pd.set_option('display.max_columns', 100)\n",
    "RANDOM_STATE = 0"
   ]
  },
  {
   "cell_type": "markdown",
   "metadata": {},
   "source": [
    "### These are the packages I used"
   ]
  },
  {
   "cell_type": "code",
   "execution_count": 4,
   "metadata": {},
   "outputs": [],
   "source": [
    "# Your package imports here"
   ]
  },
  {
   "cell_type": "code",
   "execution_count": null,
   "metadata": {},
   "outputs": [],
   "source": []
  },
  {
   "cell_type": "markdown",
   "metadata": {},
   "source": [
    "> NOTE: For the Kernel RBF SVM hyper parameter tuning use these parameters in the questions:\n",
    "        \n",
    "        'C': [1, 10, 100, 1000]\n",
    "        'gamma': [0.001, 0.01, 0.1, 1]"
   ]
  },
  {
   "cell_type": "markdown",
   "metadata": {},
   "source": [
    "## Q1 [10]\n",
    "- Read in the dataset\n",
    "- How many rows and variables are there?\n"
   ]
  },
  {
   "cell_type": "markdown",
   "metadata": {},
   "source": [
    "#### Get the Data\n",
    "\n",
    "**Use pandas to read in the datasets as a dataframe.**"
   ]
  },
  {
   "cell_type": "code",
   "execution_count": 5,
   "metadata": {},
   "outputs": [],
   "source": [
    "df = pd.read_csv('gas_emissions.csv')"
   ]
  },
  {
   "cell_type": "code",
   "execution_count": 6,
   "metadata": {},
   "outputs": [
    {
     "data": {
      "text/html": [
       "<div>\n",
       "<style scoped>\n",
       "    .dataframe tbody tr th:only-of-type {\n",
       "        vertical-align: middle;\n",
       "    }\n",
       "\n",
       "    .dataframe tbody tr th {\n",
       "        vertical-align: top;\n",
       "    }\n",
       "\n",
       "    .dataframe thead th {\n",
       "        text-align: right;\n",
       "    }\n",
       "</style>\n",
       "<table border=\"1\" class=\"dataframe\">\n",
       "  <thead>\n",
       "    <tr style=\"text-align: right;\">\n",
       "      <th></th>\n",
       "      <th>AT</th>\n",
       "      <th>AP</th>\n",
       "      <th>AH</th>\n",
       "      <th>AFDP</th>\n",
       "      <th>GTEP</th>\n",
       "      <th>TIT</th>\n",
       "      <th>TAT</th>\n",
       "      <th>TEY</th>\n",
       "      <th>CDP</th>\n",
       "      <th>CO</th>\n",
       "      <th>NOX</th>\n",
       "    </tr>\n",
       "  </thead>\n",
       "  <tbody>\n",
       "    <tr>\n",
       "      <th>0</th>\n",
       "      <td>1.95320</td>\n",
       "      <td>1020.1</td>\n",
       "      <td>84.985</td>\n",
       "      <td>2.5304</td>\n",
       "      <td>20.116</td>\n",
       "      <td>1048.7</td>\n",
       "      <td>544.92</td>\n",
       "      <td>116.27</td>\n",
       "      <td>10.799</td>\n",
       "      <td>7.4491</td>\n",
       "      <td>113.250</td>\n",
       "    </tr>\n",
       "    <tr>\n",
       "      <th>1</th>\n",
       "      <td>1.21910</td>\n",
       "      <td>1020.1</td>\n",
       "      <td>87.523</td>\n",
       "      <td>2.3937</td>\n",
       "      <td>18.584</td>\n",
       "      <td>1045.5</td>\n",
       "      <td>548.50</td>\n",
       "      <td>109.18</td>\n",
       "      <td>10.347</td>\n",
       "      <td>6.4684</td>\n",
       "      <td>112.020</td>\n",
       "    </tr>\n",
       "    <tr>\n",
       "      <th>2</th>\n",
       "      <td>0.94915</td>\n",
       "      <td>1022.2</td>\n",
       "      <td>78.335</td>\n",
       "      <td>2.7789</td>\n",
       "      <td>22.264</td>\n",
       "      <td>1068.8</td>\n",
       "      <td>549.95</td>\n",
       "      <td>125.88</td>\n",
       "      <td>11.256</td>\n",
       "      <td>3.6335</td>\n",
       "      <td>88.147</td>\n",
       "    </tr>\n",
       "    <tr>\n",
       "      <th>3</th>\n",
       "      <td>1.00750</td>\n",
       "      <td>1021.7</td>\n",
       "      <td>76.942</td>\n",
       "      <td>2.8170</td>\n",
       "      <td>23.358</td>\n",
       "      <td>1075.2</td>\n",
       "      <td>549.63</td>\n",
       "      <td>132.21</td>\n",
       "      <td>11.702</td>\n",
       "      <td>3.1972</td>\n",
       "      <td>87.078</td>\n",
       "    </tr>\n",
       "    <tr>\n",
       "      <th>4</th>\n",
       "      <td>1.28580</td>\n",
       "      <td>1021.6</td>\n",
       "      <td>76.732</td>\n",
       "      <td>2.8377</td>\n",
       "      <td>23.483</td>\n",
       "      <td>1076.2</td>\n",
       "      <td>549.68</td>\n",
       "      <td>133.58</td>\n",
       "      <td>11.737</td>\n",
       "      <td>2.3833</td>\n",
       "      <td>82.515</td>\n",
       "    </tr>\n",
       "  </tbody>\n",
       "</table>\n",
       "</div>"
      ],
      "text/plain": [
       "        AT      AP      AH    AFDP    GTEP     TIT     TAT     TEY     CDP  \\\n",
       "0  1.95320  1020.1  84.985  2.5304  20.116  1048.7  544.92  116.27  10.799   \n",
       "1  1.21910  1020.1  87.523  2.3937  18.584  1045.5  548.50  109.18  10.347   \n",
       "2  0.94915  1022.2  78.335  2.7789  22.264  1068.8  549.95  125.88  11.256   \n",
       "3  1.00750  1021.7  76.942  2.8170  23.358  1075.2  549.63  132.21  11.702   \n",
       "4  1.28580  1021.6  76.732  2.8377  23.483  1076.2  549.68  133.58  11.737   \n",
       "\n",
       "       CO      NOX  \n",
       "0  7.4491  113.250  \n",
       "1  6.4684  112.020  \n",
       "2  3.6335   88.147  \n",
       "3  3.1972   87.078  \n",
       "4  2.3833   82.515  "
      ]
     },
     "execution_count": 6,
     "metadata": {},
     "output_type": "execute_result"
    }
   ],
   "source": [
    "df.head()"
   ]
  },
  {
   "cell_type": "code",
   "execution_count": 7,
   "metadata": {},
   "outputs": [
    {
     "data": {
      "text/plain": [
       "(7384, 11)"
      ]
     },
     "execution_count": 7,
     "metadata": {},
     "output_type": "execute_result"
    }
   ],
   "source": [
    "df.shape"
   ]
  },
  {
   "cell_type": "markdown",
   "metadata": {},
   "source": [
    "#### Is there any missing data?"
   ]
  },
  {
   "cell_type": "code",
   "execution_count": 8,
   "metadata": {},
   "outputs": [
    {
     "data": {
      "text/plain": [
       "AT      0\n",
       "AP      0\n",
       "AH      0\n",
       "AFDP    0\n",
       "GTEP    0\n",
       "TIT     0\n",
       "TAT     0\n",
       "TEY     0\n",
       "CDP     0\n",
       "CO      0\n",
       "NOX     0\n",
       "dtype: int64"
      ]
     },
     "execution_count": 8,
     "metadata": {},
     "output_type": "execute_result"
    }
   ],
   "source": [
    "df.isnull().sum()"
   ]
  },
  {
   "cell_type": "markdown",
   "metadata": {},
   "source": [
    "#### What is the average value of AP for those points who have CO levels above 3 $mg/m^3$?"
   ]
  },
  {
   "cell_type": "code",
   "execution_count": 9,
   "metadata": {},
   "outputs": [
    {
     "data": {
      "text/plain": [
       "1015.6816853391157"
      ]
     },
     "execution_count": 9,
     "metadata": {},
     "output_type": "execute_result"
    }
   ],
   "source": [
    "ans1 = df[df['CO'] > 3].groupby('CO').AP.mean()\n",
    "         \n",
    "ans1.mean()"
   ]
  },
  {
   "cell_type": "markdown",
   "metadata": {},
   "source": [
    "#### Create a correlation map between the variables. Which variables have high correlation (> |0.9|)?"
   ]
  },
  {
   "cell_type": "code",
   "execution_count": 10,
   "metadata": {},
   "outputs": [
    {
     "data": {
      "text/plain": [
       "<matplotlib.axes._subplots.AxesSubplot at 0x1f9703d61d0>"
      ]
     },
     "execution_count": 10,
     "metadata": {},
     "output_type": "execute_result"
    },
    {
     "data": {
      "image/png": "[encoded data removed]",
      "text/plain": [
       "<Figure size 432x288 with 2 Axes>"
      ]
     },
     "metadata": {
      "needs_background": "light"
     },
     "output_type": "display_data"
    }
   ],
   "source": [
    "corr_map = df.corr()\n",
    "\n",
    "sns.heatmap(corr_map, annot=True)"
   ]
  },
  {
   "cell_type": "markdown",
   "metadata": {},
   "source": [
    "The following variales have correlation \n",
    "- CDP vs AFDP\n",
    "- TIT vs AFDP\n",
    "- CDP vs GTEP\n",
    "- TEY vs GTEP\n",
    "- TEY vs TIT\n",
    "- CDP vs TIT\n",
    "- CDP vs TEY"
   ]
  },
  {
   "cell_type": "markdown",
   "metadata": {},
   "source": [
    "#### Create a scatter plot of 'TEY' vs 'CDP'"
   ]
  },
  {
   "cell_type": "code",
   "execution_count": 11,
   "metadata": {},
   "outputs": [
    {
     "data": {
      "text/plain": [
       "<matplotlib.axes._subplots.AxesSubplot at 0x1f972660198>"
      ]
     },
     "execution_count": 11,
     "metadata": {},
     "output_type": "execute_result"
    },
    {
     "data": {
      "image/png": "[encoded data removed]",
      "text/plain": [
       "<Figure size 432x288 with 1 Axes>"
      ]
     },
     "metadata": {
      "needs_background": "light"
     },
     "output_type": "display_data"
    }
   ],
   "source": [
    "#df.plot(x=\"CDP\", y=\"TEY\", kind=\"scatter\")\n",
    "sns.scatterplot(x='TEY', y='CDP', data=df)"
   ]
  },
  {
   "cell_type": "markdown",
   "metadata": {},
   "source": [
    "#### Create histograms for CO and NOX."
   ]
  },
  {
   "cell_type": "code",
   "execution_count": 12,
   "metadata": {},
   "outputs": [
    {
     "data": {
      "text/plain": [
       "<matplotlib.axes._subplots.AxesSubplot at 0x1f9726e72b0>"
      ]
     },
     "execution_count": 12,
     "metadata": {},
     "output_type": "execute_result"
    },
    {
     "data": {
      "image/png": "[encoded data removed]",
      "text/plain": [
       "<Figure size 432x288 with 1 Axes>"
      ]
     },
     "metadata": {
      "needs_background": "light"
     },
     "output_type": "display_data"
    }
   ],
   "source": [
    "#sns.histplot(data=df, x='CO')\n",
    "df['CO'].plot(kind='hist',bins=25)"
   ]
  },
  {
   "cell_type": "code",
   "execution_count": 13,
   "metadata": {},
   "outputs": [
    {
     "data": {
      "text/plain": [
       "<matplotlib.axes._subplots.AxesSubplot at 0x1f97277d978>"
      ]
     },
     "execution_count": 13,
     "metadata": {},
     "output_type": "execute_result"
    },
    {
     "data": {
      "image/png": "[encoded data removed]",
      "text/plain": [
       "<Figure size 432x288 with 1 Axes>"
      ]
     },
     "metadata": {
      "needs_background": "light"
     },
     "output_type": "display_data"
    }
   ],
   "source": [
    "#sns.histplot(data=df, x='NOX')\n",
    "df['NOX'].plot(kind='hist', bins=30)"
   ]
  },
  {
   "cell_type": "markdown",
   "metadata": {},
   "source": [
    "#### Create a sctter plot of CO vs NOX."
   ]
  },
  {
   "cell_type": "code",
   "execution_count": 14,
   "metadata": {},
   "outputs": [
    {
     "data": {
      "text/plain": [
       "<matplotlib.axes._subplots.AxesSubplot at 0x1f972851518>"
      ]
     },
     "execution_count": 14,
     "metadata": {},
     "output_type": "execute_result"
    },
    {
     "data": {
      "image/png": "[encoded data removed]",
      "text/plain": [
       "<Figure size 432x288 with 1 Axes>"
      ]
     },
     "metadata": {
      "needs_background": "light"
     },
     "output_type": "display_data"
    }
   ],
   "source": [
    "#df.plot(x='NOX', y='CO', kind='scatter')\n",
    "sns.scatterplot(x='NOX', y='CO', data=df)"
   ]
  },
  {
   "cell_type": "markdown",
   "metadata": {},
   "source": [
    "### Prepare data for machine learning"
   ]
  },
  {
   "cell_type": "markdown",
   "metadata": {},
   "source": [
    "- We will predict CO using all the other variables.\n",
    "- NOX, which is another emission gas, will not be used as predictor.\n",
    "- CO is a continuous variable, thus we will be doing regression.\n",
    "- Many of algorithms that do classification also have regression counterparts."
   ]
  },
  {
   "cell_type": "code",
   "execution_count": 15,
   "metadata": {},
   "outputs": [],
   "source": [
    "y = df.CO\n",
    "X = df.drop(['CO', 'NOX'], axis=1)"
   ]
  },
  {
   "cell_type": "code",
   "execution_count": 16,
   "metadata": {},
   "outputs": [],
   "source": [
    "from sklearn.model_selection import train_test_split\n",
    "X_train, X_test, y_train, y_test = train_test_split(X, y, test_size=0.10, random_state=RANDOM_STATE)\n",
    "X_train, X_val, y_train, y_val = train_test_split(X_train, y_train, test_size=0.20, random_state=RANDOM_STATE)"
   ]
  },
  {
   "cell_type": "code",
   "execution_count": 17,
   "metadata": {},
   "outputs": [],
   "source": [
    "# Standardization of the data\n",
    "from sklearn.preprocessing import StandardScaler\n",
    "ss = StandardScaler()\n",
    "ss.fit(X_train)\n",
    "X_train = ss.transform(X_train)\n",
    "X_val = ss.transform(X_val)\n",
    "X_test = ss.transform(X_test)"
   ]
  },
  {
   "cell_type": "code",
   "execution_count": 18,
   "metadata": {},
   "outputs": [
    {
     "data": {
      "text/plain": [
       "(5316, 9)"
      ]
     },
     "execution_count": 18,
     "metadata": {},
     "output_type": "execute_result"
    }
   ],
   "source": [
    "X_train.shape"
   ]
  },
  {
   "cell_type": "code",
   "execution_count": 19,
   "metadata": {},
   "outputs": [
    {
     "data": {
      "text/plain": [
       "(1329, 9)"
      ]
     },
     "execution_count": 19,
     "metadata": {},
     "output_type": "execute_result"
    }
   ],
   "source": [
    "X_val.shape"
   ]
  },
  {
   "cell_type": "code",
   "execution_count": 20,
   "metadata": {},
   "outputs": [
    {
     "data": {
      "text/plain": [
       "(739, 9)"
      ]
     },
     "execution_count": 20,
     "metadata": {},
     "output_type": "execute_result"
    }
   ],
   "source": [
    "X_test.shape"
   ]
  },
  {
   "cell_type": "markdown",
   "metadata": {},
   "source": [
    "## Utility Functions"
   ]
  },
  {
   "cell_type": "markdown",
   "metadata": {},
   "source": [
    "You can create helper functions.\n",
    "For example, create functions that take the score and store it in a dataframe for a specific model."
   ]
  },
  {
   "cell_type": "code",
   "execution_count": 21,
   "metadata": {},
   "outputs": [],
   "source": [
    "scores_df = pd.DataFrame(columns=['Model', 'Score'])\n",
    "\n",
    "def model_score(model_name, score):\n",
    "    global scores_df\n",
    "    scores_df = scores_df.append({'Model': model_name, 'Score': score}, ignore_index=True)\n",
    "    print(f\"Scores for {model_name}: {score}\")"
   ]
  },
  {
   "cell_type": "code",
   "execution_count": null,
   "metadata": {},
   "outputs": [],
   "source": []
  },
  {
   "cell_type": "markdown",
   "metadata": {},
   "source": [
    "## Q2 [10]"
   ]
  },
  {
   "cell_type": "markdown",
   "metadata": {},
   "source": [
    "- Apply Linear Regression. Predict CO emission using other variables.\n",
    "    - What is the model $R^2$ on training data?\n",
    "    - What is the $R^2$ on validation data?\n",
    "    - What is the Root Mean Squared Error (RMSE) on training data?\n",
    "    - What is the RMSE on validation data?\n",
    "    \n",
    "> - $R^2$ higher is better. ($R^2$ is % variation in data being explained)  \n",
    "> - RMSE lower is better. (RMSE (Root Mean Squared Error) is error, meaning the difference between predictions and actual data)  \n",
    "\n",
    "Hint:  \n",
    "- You can use the `r2_score` and `mean_squared_error` methods in `sklearn.metrics`.   \n",
    "- You need to take the square root of Mean Squared Error to get to RMSE. (MSE $\\rightarrow$ square root $\\rightarrow$ RMSE)"
   ]
  },
  {
   "cell_type": "code",
   "execution_count": 22,
   "metadata": {},
   "outputs": [],
   "source": [
    "from sklearn.linear_model import LinearRegression"
   ]
  },
  {
   "cell_type": "code",
   "execution_count": 23,
   "metadata": {},
   "outputs": [],
   "source": [
    "# create a Linear Regression model\n",
    "lr = LinearRegression()\n",
    "\n",
    "lr.fit(X_train, y_train)\n",
    "\n",
    "lr_train_pred = lr.predict(X_train)\n",
    "lr_val_pred = lr.predict(X_val)\n",
    "\n",
    "train_r2 = r2_score(y_train, lr_train_pred)\n",
    "val_r2 = r2_score(y_val, lr_val_pred)\n",
    "\n",
    "train_rmse = mean_squared_error(y_train, lr_train_pred, squared=False)\n",
    "val_rmse = mean_squared_error(y_val, lr_val_pred, squared=False)\n"
   ]
  },
  {
   "cell_type": "code",
   "execution_count": 24,
   "metadata": {},
   "outputs": [
    {
     "name": "stdout",
     "output_type": "stream",
     "text": [
      "Scores for Linear Regression (train_r2): 0.6640090820784397\n"
     ]
    }
   ],
   "source": [
    "#r2 of training data\n",
    "model_score('Linear Regression (train_r2)', train_r2)"
   ]
  },
  {
   "cell_type": "code",
   "execution_count": 25,
   "metadata": {},
   "outputs": [
    {
     "name": "stdout",
     "output_type": "stream",
     "text": [
      "Scores for Linear Regression (val_r2): 0.646343190818214\n"
     ]
    }
   ],
   "source": [
    "#r2 of validation data\n",
    "model_score('Linear Regression (val_r2)', val_r2)"
   ]
  },
  {
   "cell_type": "code",
   "execution_count": 26,
   "metadata": {},
   "outputs": [
    {
     "name": "stdout",
     "output_type": "stream",
     "text": [
      "Scores for Linear Regression (train_rmse): 1.2720122104103535\n"
     ]
    }
   ],
   "source": [
    "# training rmse\n",
    "model_score('Linear Regression (train_rmse)', train_rmse)"
   ]
  },
  {
   "cell_type": "code",
   "execution_count": 27,
   "metadata": {},
   "outputs": [
    {
     "name": "stdout",
     "output_type": "stream",
     "text": [
      "Scores for Linear Regression (val_rmse): 1.3884894690085985\n"
     ]
    }
   ],
   "source": [
    "# validaation rmse\n",
    "model_score('Linear Regression (val_rmse)', val_rmse)"
   ]
  },
  {
   "cell_type": "code",
   "execution_count": 28,
   "metadata": {},
   "outputs": [
    {
     "data": {
      "text/html": [
       "<div>\n",
       "<style scoped>\n",
       "    .dataframe tbody tr th:only-of-type {\n",
       "        vertical-align: middle;\n",
       "    }\n",
       "\n",
       "    .dataframe tbody tr th {\n",
       "        vertical-align: top;\n",
       "    }\n",
       "\n",
       "    .dataframe thead th {\n",
       "        text-align: right;\n",
       "    }\n",
       "</style>\n",
       "<table border=\"1\" class=\"dataframe\">\n",
       "  <thead>\n",
       "    <tr style=\"text-align: right;\">\n",
       "      <th></th>\n",
       "      <th>Model</th>\n",
       "      <th>Score</th>\n",
       "    </tr>\n",
       "  </thead>\n",
       "  <tbody>\n",
       "    <tr>\n",
       "      <th>0</th>\n",
       "      <td>Linear Regression (train_r2)</td>\n",
       "      <td>0.664009</td>\n",
       "    </tr>\n",
       "    <tr>\n",
       "      <th>1</th>\n",
       "      <td>Linear Regression (val_r2)</td>\n",
       "      <td>0.646343</td>\n",
       "    </tr>\n",
       "    <tr>\n",
       "      <th>2</th>\n",
       "      <td>Linear Regression (train_rmse)</td>\n",
       "      <td>1.272012</td>\n",
       "    </tr>\n",
       "    <tr>\n",
       "      <th>3</th>\n",
       "      <td>Linear Regression (val_rmse)</td>\n",
       "      <td>1.388489</td>\n",
       "    </tr>\n",
       "  </tbody>\n",
       "</table>\n",
       "</div>"
      ],
      "text/plain": [
       "                            Model     Score\n",
       "0    Linear Regression (train_r2)  0.664009\n",
       "1      Linear Regression (val_r2)  0.646343\n",
       "2  Linear Regression (train_rmse)  1.272012\n",
       "3    Linear Regression (val_rmse)  1.388489"
      ]
     },
     "execution_count": 28,
     "metadata": {},
     "output_type": "execute_result"
    }
   ],
   "source": [
    "scores_df"
   ]
  },
  {
   "cell_type": "markdown",
   "metadata": {},
   "source": [
    "## Q3 [10]"
   ]
  },
  {
   "cell_type": "markdown",
   "metadata": {},
   "source": [
    "- Apply Random Forest Regression with 100 trees. Predict CO emission using other variables.\n",
    "    - What is the model $R^2$?\n",
    "    - What is the $R^2$ on validation data?\n",
    "    - What is the RMSE on training data?\n",
    "    - What is the RMSE on validation data?\n",
    "\n",
    "- Is training and validation score close? If not what might be the problem?\n",
    "- If there is a large gap, try to decrease the gap by changing some hyperparameters of the Random Forest model. (In this analysis, any difference more than 0.10 $R^2$ difference can be assumed to be large.)\n",
    "    - Once you reach a difference of less than or close to 0.10 between training $R^2$ and validation $R^2$ you can stop. \n",
    "    - During this process your training score will probably decrease, and that is OK. "
   ]
  },
  {
   "cell_type": "code",
   "execution_count": 29,
   "metadata": {},
   "outputs": [],
   "source": [
    "from sklearn.ensemble import RandomForestRegressor"
   ]
  },
  {
   "cell_type": "code",
   "execution_count": 30,
   "metadata": {},
   "outputs": [],
   "source": [
    "estimator = RandomForestRegressor(n_estimators=100, random_state=RANDOM_STATE)"
   ]
  },
  {
   "cell_type": "code",
   "execution_count": 31,
   "metadata": {},
   "outputs": [],
   "source": [
    "estimator.fit(X_train, y_train)\n",
    "\n",
    "# Calculate the R2 score on the training data\n",
    "rf_train_pred = estimator.predict(X_train)\n",
    "rf_r2_train = r2_score(y_train, rf_train_pred)\n",
    "\n",
    "# Calculate the R2 score on the validation data\n",
    "rf_val_pred = estimator.predict(X_val)\n",
    "rf_r2_val = r2_score(y_val, rf_val_pred)\n",
    "\n",
    "# Calculate the RMSE on the training data\n",
    "rf_rmse_train = mean_squared_error(y_train, rf_train_pred, squared=False)\n",
    "\n",
    "# Calculate the RMSE on the validation data\n",
    "rf_rmse_val = mean_squared_error(y_val, rf_val_pred, squared=False)\n"
   ]
  },
  {
   "cell_type": "code",
   "execution_count": 32,
   "metadata": {},
   "outputs": [
    {
     "name": "stdout",
     "output_type": "stream",
     "text": [
      "Scores for Random Forest (rf_r2_train): 0.9632120157429405\n"
     ]
    }
   ],
   "source": [
    "#r2 of training data\n",
    "model_score('Random Forest (rf_r2_train)', rf_r2_train)"
   ]
  },
  {
   "cell_type": "code",
   "execution_count": 33,
   "metadata": {},
   "outputs": [
    {
     "name": "stdout",
     "output_type": "stream",
     "text": [
      "Scores for Random Forest (rf_r2_val): 0.7561021332337717\n"
     ]
    }
   ],
   "source": [
    "#r2 of validation data\n",
    "model_score('Random Forest (rf_r2_val)', rf_r2_val)"
   ]
  },
  {
   "cell_type": "code",
   "execution_count": 34,
   "metadata": {},
   "outputs": [
    {
     "name": "stdout",
     "output_type": "stream",
     "text": [
      "Scores for Random Forest (rf_rmse_train): 0.4209015325868886\n"
     ]
    }
   ],
   "source": [
    "# training rmse\n",
    "model_score('Random Forest (rf_rmse_train)', rf_rmse_train)"
   ]
  },
  {
   "cell_type": "code",
   "execution_count": 35,
   "metadata": {},
   "outputs": [
    {
     "name": "stdout",
     "output_type": "stream",
     "text": [
      "Scores for Random Forest (rf_rmse_val): 1.1530697502798055\n"
     ]
    }
   ],
   "source": [
    "# validaation rmse\n",
    "model_score('Random Forest (rf_rmse_val)', rf_rmse_val)"
   ]
  },
  {
   "cell_type": "code",
   "execution_count": 36,
   "metadata": {},
   "outputs": [
    {
     "data": {
      "text/html": [
       "<div>\n",
       "<style scoped>\n",
       "    .dataframe tbody tr th:only-of-type {\n",
       "        vertical-align: middle;\n",
       "    }\n",
       "\n",
       "    .dataframe tbody tr th {\n",
       "        vertical-align: top;\n",
       "    }\n",
       "\n",
       "    .dataframe thead th {\n",
       "        text-align: right;\n",
       "    }\n",
       "</style>\n",
       "<table border=\"1\" class=\"dataframe\">\n",
       "  <thead>\n",
       "    <tr style=\"text-align: right;\">\n",
       "      <th></th>\n",
       "      <th>Model</th>\n",
       "      <th>Score</th>\n",
       "    </tr>\n",
       "  </thead>\n",
       "  <tbody>\n",
       "    <tr>\n",
       "      <th>0</th>\n",
       "      <td>Linear Regression (train_r2)</td>\n",
       "      <td>0.664009</td>\n",
       "    </tr>\n",
       "    <tr>\n",
       "      <th>1</th>\n",
       "      <td>Linear Regression (val_r2)</td>\n",
       "      <td>0.646343</td>\n",
       "    </tr>\n",
       "    <tr>\n",
       "      <th>2</th>\n",
       "      <td>Linear Regression (train_rmse)</td>\n",
       "      <td>1.272012</td>\n",
       "    </tr>\n",
       "    <tr>\n",
       "      <th>3</th>\n",
       "      <td>Linear Regression (val_rmse)</td>\n",
       "      <td>1.388489</td>\n",
       "    </tr>\n",
       "    <tr>\n",
       "      <th>4</th>\n",
       "      <td>Random Forest (rf_r2_train)</td>\n",
       "      <td>0.963212</td>\n",
       "    </tr>\n",
       "    <tr>\n",
       "      <th>5</th>\n",
       "      <td>Random Forest (rf_r2_val)</td>\n",
       "      <td>0.756102</td>\n",
       "    </tr>\n",
       "    <tr>\n",
       "      <th>6</th>\n",
       "      <td>Random Forest (rf_rmse_train)</td>\n",
       "      <td>0.420902</td>\n",
       "    </tr>\n",
       "    <tr>\n",
       "      <th>7</th>\n",
       "      <td>Random Forest (rf_rmse_val)</td>\n",
       "      <td>1.153070</td>\n",
       "    </tr>\n",
       "  </tbody>\n",
       "</table>\n",
       "</div>"
      ],
      "text/plain": [
       "                            Model     Score\n",
       "0    Linear Regression (train_r2)  0.664009\n",
       "1      Linear Regression (val_r2)  0.646343\n",
       "2  Linear Regression (train_rmse)  1.272012\n",
       "3    Linear Regression (val_rmse)  1.388489\n",
       "4     Random Forest (rf_r2_train)  0.963212\n",
       "5       Random Forest (rf_r2_val)  0.756102\n",
       "6   Random Forest (rf_rmse_train)  0.420902\n",
       "7     Random Forest (rf_rmse_val)  1.153070"
      ]
     },
     "execution_count": 36,
     "metadata": {},
     "output_type": "execute_result"
    }
   ],
   "source": [
    "scores_df"
   ]
  },
  {
   "cell_type": "code",
   "execution_count": 37,
   "metadata": {},
   "outputs": [
    {
     "name": "stdout",
     "output_type": "stream",
     "text": [
      "R-square difference between training and validation : 0.207\n"
     ]
    }
   ],
   "source": [
    "diff = abs(rf_r2_train - rf_r2_val)\n",
    "print(\"R-square difference between training and validation : {:.3f}\".format(diff))"
   ]
  },
  {
   "cell_type": "markdown",
   "metadata": {},
   "source": [
    "Given that the model's performance on the validation data is less than it is on the training data, it is possible that the model may have been overfitted. To enhance the validation performance, it could be essential to change the hyperparameters or modify the model."
   ]
  },
  {
   "cell_type": "code",
   "execution_count": 38,
   "metadata": {},
   "outputs": [],
   "source": [
    "# The parameter grid for the Random Forest model\n",
    "param_grid = {\n",
    "    'n_estimators': [50, 100, 200],\n",
    "    'max_depth': [5, 10, 20],\n",
    "    'min_samples_split': [2, 5, 10],\n",
    "    'random_state': [99]\n",
    "}\n",
    "\n",
    "# Create a Random Forest Regression model\n",
    "rf = RandomForestRegressor()\n",
    "\n",
    "# Use GridSearchCV to find the best hyperparameters\n",
    "grid_search = GridSearchCV(rf, param_grid=param_grid)\n",
    "grid_search.fit(X_train, y_train)\n",
    "\n",
    "# Get the best hyperparameters and fit the model on the training data\n",
    "best_params = grid_search.best_params_\n",
    "rf = RandomForestRegressor(**best_params)\n",
    "rf.fit(X_train, y_train)\n",
    "\n",
    "# Calculate the R2 score on the training data\n",
    "rf1_train_pred = rf.predict(X_train)\n",
    "rf1_r2_train = r2_score(y_train, rf1_train_pred)\n",
    "\n",
    "# Calculate the R2 score on the validation data\n",
    "rf1_val_pred = rf.predict(X_val)\n",
    "rf1_r2_val = r2_score(y_val, rf1_val_pred)\n",
    "\n",
    "# Calculate the RMSE on the training data\n",
    "rf1_rmse_train = mean_squared_error(y_train, rf1_train_pred, squared=False)\n",
    "\n",
    "# Calculate the RMSE on the validation data\n",
    "rf1_rmse_val = mean_squared_error(y_val, rf1_val_pred, squared=False)\n"
   ]
  },
  {
   "cell_type": "code",
   "execution_count": 39,
   "metadata": {},
   "outputs": [
    {
     "name": "stdout",
     "output_type": "stream",
     "text": [
      "Scores for Random Forest_HP (rf1_r2_train): 0.827410524893622\n"
     ]
    }
   ],
   "source": [
    "#r2 of training data with HyderParameters\n",
    "model_score('Random Forest_HP (rf1_r2_train)', rf1_r2_train)"
   ]
  },
  {
   "cell_type": "code",
   "execution_count": 40,
   "metadata": {},
   "outputs": [
    {
     "name": "stdout",
     "output_type": "stream",
     "text": [
      "Scores for Random Forest_HP (rf_r2_val): 0.7445067124524614\n"
     ]
    }
   ],
   "source": [
    "#r2 of validation data with HyderParameters\n",
    "model_score('Random Forest_HP (rf_r2_val)', rf1_r2_val)"
   ]
  },
  {
   "cell_type": "code",
   "execution_count": 41,
   "metadata": {},
   "outputs": [
    {
     "name": "stdout",
     "output_type": "stream",
     "text": [
      "Scores for Random Forest_HP (rf_rmse_train): 0.9116637050091692\n"
     ]
    }
   ],
   "source": [
    "# training rmse with HyperParameters\n",
    "model_score('Random Forest_HP (rf_rmse_train)', rf1_rmse_train)"
   ]
  },
  {
   "cell_type": "code",
   "execution_count": 42,
   "metadata": {},
   "outputs": [
    {
     "name": "stdout",
     "output_type": "stream",
     "text": [
      "Scores for Random Forest_HP (rf_rmse_val): 1.1801611811898105\n"
     ]
    }
   ],
   "source": [
    "# validaation rmse with HyperParameters\n",
    "model_score('Random Forest_HP (rf_rmse_val)', rf1_rmse_val)"
   ]
  },
  {
   "cell_type": "code",
   "execution_count": 43,
   "metadata": {},
   "outputs": [
    {
     "data": {
      "text/html": [
       "<div>\n",
       "<style scoped>\n",
       "    .dataframe tbody tr th:only-of-type {\n",
       "        vertical-align: middle;\n",
       "    }\n",
       "\n",
       "    .dataframe tbody tr th {\n",
       "        vertical-align: top;\n",
       "    }\n",
       "\n",
       "    .dataframe thead th {\n",
       "        text-align: right;\n",
       "    }\n",
       "</style>\n",
       "<table border=\"1\" class=\"dataframe\">\n",
       "  <thead>\n",
       "    <tr style=\"text-align: right;\">\n",
       "      <th></th>\n",
       "      <th>Model</th>\n",
       "      <th>Score</th>\n",
       "    </tr>\n",
       "  </thead>\n",
       "  <tbody>\n",
       "    <tr>\n",
       "      <th>0</th>\n",
       "      <td>Linear Regression (train_r2)</td>\n",
       "      <td>0.664009</td>\n",
       "    </tr>\n",
       "    <tr>\n",
       "      <th>1</th>\n",
       "      <td>Linear Regression (val_r2)</td>\n",
       "      <td>0.646343</td>\n",
       "    </tr>\n",
       "    <tr>\n",
       "      <th>2</th>\n",
       "      <td>Linear Regression (train_rmse)</td>\n",
       "      <td>1.272012</td>\n",
       "    </tr>\n",
       "    <tr>\n",
       "      <th>3</th>\n",
       "      <td>Linear Regression (val_rmse)</td>\n",
       "      <td>1.388489</td>\n",
       "    </tr>\n",
       "    <tr>\n",
       "      <th>4</th>\n",
       "      <td>Random Forest (rf_r2_train)</td>\n",
       "      <td>0.963212</td>\n",
       "    </tr>\n",
       "    <tr>\n",
       "      <th>5</th>\n",
       "      <td>Random Forest (rf_r2_val)</td>\n",
       "      <td>0.756102</td>\n",
       "    </tr>\n",
       "    <tr>\n",
       "      <th>6</th>\n",
       "      <td>Random Forest (rf_rmse_train)</td>\n",
       "      <td>0.420902</td>\n",
       "    </tr>\n",
       "    <tr>\n",
       "      <th>7</th>\n",
       "      <td>Random Forest (rf_rmse_val)</td>\n",
       "      <td>1.153070</td>\n",
       "    </tr>\n",
       "    <tr>\n",
       "      <th>8</th>\n",
       "      <td>Random Forest_HP (rf1_r2_train)</td>\n",
       "      <td>0.827411</td>\n",
       "    </tr>\n",
       "    <tr>\n",
       "      <th>9</th>\n",
       "      <td>Random Forest_HP (rf_r2_val)</td>\n",
       "      <td>0.744507</td>\n",
       "    </tr>\n",
       "    <tr>\n",
       "      <th>10</th>\n",
       "      <td>Random Forest_HP (rf_rmse_train)</td>\n",
       "      <td>0.911664</td>\n",
       "    </tr>\n",
       "    <tr>\n",
       "      <th>11</th>\n",
       "      <td>Random Forest_HP (rf_rmse_val)</td>\n",
       "      <td>1.180161</td>\n",
       "    </tr>\n",
       "  </tbody>\n",
       "</table>\n",
       "</div>"
      ],
      "text/plain": [
       "                               Model     Score\n",
       "0       Linear Regression (train_r2)  0.664009\n",
       "1         Linear Regression (val_r2)  0.646343\n",
       "2     Linear Regression (train_rmse)  1.272012\n",
       "3       Linear Regression (val_rmse)  1.388489\n",
       "4        Random Forest (rf_r2_train)  0.963212\n",
       "5          Random Forest (rf_r2_val)  0.756102\n",
       "6      Random Forest (rf_rmse_train)  0.420902\n",
       "7        Random Forest (rf_rmse_val)  1.153070\n",
       "8    Random Forest_HP (rf1_r2_train)  0.827411\n",
       "9       Random Forest_HP (rf_r2_val)  0.744507\n",
       "10  Random Forest_HP (rf_rmse_train)  0.911664\n",
       "11    Random Forest_HP (rf_rmse_val)  1.180161"
      ]
     },
     "execution_count": 43,
     "metadata": {},
     "output_type": "execute_result"
    }
   ],
   "source": [
    "scores_df"
   ]
  },
  {
   "cell_type": "code",
   "execution_count": 44,
   "metadata": {},
   "outputs": [
    {
     "name": "stdout",
     "output_type": "stream",
     "text": [
      "R-square difference between training and validation with HyperParameter : 0.083\n"
     ]
    }
   ],
   "source": [
    "rf2_diff = abs(rf1_r2_train - rf1_r2_val)\n",
    "print(\"R-square difference between training and validation with HyperParameter : {:.3f}\".format(rf2_diff))"
   ]
  },
  {
   "cell_type": "markdown",
   "metadata": {},
   "source": [
    "## Q4 [10]"
   ]
  },
  {
   "cell_type": "markdown",
   "metadata": {},
   "source": [
    "- Apply Support Vector Regression. Predict CO emission using other variables.\n",
    "    - What is the model $R^2$?\n",
    "    - What is the $R^2$ on validation data?\n",
    "    - What is the RMSE on training data?\n",
    "    - What is the RMSE on validation data?\n",
    "    \n",
    "- Do this for each of the models listed below using the default parameters:  \n",
    "    1. **Linear kernel SVR**  \n",
    "    2. **Polynomial kernel SVR**  \n",
    "    3. **RBF kernel SVR** "
   ]
  },
  {
   "cell_type": "code",
   "execution_count": 45,
   "metadata": {},
   "outputs": [],
   "source": [
    "from sklearn.svm import SVR"
   ]
  },
  {
   "cell_type": "markdown",
   "metadata": {},
   "source": [
    "### Linear SVM Regressor"
   ]
  },
  {
   "cell_type": "code",
   "execution_count": 46,
   "metadata": {},
   "outputs": [
    {
     "data": {
      "text/plain": [
       "SVR(kernel='linear')"
      ]
     },
     "execution_count": 46,
     "metadata": {},
     "output_type": "execute_result"
    }
   ],
   "source": [
    "estimator = SVR(kernel='linear')\n",
    "estimator"
   ]
  },
  {
   "cell_type": "code",
   "execution_count": 47,
   "metadata": {},
   "outputs": [],
   "source": [
    "estimator.fit(X_train, y_train)\n",
    "\n",
    "SVM_train_pred = estimator.predict(X_train)\n",
    "SVM_val_pred = estimator.predict(X_val)\n",
    "\n",
    "SVM_r2_train = r2_score(y_train, SVM_train_pred)\n",
    "SVM_rmse_train = np.sqrt(mean_squared_error(y_train, SVM_train_pred))\n",
    "\n",
    "SVM_r2_val = r2_score(y_val, SVM_val_pred)\n",
    "SVM_rmse_val = np.sqrt(mean_squared_error(y_val, SVM_val_pred))"
   ]
  },
  {
   "cell_type": "code",
   "execution_count": 48,
   "metadata": {},
   "outputs": [
    {
     "name": "stdout",
     "output_type": "stream",
     "text": [
      "Scores for SVM (SVM_r2_train): 0.6244509939105645\n"
     ]
    }
   ],
   "source": [
    "#r2 of training data \n",
    "model_score('SVM (SVM_r2_train)', SVM_r2_train)"
   ]
  },
  {
   "cell_type": "code",
   "execution_count": 49,
   "metadata": {},
   "outputs": [
    {
     "name": "stdout",
     "output_type": "stream",
     "text": [
      "Scores for SVM (SVM_r2_val): 0.6021866187568015\n"
     ]
    }
   ],
   "source": [
    "#r2 of validation data\n",
    "model_score('SVM (SVM_r2_val)', SVM_r2_val)"
   ]
  },
  {
   "cell_type": "code",
   "execution_count": 50,
   "metadata": {},
   "outputs": [
    {
     "name": "stdout",
     "output_type": "stream",
     "text": [
      "Scores for SVM (SVM_rmse_train): 1.344809658561098\n"
     ]
    }
   ],
   "source": [
    "# training rmse\n",
    "model_score('SVM (SVM_rmse_train)', SVM_rmse_train)"
   ]
  },
  {
   "cell_type": "code",
   "execution_count": 51,
   "metadata": {},
   "outputs": [
    {
     "name": "stdout",
     "output_type": "stream",
     "text": [
      "Scores for SVM (SVM_rmse_val): 1.4726219576265938\n"
     ]
    }
   ],
   "source": [
    "# validaation rmse\n",
    "model_score('SVM (SVM_rmse_val)', SVM_rmse_val)"
   ]
  },
  {
   "cell_type": "code",
   "execution_count": 52,
   "metadata": {},
   "outputs": [
    {
     "data": {
      "text/html": [
       "<div>\n",
       "<style scoped>\n",
       "    .dataframe tbody tr th:only-of-type {\n",
       "        vertical-align: middle;\n",
       "    }\n",
       "\n",
       "    .dataframe tbody tr th {\n",
       "        vertical-align: top;\n",
       "    }\n",
       "\n",
       "    .dataframe thead th {\n",
       "        text-align: right;\n",
       "    }\n",
       "</style>\n",
       "<table border=\"1\" class=\"dataframe\">\n",
       "  <thead>\n",
       "    <tr style=\"text-align: right;\">\n",
       "      <th></th>\n",
       "      <th>Model</th>\n",
       "      <th>Score</th>\n",
       "    </tr>\n",
       "  </thead>\n",
       "  <tbody>\n",
       "    <tr>\n",
       "      <th>0</th>\n",
       "      <td>Linear Regression (train_r2)</td>\n",
       "      <td>0.664009</td>\n",
       "    </tr>\n",
       "    <tr>\n",
       "      <th>1</th>\n",
       "      <td>Linear Regression (val_r2)</td>\n",
       "      <td>0.646343</td>\n",
       "    </tr>\n",
       "    <tr>\n",
       "      <th>2</th>\n",
       "      <td>Linear Regression (train_rmse)</td>\n",
       "      <td>1.272012</td>\n",
       "    </tr>\n",
       "    <tr>\n",
       "      <th>3</th>\n",
       "      <td>Linear Regression (val_rmse)</td>\n",
       "      <td>1.388489</td>\n",
       "    </tr>\n",
       "    <tr>\n",
       "      <th>4</th>\n",
       "      <td>Random Forest (rf_r2_train)</td>\n",
       "      <td>0.963212</td>\n",
       "    </tr>\n",
       "    <tr>\n",
       "      <th>5</th>\n",
       "      <td>Random Forest (rf_r2_val)</td>\n",
       "      <td>0.756102</td>\n",
       "    </tr>\n",
       "    <tr>\n",
       "      <th>6</th>\n",
       "      <td>Random Forest (rf_rmse_train)</td>\n",
       "      <td>0.420902</td>\n",
       "    </tr>\n",
       "    <tr>\n",
       "      <th>7</th>\n",
       "      <td>Random Forest (rf_rmse_val)</td>\n",
       "      <td>1.153070</td>\n",
       "    </tr>\n",
       "    <tr>\n",
       "      <th>8</th>\n",
       "      <td>Random Forest_HP (rf1_r2_train)</td>\n",
       "      <td>0.827411</td>\n",
       "    </tr>\n",
       "    <tr>\n",
       "      <th>9</th>\n",
       "      <td>Random Forest_HP (rf_r2_val)</td>\n",
       "      <td>0.744507</td>\n",
       "    </tr>\n",
       "    <tr>\n",
       "      <th>10</th>\n",
       "      <td>Random Forest_HP (rf_rmse_train)</td>\n",
       "      <td>0.911664</td>\n",
       "    </tr>\n",
       "    <tr>\n",
       "      <th>11</th>\n",
       "      <td>Random Forest_HP (rf_rmse_val)</td>\n",
       "      <td>1.180161</td>\n",
       "    </tr>\n",
       "    <tr>\n",
       "      <th>12</th>\n",
       "      <td>SVM (SVM_r2_train)</td>\n",
       "      <td>0.624451</td>\n",
       "    </tr>\n",
       "    <tr>\n",
       "      <th>13</th>\n",
       "      <td>SVM (SVM_r2_val)</td>\n",
       "      <td>0.602187</td>\n",
       "    </tr>\n",
       "    <tr>\n",
       "      <th>14</th>\n",
       "      <td>SVM (SVM_rmse_train)</td>\n",
       "      <td>1.344810</td>\n",
       "    </tr>\n",
       "    <tr>\n",
       "      <th>15</th>\n",
       "      <td>SVM (SVM_rmse_val)</td>\n",
       "      <td>1.472622</td>\n",
       "    </tr>\n",
       "  </tbody>\n",
       "</table>\n",
       "</div>"
      ],
      "text/plain": [
       "                               Model     Score\n",
       "0       Linear Regression (train_r2)  0.664009\n",
       "1         Linear Regression (val_r2)  0.646343\n",
       "2     Linear Regression (train_rmse)  1.272012\n",
       "3       Linear Regression (val_rmse)  1.388489\n",
       "4        Random Forest (rf_r2_train)  0.963212\n",
       "5          Random Forest (rf_r2_val)  0.756102\n",
       "6      Random Forest (rf_rmse_train)  0.420902\n",
       "7        Random Forest (rf_rmse_val)  1.153070\n",
       "8    Random Forest_HP (rf1_r2_train)  0.827411\n",
       "9       Random Forest_HP (rf_r2_val)  0.744507\n",
       "10  Random Forest_HP (rf_rmse_train)  0.911664\n",
       "11    Random Forest_HP (rf_rmse_val)  1.180161\n",
       "12                SVM (SVM_r2_train)  0.624451\n",
       "13                  SVM (SVM_r2_val)  0.602187\n",
       "14              SVM (SVM_rmse_train)  1.344810\n",
       "15                SVM (SVM_rmse_val)  1.472622"
      ]
     },
     "execution_count": 52,
     "metadata": {},
     "output_type": "execute_result"
    }
   ],
   "source": [
    "scores_df"
   ]
  },
  {
   "cell_type": "markdown",
   "metadata": {},
   "source": [
    "### Polynomial Kernel SVM Regressor"
   ]
  },
  {
   "cell_type": "code",
   "execution_count": 53,
   "metadata": {},
   "outputs": [],
   "source": [
    "from sklearn.svm import SVR\n",
    "estimator = SVR(kernel='poly')"
   ]
  },
  {
   "cell_type": "code",
   "execution_count": 54,
   "metadata": {},
   "outputs": [],
   "source": [
    "estimator.fit(X_train, y_train)\n",
    "# Predictions on training and validation \n",
    "PSVM_train_pred = estimator.predict(X_train)\n",
    "PSVM_val_pred = estimator.predict(X_val)\n",
    "\n",
    "# Calculate R2 and RMSE on training set\n",
    "PSVM_r2_train = r2_score(y_train, PSVM_train_pred)\n",
    "PSVM_rmse_train = np.sqrt(mean_squared_error(y_train, PSVM_train_pred))\n",
    "\n",
    "# Calculate R2 and RMSE on validation set\n",
    "PSVM_r2_val = r2_score(y_val, PSVM_val_pred)\n",
    "PSVM_rmse_val = np.sqrt(mean_squared_error(y_val, PSVM_val_pred))"
   ]
  },
  {
   "cell_type": "code",
   "execution_count": 55,
   "metadata": {},
   "outputs": [
    {
     "name": "stdout",
     "output_type": "stream",
     "text": [
      "Scores for Polynomial SVM (PSVM_r2_train): 0.7404852376508437\n"
     ]
    }
   ],
   "source": [
    "#r2 of training data \n",
    "model_score('Polynomial SVM (PSVM_r2_train)', PSVM_r2_train)"
   ]
  },
  {
   "cell_type": "code",
   "execution_count": 56,
   "metadata": {},
   "outputs": [
    {
     "name": "stdout",
     "output_type": "stream",
     "text": [
      "Scores for Polynomial SVM (PSVM_r2_val): 0.7310487212257788\n"
     ]
    }
   ],
   "source": [
    "#r2 of validation data\n",
    "model_score('Polynomial SVM (PSVM_r2_val)', PSVM_r2_val)"
   ]
  },
  {
   "cell_type": "code",
   "execution_count": 57,
   "metadata": {},
   "outputs": [
    {
     "name": "stdout",
     "output_type": "stream",
     "text": [
      "Scores for Polynomial SVM (PSVM_rmse_train): 1.1179143857689002\n"
     ]
    }
   ],
   "source": [
    "# training rmse\n",
    "model_score('Polynomial SVM (PSVM_rmse_train)', PSVM_rmse_train)"
   ]
  },
  {
   "cell_type": "code",
   "execution_count": 58,
   "metadata": {},
   "outputs": [
    {
     "name": "stdout",
     "output_type": "stream",
     "text": [
      "Scores for Polynomial SVM (PSVM_rmse_val): 1.2108445318365113\n"
     ]
    }
   ],
   "source": [
    "# validaation rmse\n",
    "model_score('Polynomial SVM (PSVM_rmse_val)', PSVM_rmse_val)"
   ]
  },
  {
   "cell_type": "code",
   "execution_count": 59,
   "metadata": {},
   "outputs": [
    {
     "data": {
      "text/html": [
       "<div>\n",
       "<style scoped>\n",
       "    .dataframe tbody tr th:only-of-type {\n",
       "        vertical-align: middle;\n",
       "    }\n",
       "\n",
       "    .dataframe tbody tr th {\n",
       "        vertical-align: top;\n",
       "    }\n",
       "\n",
       "    .dataframe thead th {\n",
       "        text-align: right;\n",
       "    }\n",
       "</style>\n",
       "<table border=\"1\" class=\"dataframe\">\n",
       "  <thead>\n",
       "    <tr style=\"text-align: right;\">\n",
       "      <th></th>\n",
       "      <th>Model</th>\n",
       "      <th>Score</th>\n",
       "    </tr>\n",
       "  </thead>\n",
       "  <tbody>\n",
       "    <tr>\n",
       "      <th>0</th>\n",
       "      <td>Linear Regression (train_r2)</td>\n",
       "      <td>0.664009</td>\n",
       "    </tr>\n",
       "    <tr>\n",
       "      <th>1</th>\n",
       "      <td>Linear Regression (val_r2)</td>\n",
       "      <td>0.646343</td>\n",
       "    </tr>\n",
       "    <tr>\n",
       "      <th>2</th>\n",
       "      <td>Linear Regression (train_rmse)</td>\n",
       "      <td>1.272012</td>\n",
       "    </tr>\n",
       "    <tr>\n",
       "      <th>3</th>\n",
       "      <td>Linear Regression (val_rmse)</td>\n",
       "      <td>1.388489</td>\n",
       "    </tr>\n",
       "    <tr>\n",
       "      <th>4</th>\n",
       "      <td>Random Forest (rf_r2_train)</td>\n",
       "      <td>0.963212</td>\n",
       "    </tr>\n",
       "    <tr>\n",
       "      <th>5</th>\n",
       "      <td>Random Forest (rf_r2_val)</td>\n",
       "      <td>0.756102</td>\n",
       "    </tr>\n",
       "    <tr>\n",
       "      <th>6</th>\n",
       "      <td>Random Forest (rf_rmse_train)</td>\n",
       "      <td>0.420902</td>\n",
       "    </tr>\n",
       "    <tr>\n",
       "      <th>7</th>\n",
       "      <td>Random Forest (rf_rmse_val)</td>\n",
       "      <td>1.153070</td>\n",
       "    </tr>\n",
       "    <tr>\n",
       "      <th>8</th>\n",
       "      <td>Random Forest_HP (rf1_r2_train)</td>\n",
       "      <td>0.827411</td>\n",
       "    </tr>\n",
       "    <tr>\n",
       "      <th>9</th>\n",
       "      <td>Random Forest_HP (rf_r2_val)</td>\n",
       "      <td>0.744507</td>\n",
       "    </tr>\n",
       "    <tr>\n",
       "      <th>10</th>\n",
       "      <td>Random Forest_HP (rf_rmse_train)</td>\n",
       "      <td>0.911664</td>\n",
       "    </tr>\n",
       "    <tr>\n",
       "      <th>11</th>\n",
       "      <td>Random Forest_HP (rf_rmse_val)</td>\n",
       "      <td>1.180161</td>\n",
       "    </tr>\n",
       "    <tr>\n",
       "      <th>12</th>\n",
       "      <td>SVM (SVM_r2_train)</td>\n",
       "      <td>0.624451</td>\n",
       "    </tr>\n",
       "    <tr>\n",
       "      <th>13</th>\n",
       "      <td>SVM (SVM_r2_val)</td>\n",
       "      <td>0.602187</td>\n",
       "    </tr>\n",
       "    <tr>\n",
       "      <th>14</th>\n",
       "      <td>SVM (SVM_rmse_train)</td>\n",
       "      <td>1.344810</td>\n",
       "    </tr>\n",
       "    <tr>\n",
       "      <th>15</th>\n",
       "      <td>SVM (SVM_rmse_val)</td>\n",
       "      <td>1.472622</td>\n",
       "    </tr>\n",
       "    <tr>\n",
       "      <th>16</th>\n",
       "      <td>Polynomial SVM (PSVM_r2_train)</td>\n",
       "      <td>0.740485</td>\n",
       "    </tr>\n",
       "    <tr>\n",
       "      <th>17</th>\n",
       "      <td>Polynomial SVM (PSVM_r2_val)</td>\n",
       "      <td>0.731049</td>\n",
       "    </tr>\n",
       "    <tr>\n",
       "      <th>18</th>\n",
       "      <td>Polynomial SVM (PSVM_rmse_train)</td>\n",
       "      <td>1.117914</td>\n",
       "    </tr>\n",
       "    <tr>\n",
       "      <th>19</th>\n",
       "      <td>Polynomial SVM (PSVM_rmse_val)</td>\n",
       "      <td>1.210845</td>\n",
       "    </tr>\n",
       "  </tbody>\n",
       "</table>\n",
       "</div>"
      ],
      "text/plain": [
       "                               Model     Score\n",
       "0       Linear Regression (train_r2)  0.664009\n",
       "1         Linear Regression (val_r2)  0.646343\n",
       "2     Linear Regression (train_rmse)  1.272012\n",
       "3       Linear Regression (val_rmse)  1.388489\n",
       "4        Random Forest (rf_r2_train)  0.963212\n",
       "5          Random Forest (rf_r2_val)  0.756102\n",
       "6      Random Forest (rf_rmse_train)  0.420902\n",
       "7        Random Forest (rf_rmse_val)  1.153070\n",
       "8    Random Forest_HP (rf1_r2_train)  0.827411\n",
       "9       Random Forest_HP (rf_r2_val)  0.744507\n",
       "10  Random Forest_HP (rf_rmse_train)  0.911664\n",
       "11    Random Forest_HP (rf_rmse_val)  1.180161\n",
       "12                SVM (SVM_r2_train)  0.624451\n",
       "13                  SVM (SVM_r2_val)  0.602187\n",
       "14              SVM (SVM_rmse_train)  1.344810\n",
       "15                SVM (SVM_rmse_val)  1.472622\n",
       "16    Polynomial SVM (PSVM_r2_train)  0.740485\n",
       "17      Polynomial SVM (PSVM_r2_val)  0.731049\n",
       "18  Polynomial SVM (PSVM_rmse_train)  1.117914\n",
       "19    Polynomial SVM (PSVM_rmse_val)  1.210845"
      ]
     },
     "execution_count": 59,
     "metadata": {},
     "output_type": "execute_result"
    }
   ],
   "source": [
    "scores_df"
   ]
  },
  {
   "cell_type": "markdown",
   "metadata": {},
   "source": [
    "### RBF Kernel SVM Regressor"
   ]
  },
  {
   "cell_type": "code",
   "execution_count": 60,
   "metadata": {},
   "outputs": [],
   "source": [
    "from sklearn.svm import SVR\n",
    "estimator = SVR(kernel='rbf')"
   ]
  },
  {
   "cell_type": "code",
   "execution_count": 61,
   "metadata": {},
   "outputs": [],
   "source": [
    "estimator.fit(X_train, y_train)\n",
    "\n",
    "SVR_train_pred = estimator.predict(X_train)\n",
    "SVR_val_pred = estimator.predict(X_val)\n",
    "\n",
    "# Calculate R2 and RMSE on training set\n",
    "SVR_r2_train = r2_score(y_train, SVR_train_pred)\n",
    "SVR_rmse_train = np.sqrt(mean_squared_error(y_train, SVR_train_pred))\n",
    "\n",
    "# Calculate R2 and RMSE on validation set\n",
    "SVR_r2_val = r2_score(y_val, SVR_val_pred)\n",
    "SVR_rmse_val = np.sqrt(mean_squared_error(y_val, SVR_val_pred))"
   ]
  },
  {
   "cell_type": "code",
   "execution_count": 62,
   "metadata": {},
   "outputs": [
    {
     "name": "stdout",
     "output_type": "stream",
     "text": [
      "Scores for SVM(RBF) (SVR_r2_train): 0.765323708752557\n"
     ]
    }
   ],
   "source": [
    "#r2 of training data \n",
    "model_score('SVM(RBF) (SVR_r2_train)', SVR_r2_train)"
   ]
  },
  {
   "cell_type": "code",
   "execution_count": 63,
   "metadata": {},
   "outputs": [
    {
     "name": "stdout",
     "output_type": "stream",
     "text": [
      "Scores for SVM(RBF) (SVR_r2_val): 0.7476206398521968\n"
     ]
    }
   ],
   "source": [
    "#r2 of validation data\n",
    "model_score('SVM(RBF) (SVR_r2_val)', SVR_r2_val)"
   ]
  },
  {
   "cell_type": "code",
   "execution_count": 64,
   "metadata": {},
   "outputs": [
    {
     "name": "stdout",
     "output_type": "stream",
     "text": [
      "Scores for SVM(RBF) (SVR_rmse_train): 1.0630706284209859\n"
     ]
    }
   ],
   "source": [
    "# training rmse\n",
    "model_score('SVM(RBF) (SVR_rmse_train)', SVR_rmse_train)"
   ]
  },
  {
   "cell_type": "code",
   "execution_count": 65,
   "metadata": {},
   "outputs": [
    {
     "name": "stdout",
     "output_type": "stream",
     "text": [
      "Scores for SVM(RBF) (SVR_rmse_val): 1.1729472882611478\n"
     ]
    }
   ],
   "source": [
    "# validaation rmse\n",
    "model_score('SVM(RBF) (SVR_rmse_val)', SVR_rmse_val)"
   ]
  },
  {
   "cell_type": "code",
   "execution_count": 66,
   "metadata": {},
   "outputs": [
    {
     "data": {
      "text/html": [
       "<div>\n",
       "<style scoped>\n",
       "    .dataframe tbody tr th:only-of-type {\n",
       "        vertical-align: middle;\n",
       "    }\n",
       "\n",
       "    .dataframe tbody tr th {\n",
       "        vertical-align: top;\n",
       "    }\n",
       "\n",
       "    .dataframe thead th {\n",
       "        text-align: right;\n",
       "    }\n",
       "</style>\n",
       "<table border=\"1\" class=\"dataframe\">\n",
       "  <thead>\n",
       "    <tr style=\"text-align: right;\">\n",
       "      <th></th>\n",
       "      <th>Model</th>\n",
       "      <th>Score</th>\n",
       "    </tr>\n",
       "  </thead>\n",
       "  <tbody>\n",
       "    <tr>\n",
       "      <th>0</th>\n",
       "      <td>Linear Regression (train_r2)</td>\n",
       "      <td>0.664009</td>\n",
       "    </tr>\n",
       "    <tr>\n",
       "      <th>1</th>\n",
       "      <td>Linear Regression (val_r2)</td>\n",
       "      <td>0.646343</td>\n",
       "    </tr>\n",
       "    <tr>\n",
       "      <th>2</th>\n",
       "      <td>Linear Regression (train_rmse)</td>\n",
       "      <td>1.272012</td>\n",
       "    </tr>\n",
       "    <tr>\n",
       "      <th>3</th>\n",
       "      <td>Linear Regression (val_rmse)</td>\n",
       "      <td>1.388489</td>\n",
       "    </tr>\n",
       "    <tr>\n",
       "      <th>4</th>\n",
       "      <td>Random Forest (rf_r2_train)</td>\n",
       "      <td>0.963212</td>\n",
       "    </tr>\n",
       "    <tr>\n",
       "      <th>5</th>\n",
       "      <td>Random Forest (rf_r2_val)</td>\n",
       "      <td>0.756102</td>\n",
       "    </tr>\n",
       "    <tr>\n",
       "      <th>6</th>\n",
       "      <td>Random Forest (rf_rmse_train)</td>\n",
       "      <td>0.420902</td>\n",
       "    </tr>\n",
       "    <tr>\n",
       "      <th>7</th>\n",
       "      <td>Random Forest (rf_rmse_val)</td>\n",
       "      <td>1.153070</td>\n",
       "    </tr>\n",
       "    <tr>\n",
       "      <th>8</th>\n",
       "      <td>Random Forest_HP (rf1_r2_train)</td>\n",
       "      <td>0.827411</td>\n",
       "    </tr>\n",
       "    <tr>\n",
       "      <th>9</th>\n",
       "      <td>Random Forest_HP (rf_r2_val)</td>\n",
       "      <td>0.744507</td>\n",
       "    </tr>\n",
       "    <tr>\n",
       "      <th>10</th>\n",
       "      <td>Random Forest_HP (rf_rmse_train)</td>\n",
       "      <td>0.911664</td>\n",
       "    </tr>\n",
       "    <tr>\n",
       "      <th>11</th>\n",
       "      <td>Random Forest_HP (rf_rmse_val)</td>\n",
       "      <td>1.180161</td>\n",
       "    </tr>\n",
       "    <tr>\n",
       "      <th>12</th>\n",
       "      <td>SVM (SVM_r2_train)</td>\n",
       "      <td>0.624451</td>\n",
       "    </tr>\n",
       "    <tr>\n",
       "      <th>13</th>\n",
       "      <td>SVM (SVM_r2_val)</td>\n",
       "      <td>0.602187</td>\n",
       "    </tr>\n",
       "    <tr>\n",
       "      <th>14</th>\n",
       "      <td>SVM (SVM_rmse_train)</td>\n",
       "      <td>1.344810</td>\n",
       "    </tr>\n",
       "    <tr>\n",
       "      <th>15</th>\n",
       "      <td>SVM (SVM_rmse_val)</td>\n",
       "      <td>1.472622</td>\n",
       "    </tr>\n",
       "    <tr>\n",
       "      <th>16</th>\n",
       "      <td>Polynomial SVM (PSVM_r2_train)</td>\n",
       "      <td>0.740485</td>\n",
       "    </tr>\n",
       "    <tr>\n",
       "      <th>17</th>\n",
       "      <td>Polynomial SVM (PSVM_r2_val)</td>\n",
       "      <td>0.731049</td>\n",
       "    </tr>\n",
       "    <tr>\n",
       "      <th>18</th>\n",
       "      <td>Polynomial SVM (PSVM_rmse_train)</td>\n",
       "      <td>1.117914</td>\n",
       "    </tr>\n",
       "    <tr>\n",
       "      <th>19</th>\n",
       "      <td>Polynomial SVM (PSVM_rmse_val)</td>\n",
       "      <td>1.210845</td>\n",
       "    </tr>\n",
       "    <tr>\n",
       "      <th>20</th>\n",
       "      <td>SVM(RBF) (SVR_r2_train)</td>\n",
       "      <td>0.765324</td>\n",
       "    </tr>\n",
       "    <tr>\n",
       "      <th>21</th>\n",
       "      <td>SVM(RBF) (SVR_r2_val)</td>\n",
       "      <td>0.747621</td>\n",
       "    </tr>\n",
       "    <tr>\n",
       "      <th>22</th>\n",
       "      <td>SVM(RBF) (SVR_rmse_train)</td>\n",
       "      <td>1.063071</td>\n",
       "    </tr>\n",
       "    <tr>\n",
       "      <th>23</th>\n",
       "      <td>SVM(RBF) (SVR_rmse_val)</td>\n",
       "      <td>1.172947</td>\n",
       "    </tr>\n",
       "  </tbody>\n",
       "</table>\n",
       "</div>"
      ],
      "text/plain": [
       "                               Model     Score\n",
       "0       Linear Regression (train_r2)  0.664009\n",
       "1         Linear Regression (val_r2)  0.646343\n",
       "2     Linear Regression (train_rmse)  1.272012\n",
       "3       Linear Regression (val_rmse)  1.388489\n",
       "4        Random Forest (rf_r2_train)  0.963212\n",
       "5          Random Forest (rf_r2_val)  0.756102\n",
       "6      Random Forest (rf_rmse_train)  0.420902\n",
       "7        Random Forest (rf_rmse_val)  1.153070\n",
       "8    Random Forest_HP (rf1_r2_train)  0.827411\n",
       "9       Random Forest_HP (rf_r2_val)  0.744507\n",
       "10  Random Forest_HP (rf_rmse_train)  0.911664\n",
       "11    Random Forest_HP (rf_rmse_val)  1.180161\n",
       "12                SVM (SVM_r2_train)  0.624451\n",
       "13                  SVM (SVM_r2_val)  0.602187\n",
       "14              SVM (SVM_rmse_train)  1.344810\n",
       "15                SVM (SVM_rmse_val)  1.472622\n",
       "16    Polynomial SVM (PSVM_r2_train)  0.740485\n",
       "17      Polynomial SVM (PSVM_r2_val)  0.731049\n",
       "18  Polynomial SVM (PSVM_rmse_train)  1.117914\n",
       "19    Polynomial SVM (PSVM_rmse_val)  1.210845\n",
       "20           SVM(RBF) (SVR_r2_train)  0.765324\n",
       "21             SVM(RBF) (SVR_r2_val)  0.747621\n",
       "22         SVM(RBF) (SVR_rmse_train)  1.063071\n",
       "23           SVM(RBF) (SVR_rmse_val)  1.172947"
      ]
     },
     "execution_count": 66,
     "metadata": {},
     "output_type": "execute_result"
    }
   ],
   "source": [
    "scores_df"
   ]
  },
  {
   "cell_type": "markdown",
   "metadata": {},
   "source": [
    "### Q5 [10]"
   ]
  },
  {
   "cell_type": "markdown",
   "metadata": {},
   "source": [
    "- Take RBF Kernel SVM and perform hyperparameter tuning. See if you can increase the $R^2$ score.   \n",
    "    - Use:  \n",
    "          'C': [1, 10, 100, 1000]\n",
    "          'gamma': [0.001, 0.01, 0.1, 1]  \n",
    "\n",
    "    - What is the model $R^2$?\n",
    "    - What is the $R^2$ on validation data?\n",
    "    - What is the RMSE on training data?\n",
    "    - What is the RMSE on validation data?"
   ]
  },
  {
   "cell_type": "code",
   "execution_count": 67,
   "metadata": {},
   "outputs": [],
   "source": [
    "from sklearn.model_selection import GridSearchCV"
   ]
  },
  {
   "cell_type": "code",
   "execution_count": 68,
   "metadata": {},
   "outputs": [
    {
     "name": "stdout",
     "output_type": "stream",
     "text": [
      "R2 of training data: 0.7851026548753166\n",
      "R2 of validation data: 0.7568567058132706\n",
      "RMSE of training data: 1.0002456417533572\n",
      "RMSE of validation data: 1.1512846817366564\n"
     ]
    }
   ],
   "source": [
    "# Define the model\n",
    "svr = SVR(kernel='rbf')\n",
    "\n",
    "# Define the hyperparameters to tune\n",
    "param_grid = {'C': [1, 10, 100, 1000], 'gamma': [0.001, 0.01, 0.1, 1]}\n",
    "\n",
    "# Perform GridSearchCV with 5-fold cross validation\n",
    "grid = GridSearchCV(svr, param_grid, cv=5)\n",
    "grid.fit(X_train, y_train)\n",
    "\n",
    "# The best hyperparameters and the corresponding R2 score\n",
    "print(\"R2 of training data:\", grid.best_score_)\n",
    "print(\"R2 of validation data:\", grid.score(X_val, y_val))\n",
    "\n",
    "# Predict on the training, validation, and testing sets\n",
    "GS_train_pred = grid.predict(X_train)\n",
    "GS_val_pred = grid.predict(X_val)\n",
    "\n",
    "# Calculate the RMSE on the training, validation, and testing sets\n",
    "from sklearn.metrics import mean_squared_error\n",
    "\n",
    "GS_rmse_train = mean_squared_error(y_train, GS_train_pred, squared=False)\n",
    "GS_rmse_val = mean_squared_error(y_val, GS_val_pred, squared=False)\n",
    "\n",
    "print(\"RMSE of training data:\", GS_rmse_train)\n",
    "print(\"RMSE of validation data:\", GS_rmse_val)\n"
   ]
  },
  {
   "cell_type": "markdown",
   "metadata": {},
   "source": [
    "## Q6 [10]"
   ]
  },
  {
   "cell_type": "markdown",
   "metadata": {},
   "source": [
    "- Apply PCA and transform the data. \n",
    "    - For PCA we need to decide on the number of  components. Take sufficient number of components based on variance explained \n",
    "        - generally it is chosen as the number of components that can explain 90% of the variance \n",
    "        - or cross-validation accuracy using an ML model.\n",
    "\n",
    "- Use the PCA transformed data to perform regression. Use the models: \n",
    "    - Linear Regression\n",
    "    - Random Forest Regression (Optional to do hyper parameter tuning)\n",
    "    - RBF Kernel Support Vector Regression (Optional to do hyper parameter tuning)\n",
    "  \n",
    "- For each model:  \n",
    "    - What is the model $R^2$?\n",
    "    - What is the $R^2$ on validation data?\n",
    "    - What is the RMSE on training data?\n",
    "    - What is the RMSE on validation data?\n",
    "    \n",
    "- Compare these models with their counterparts obtained before. For example: Compare `PCA RBF SVR` with the `RBF SVR` model from before. Do you observe any change in performance? Please explain. \n"
   ]
  },
  {
   "cell_type": "code",
   "execution_count": 69,
   "metadata": {},
   "outputs": [],
   "source": [
    "from sklearn.decomposition import PCA"
   ]
  },
  {
   "cell_type": "code",
   "execution_count": 70,
   "metadata": {},
   "outputs": [],
   "source": [
    "pca = PCA(n_components=None)\n",
    "\n",
    "pca.fit(X_train)\n",
    "X_train_pca = pca.transform(X_train)\n",
    "X_val_pca = pca.transform(X_val)\n",
    "X_test_pca = pca.transform(X_test)"
   ]
  },
  {
   "cell_type": "code",
   "execution_count": 71,
   "metadata": {},
   "outputs": [
    {
     "name": "stdout",
     "output_type": "stream",
     "text": [
      "[0.58158952 0.78924196 0.88751722 0.94337792 0.98704348 0.9959942\n",
      " 0.99975821 0.99992456 1.        ]\n"
     ]
    },
    {
     "data": {
      "image/png": "[encoded data removed]",
      "text/plain": [
       "<Figure size 432x288 with 1 Axes>"
      ]
     },
     "metadata": {
      "needs_background": "light"
     },
     "output_type": "display_data"
    }
   ],
   "source": [
    "print(pca.explained_variance_ratio_.cumsum())\n",
    "plt.plot(pca.explained_variance_ratio_.cumsum(), '-o');\n",
    "plt.xticks(ticks= range(X_train_pca.shape[1]), labels=[i+1 for i in range(X_train_pca.shape[1])])\n",
    "plt.xlabel('Principal Components')\n",
    "plt.ylabel('Variance Explained')\n",
    "plt.show()"
   ]
  },
  {
   "cell_type": "markdown",
   "metadata": {},
   "source": [
    "Choose the number of components."
   ]
  },
  {
   "cell_type": "code",
   "execution_count": 72,
   "metadata": {},
   "outputs": [],
   "source": [
    "X_train_pca2 = X_train_pca[:, 0:5]\n",
    "X_val_pca2 = X_val_pca[:, 0:5]\n",
    "X_test_pca2 = X_test_pca[:, 0:5]"
   ]
  },
  {
   "cell_type": "markdown",
   "metadata": {},
   "source": [
    "**Linear Regression with PCA transformed data**"
   ]
  },
  {
   "cell_type": "code",
   "execution_count": 73,
   "metadata": {},
   "outputs": [
    {
     "name": "stdout",
     "output_type": "stream",
     "text": [
      "Linear Regression with PCA\n"
     ]
    }
   ],
   "source": [
    "lin_reg = LinearRegression()\n",
    "lin_reg.fit(X_train_pca2, y_train)\n",
    "pca_train_pred = lin_reg.predict(X_train_pca2)\n",
    "pca_val_pred = lin_reg.predict(X_val_pca2)\n",
    "\n",
    "pca_R2_train = lin_reg.score(X_train_pca2, y_train)\n",
    "pca_R2_val = lin_reg.score(X_val_pca2, y_val)\n",
    "\n",
    "pca_rmse_train = np.sqrt(mean_squared_error(y_train, pca_train_pred))\n",
    "pca_rmse_val = np.sqrt(mean_squared_error(y_val, pca_val_pred))\n",
    "\n",
    "print(\"Linear Regression with PCA\")\n"
   ]
  },
  {
   "cell_type": "code",
   "execution_count": 74,
   "metadata": {},
   "outputs": [
    {
     "name": "stdout",
     "output_type": "stream",
     "text": [
      "Scores for Linear Regression with PCA (train_r2): 0.6557906042002006\n"
     ]
    }
   ],
   "source": [
    "#r2 of training data\n",
    "model_score('Linear Regression with PCA (train_r2)', pca_R2_train)"
   ]
  },
  {
   "cell_type": "code",
   "execution_count": 75,
   "metadata": {},
   "outputs": [
    {
     "name": "stdout",
     "output_type": "stream",
     "text": [
      "Scores for Linear Regression with PCA(val_r2): 0.6333206399655548\n"
     ]
    }
   ],
   "source": [
    "#r2 of validation data\n",
    "model_score('Linear Regression with PCA(val_r2)', pca_R2_val)"
   ]
  },
  {
   "cell_type": "code",
   "execution_count": 76,
   "metadata": {},
   "outputs": [
    {
     "name": "stdout",
     "output_type": "stream",
     "text": [
      "Scores for Linear Regression with PCA (train_rmse): 1.2874751982855395\n"
     ]
    }
   ],
   "source": [
    "# training rmse\n",
    "model_score('Linear Regression with PCA (train_rmse)', pca_rmse_train)"
   ]
  },
  {
   "cell_type": "code",
   "execution_count": 77,
   "metadata": {},
   "outputs": [
    {
     "name": "stdout",
     "output_type": "stream",
     "text": [
      "Scores for LInear Regression with PCA (rf_rmse_val): 1.413822244602062\n"
     ]
    }
   ],
   "source": [
    "# validaation rmse\n",
    "model_score('LInear Regression with PCA (rf_rmse_val)', pca_rmse_val)"
   ]
  },
  {
   "cell_type": "markdown",
   "metadata": {},
   "source": [
    "**RF Regression with PCA transformed data**"
   ]
  },
  {
   "cell_type": "code",
   "execution_count": 78,
   "metadata": {},
   "outputs": [],
   "source": [
    "rf = RandomForestRegressor(random_state=99)\n",
    "param_grid = {'n_estimators': [10, 50, 100, 200],\n",
    "'max_depth': [5, 10, 20, None],\n",
    "'min_samples_split': [2, 5, 10]}"
   ]
  },
  {
   "cell_type": "code",
   "execution_count": 79,
   "metadata": {},
   "outputs": [
    {
     "name": "stdout",
     "output_type": "stream",
     "text": [
      "RF Regression with PCA\n",
      "R2 on training data: 0.9646150583913384\n",
      "R2 on validation data: 0.7381859665068906\n",
      "RMSE on training data: 0.41279720945738463\n",
      "RMSE on validation data: 1.1946702221832866\n"
     ]
    }
   ],
   "source": [
    "rf_grid = GridSearchCV(rf, param_grid=param_grid, cv=5, scoring='r2')\n",
    "rf_grid.fit(X_train_pca2, y_train)\n",
    "\n",
    "best_rf = rf_grid.best_estimator_\n",
    "best_rf.fit(X_train_pca2, y_train)\n",
    "\n",
    "pcaRF_train_pred = best_rf.predict(X_train_pca2)\n",
    "pcaRF_val_pred = best_rf.predict(X_val_pca2)\n",
    "\n",
    "pcaRF_R2_train = best_rf.score(X_train_pca2, y_train)\n",
    "pcaRF_R2_val = best_rf.score(X_val_pca2, y_val)\n",
    "\n",
    "pcaRF_rmse_train = np.sqrt(mean_squared_error(y_train, pcaRF_train_pred))\n",
    "pcaRF_rmse_val = np.sqrt(mean_squared_error(y_val, pcaRF_val_pred))\n",
    "\n",
    "print(\"RF Regression with PCA\")\n",
    "print(\"R2 on training data:\", pcaRF_R2_train)\n",
    "print(\"R2 on validation data:\", pcaRF_R2_val)\n",
    "print(\"RMSE on training data:\", pcaRF_rmse_train)\n",
    "print(\"RMSE on validation data:\", pcaRF_rmse_val)"
   ]
  },
  {
   "cell_type": "code",
   "execution_count": 139,
   "metadata": {},
   "outputs": [
    {
     "name": "stdout",
     "output_type": "stream",
     "text": [
      "Scores for Random Forest with PCA (train_r2): 0.9646150583913384\n"
     ]
    }
   ],
   "source": [
    "#r2 of training data\n",
    "model_score('Random Forest with PCA (train_r2)', pcaRF_R2_train)"
   ]
  },
  {
   "cell_type": "code",
   "execution_count": 140,
   "metadata": {},
   "outputs": [
    {
     "name": "stdout",
     "output_type": "stream",
     "text": [
      "Scores for Random Forest with PCA(val_r2): 0.7381859665068906\n"
     ]
    }
   ],
   "source": [
    "#r2 of validation data\n",
    "model_score('Random Forest with PCA(val_r2)', pcaRF_R2_val)"
   ]
  },
  {
   "cell_type": "code",
   "execution_count": 141,
   "metadata": {},
   "outputs": [
    {
     "name": "stdout",
     "output_type": "stream",
     "text": [
      "Scores for Random Forest with PCA (train_rmse): 0.41279720945738463\n"
     ]
    }
   ],
   "source": [
    "# training rmse\n",
    "model_score('Random Forest with PCA (train_rmse)', pcaRF_rmse_train)"
   ]
  },
  {
   "cell_type": "code",
   "execution_count": 142,
   "metadata": {},
   "outputs": [
    {
     "name": "stdout",
     "output_type": "stream",
     "text": [
      "Scores for Random Forest with PCA (rf_rmse_val): 1.1946702221832866\n"
     ]
    }
   ],
   "source": [
    "# validaation rmse\n",
    "model_score('Random Forest with PCA (rf_rmse_val)', pcaRF_rmse_val)"
   ]
  },
  {
   "cell_type": "markdown",
   "metadata": {},
   "source": [
    "**SVM Regression with PCA transformed data**"
   ]
  },
  {
   "cell_type": "code",
   "execution_count": 80,
   "metadata": {},
   "outputs": [
    {
     "data": {
      "text/plain": [
       "GridSearchCV(cv=5, estimator=SVR(),\n",
       "             param_grid={'C': [0.1, 1, 10, 100], 'gamma': [0.1, 1, 10, 100]},\n",
       "             scoring='r2')"
      ]
     },
     "execution_count": 80,
     "metadata": {},
     "output_type": "execute_result"
    }
   ],
   "source": [
    "rbf_svr = SVR(kernel='rbf')\n",
    "\n",
    "param_grid = {'C': [0.1, 1, 10, 100],\n",
    "'gamma': [0.1, 1, 10, 100]}\n",
    "\n",
    "rbf_svr_grid = GridSearchCV(rbf_svr, param_grid=param_grid, cv=5, scoring='r2')\n",
    "rbf_svr_grid.fit(X_train_pca2, y_train)"
   ]
  },
  {
   "cell_type": "code",
   "execution_count": 81,
   "metadata": {},
   "outputs": [
    {
     "name": "stdout",
     "output_type": "stream",
     "text": [
      "SVM Regression with PCA\n"
     ]
    }
   ],
   "source": [
    "rbf_svr_grid = rbf_svr_grid.best_estimator_\n",
    "rbf_svr_grid.fit(X_train_pca2, y_train)\n",
    "\n",
    "Rsvr_train_pred = rbf_svr_grid.predict(X_train_pca2)\n",
    "Rsvr_val_pred = rbf_svr_grid.predict(X_val_pca2)\n",
    "\n",
    "Rsvr_R2_train = rbf_svr_grid.score(X_train_pca2, y_train)\n",
    "Rsvr_R2_val = rbf_svr_grid.score(X_val_pca2, y_val)\n",
    "\n",
    "Rsvr_rmse_train = np.sqrt(mean_squared_error(y_train, Rsvr_train_pred))\n",
    "Rsvr_rmse_val = np.sqrt(mean_squared_error(y_val, Rsvr_val_pred))\n",
    "\n",
    "print(\"SVM Regression with PCA\")"
   ]
  },
  {
   "cell_type": "code",
   "execution_count": 82,
   "metadata": {},
   "outputs": [
    {
     "name": "stdout",
     "output_type": "stream",
     "text": [
      "Scores for SVM(RBF) on PCA (SVR_r2_train): 0.7888301979504186\n"
     ]
    }
   ],
   "source": [
    "#r2 of training data \n",
    "model_score('SVM(RBF) on PCA (SVR_r2_train)', Rsvr_R2_train)"
   ]
  },
  {
   "cell_type": "code",
   "execution_count": 83,
   "metadata": {},
   "outputs": [
    {
     "name": "stdout",
     "output_type": "stream",
     "text": [
      "Scores for SVM(RBF) on PCA (SVR_r2_val): 0.7521924013461454\n"
     ]
    }
   ],
   "source": [
    "#r2 of validation data\n",
    "model_score('SVM(RBF) on PCA (SVR_r2_val)', Rsvr_R2_val)"
   ]
  },
  {
   "cell_type": "code",
   "execution_count": 84,
   "metadata": {},
   "outputs": [
    {
     "name": "stdout",
     "output_type": "stream",
     "text": [
      "Scores for SVM(RBF) on PCA (SVR_rmse_train): 1.008424567507621\n"
     ]
    }
   ],
   "source": [
    "# training rmse\n",
    "model_score('SVM(RBF) on PCA (SVR_rmse_train)', Rsvr_rmse_train)"
   ]
  },
  {
   "cell_type": "code",
   "execution_count": 85,
   "metadata": {},
   "outputs": [
    {
     "name": "stdout",
     "output_type": "stream",
     "text": [
      "Scores for SVM(RBF)on PCA (SVR_rmse_val): 1.1622749766126788\n"
     ]
    }
   ],
   "source": [
    "# validaation rmse\n",
    "model_score('SVM(RBF)on PCA (SVR_rmse_val)', Rsvr_rmse_val)"
   ]
  },
  {
   "cell_type": "code",
   "execution_count": 86,
   "metadata": {},
   "outputs": [
    {
     "data": {
      "text/html": [
       "<div>\n",
       "<style scoped>\n",
       "    .dataframe tbody tr th:only-of-type {\n",
       "        vertical-align: middle;\n",
       "    }\n",
       "\n",
       "    .dataframe tbody tr th {\n",
       "        vertical-align: top;\n",
       "    }\n",
       "\n",
       "    .dataframe thead th {\n",
       "        text-align: right;\n",
       "    }\n",
       "</style>\n",
       "<table border=\"1\" class=\"dataframe\">\n",
       "  <thead>\n",
       "    <tr style=\"text-align: right;\">\n",
       "      <th></th>\n",
       "      <th>Model</th>\n",
       "      <th>Score</th>\n",
       "    </tr>\n",
       "  </thead>\n",
       "  <tbody>\n",
       "    <tr>\n",
       "      <th>0</th>\n",
       "      <td>Linear Regression (train_r2)</td>\n",
       "      <td>0.664009</td>\n",
       "    </tr>\n",
       "    <tr>\n",
       "      <th>1</th>\n",
       "      <td>Linear Regression (val_r2)</td>\n",
       "      <td>0.646343</td>\n",
       "    </tr>\n",
       "    <tr>\n",
       "      <th>2</th>\n",
       "      <td>Linear Regression (train_rmse)</td>\n",
       "      <td>1.272012</td>\n",
       "    </tr>\n",
       "    <tr>\n",
       "      <th>3</th>\n",
       "      <td>Linear Regression (val_rmse)</td>\n",
       "      <td>1.388489</td>\n",
       "    </tr>\n",
       "    <tr>\n",
       "      <th>4</th>\n",
       "      <td>Random Forest (rf_r2_train)</td>\n",
       "      <td>0.963212</td>\n",
       "    </tr>\n",
       "    <tr>\n",
       "      <th>5</th>\n",
       "      <td>Random Forest (rf_r2_val)</td>\n",
       "      <td>0.756102</td>\n",
       "    </tr>\n",
       "    <tr>\n",
       "      <th>6</th>\n",
       "      <td>Random Forest (rf_rmse_train)</td>\n",
       "      <td>0.420902</td>\n",
       "    </tr>\n",
       "    <tr>\n",
       "      <th>7</th>\n",
       "      <td>Random Forest (rf_rmse_val)</td>\n",
       "      <td>1.153070</td>\n",
       "    </tr>\n",
       "    <tr>\n",
       "      <th>8</th>\n",
       "      <td>Random Forest_HP (rf1_r2_train)</td>\n",
       "      <td>0.827411</td>\n",
       "    </tr>\n",
       "    <tr>\n",
       "      <th>9</th>\n",
       "      <td>Random Forest_HP (rf_r2_val)</td>\n",
       "      <td>0.744507</td>\n",
       "    </tr>\n",
       "    <tr>\n",
       "      <th>10</th>\n",
       "      <td>Random Forest_HP (rf_rmse_train)</td>\n",
       "      <td>0.911664</td>\n",
       "    </tr>\n",
       "    <tr>\n",
       "      <th>11</th>\n",
       "      <td>Random Forest_HP (rf_rmse_val)</td>\n",
       "      <td>1.180161</td>\n",
       "    </tr>\n",
       "    <tr>\n",
       "      <th>12</th>\n",
       "      <td>SVM (SVM_r2_train)</td>\n",
       "      <td>0.624451</td>\n",
       "    </tr>\n",
       "    <tr>\n",
       "      <th>13</th>\n",
       "      <td>SVM (SVM_r2_val)</td>\n",
       "      <td>0.602187</td>\n",
       "    </tr>\n",
       "    <tr>\n",
       "      <th>14</th>\n",
       "      <td>SVM (SVM_rmse_train)</td>\n",
       "      <td>1.344810</td>\n",
       "    </tr>\n",
       "    <tr>\n",
       "      <th>15</th>\n",
       "      <td>SVM (SVM_rmse_val)</td>\n",
       "      <td>1.472622</td>\n",
       "    </tr>\n",
       "    <tr>\n",
       "      <th>16</th>\n",
       "      <td>Polynomial SVM (PSVM_r2_train)</td>\n",
       "      <td>0.740485</td>\n",
       "    </tr>\n",
       "    <tr>\n",
       "      <th>17</th>\n",
       "      <td>Polynomial SVM (PSVM_r2_val)</td>\n",
       "      <td>0.731049</td>\n",
       "    </tr>\n",
       "    <tr>\n",
       "      <th>18</th>\n",
       "      <td>Polynomial SVM (PSVM_rmse_train)</td>\n",
       "      <td>1.117914</td>\n",
       "    </tr>\n",
       "    <tr>\n",
       "      <th>19</th>\n",
       "      <td>Polynomial SVM (PSVM_rmse_val)</td>\n",
       "      <td>1.210845</td>\n",
       "    </tr>\n",
       "    <tr>\n",
       "      <th>20</th>\n",
       "      <td>SVM(RBF) (SVR_r2_train)</td>\n",
       "      <td>0.765324</td>\n",
       "    </tr>\n",
       "    <tr>\n",
       "      <th>21</th>\n",
       "      <td>SVM(RBF) (SVR_r2_val)</td>\n",
       "      <td>0.747621</td>\n",
       "    </tr>\n",
       "    <tr>\n",
       "      <th>22</th>\n",
       "      <td>SVM(RBF) (SVR_rmse_train)</td>\n",
       "      <td>1.063071</td>\n",
       "    </tr>\n",
       "    <tr>\n",
       "      <th>23</th>\n",
       "      <td>SVM(RBF) (SVR_rmse_val)</td>\n",
       "      <td>1.172947</td>\n",
       "    </tr>\n",
       "    <tr>\n",
       "      <th>24</th>\n",
       "      <td>Linear Regression with PCA (train_r2)</td>\n",
       "      <td>0.655791</td>\n",
       "    </tr>\n",
       "    <tr>\n",
       "      <th>25</th>\n",
       "      <td>Linear Regression with PCA(val_r2)</td>\n",
       "      <td>0.633321</td>\n",
       "    </tr>\n",
       "    <tr>\n",
       "      <th>26</th>\n",
       "      <td>Linear Regression with PCA (train_rmse)</td>\n",
       "      <td>1.287475</td>\n",
       "    </tr>\n",
       "    <tr>\n",
       "      <th>27</th>\n",
       "      <td>LInear Regression with PCA (rf_rmse_val)</td>\n",
       "      <td>1.413822</td>\n",
       "    </tr>\n",
       "    <tr>\n",
       "      <th>28</th>\n",
       "      <td>SVM(RBF) on PCA (SVR_r2_train)</td>\n",
       "      <td>0.788830</td>\n",
       "    </tr>\n",
       "    <tr>\n",
       "      <th>29</th>\n",
       "      <td>SVM(RBF) on PCA (SVR_r2_val)</td>\n",
       "      <td>0.752192</td>\n",
       "    </tr>\n",
       "    <tr>\n",
       "      <th>30</th>\n",
       "      <td>SVM(RBF) on PCA (SVR_rmse_train)</td>\n",
       "      <td>1.008425</td>\n",
       "    </tr>\n",
       "    <tr>\n",
       "      <th>31</th>\n",
       "      <td>SVM(RBF)on PCA (SVR_rmse_val)</td>\n",
       "      <td>1.162275</td>\n",
       "    </tr>\n",
       "  </tbody>\n",
       "</table>\n",
       "</div>"
      ],
      "text/plain": [
       "                                       Model     Score\n",
       "0               Linear Regression (train_r2)  0.664009\n",
       "1                 Linear Regression (val_r2)  0.646343\n",
       "2             Linear Regression (train_rmse)  1.272012\n",
       "3               Linear Regression (val_rmse)  1.388489\n",
       "4                Random Forest (rf_r2_train)  0.963212\n",
       "5                  Random Forest (rf_r2_val)  0.756102\n",
       "6              Random Forest (rf_rmse_train)  0.420902\n",
       "7                Random Forest (rf_rmse_val)  1.153070\n",
       "8            Random Forest_HP (rf1_r2_train)  0.827411\n",
       "9               Random Forest_HP (rf_r2_val)  0.744507\n",
       "10          Random Forest_HP (rf_rmse_train)  0.911664\n",
       "11            Random Forest_HP (rf_rmse_val)  1.180161\n",
       "12                        SVM (SVM_r2_train)  0.624451\n",
       "13                          SVM (SVM_r2_val)  0.602187\n",
       "14                      SVM (SVM_rmse_train)  1.344810\n",
       "15                        SVM (SVM_rmse_val)  1.472622\n",
       "16            Polynomial SVM (PSVM_r2_train)  0.740485\n",
       "17              Polynomial SVM (PSVM_r2_val)  0.731049\n",
       "18          Polynomial SVM (PSVM_rmse_train)  1.117914\n",
       "19            Polynomial SVM (PSVM_rmse_val)  1.210845\n",
       "20                   SVM(RBF) (SVR_r2_train)  0.765324\n",
       "21                     SVM(RBF) (SVR_r2_val)  0.747621\n",
       "22                 SVM(RBF) (SVR_rmse_train)  1.063071\n",
       "23                   SVM(RBF) (SVR_rmse_val)  1.172947\n",
       "24     Linear Regression with PCA (train_r2)  0.655791\n",
       "25        Linear Regression with PCA(val_r2)  0.633321\n",
       "26   Linear Regression with PCA (train_rmse)  1.287475\n",
       "27  LInear Regression with PCA (rf_rmse_val)  1.413822\n",
       "28            SVM(RBF) on PCA (SVR_r2_train)  0.788830\n",
       "29              SVM(RBF) on PCA (SVR_r2_val)  0.752192\n",
       "30          SVM(RBF) on PCA (SVR_rmse_train)  1.008425\n",
       "31             SVM(RBF)on PCA (SVR_rmse_val)  1.162275"
      ]
     },
     "execution_count": 86,
     "metadata": {},
     "output_type": "execute_result"
    }
   ],
   "source": [
    "scores_df"
   ]
  },
  {
   "cell_type": "markdown",
   "metadata": {},
   "source": [
    "## Q7 [10]"
   ]
  },
  {
   "cell_type": "markdown",
   "metadata": {},
   "source": [
    "#### Let's do  classification "
   ]
  },
  {
   "cell_type": "markdown",
   "metadata": {},
   "source": [
    "We will convert CO target values into binary form by comparing them to a threshold. $ 0 - 3  mg/m^3$ is the range of max 8-hour avg. ambient CO in most US cities. So let's take that.  \n",
    "[CO Levels of Concern in Government Recommendations and Regulations](https://www.carbonmonoxidekills.com/are-you-at-risk/carbon-monoxide-levels/)"
   ]
  },
  {
   "cell_type": "code",
   "execution_count": 87,
   "metadata": {},
   "outputs": [],
   "source": [
    "from sklearn.preprocessing import Binarizer"
   ]
  },
  {
   "cell_type": "code",
   "execution_count": 88,
   "metadata": {},
   "outputs": [],
   "source": [
    "binarizer = Binarizer(threshold=3)"
   ]
  },
  {
   "cell_type": "code",
   "execution_count": 89,
   "metadata": {},
   "outputs": [],
   "source": [
    "y_train_cat = binarizer.transform(y_train.values.reshape(-1,1)).ravel()\n",
    "y_val_cat = binarizer.transform(y_val.values.reshape(-1,1)).ravel()\n",
    "y_test_cat = binarizer.transform(y_test.values.reshape(-1,1)).ravel()"
   ]
  },
  {
   "cell_type": "code",
   "execution_count": 90,
   "metadata": {},
   "outputs": [],
   "source": [
    "y_train_cat = pd.Series(y_train_cat)"
   ]
  },
  {
   "cell_type": "code",
   "execution_count": 91,
   "metadata": {},
   "outputs": [
    {
     "data": {
      "text/plain": [
       "<matplotlib.axes._subplots.AxesSubplot at 0x1f97bc4eac8>"
      ]
     },
     "execution_count": 91,
     "metadata": {},
     "output_type": "execute_result"
    },
    {
     "data": {
      "image/png": "[encoded data removed]",
      "text/plain": [
       "<Figure size 432x288 with 1 Axes>"
      ]
     },
     "metadata": {
      "needs_background": "light"
     },
     "output_type": "display_data"
    }
   ],
   "source": [
    "y_train_cat.value_counts().plot.barh()"
   ]
  },
  {
   "cell_type": "markdown",
   "metadata": {},
   "source": [
    "### Fit RBF Kernel SVM Classifier\n",
    "\n",
    "#### 1. Standardized training data \n",
    "- Using the standardized training data perform grid search:\n",
    "    - Find the best combination of the `C` and `gamma` hyper-parameters.  \n",
    "- For the best model:\n",
    "    - Either using the confusion matrix or the methods in `sklearn.metrics` get the following metrics on the validation set:\n",
    "     - Create confusion matrix\n",
    "     - Recall (Sensitivity)\n",
    "     - Specificity\n",
    "     - Precision\n",
    "     - Balanced Accuracy\n",
    "     - F1 Score\n",
    "     \n",
    "\n",
    "#### 2. PCA transformed training data \n",
    "- Using the **pca** transformed training data `X_train_pca2` perform grid search:\n",
    "    - Find the best combination of the `C` and `gamma` hyper-parameters.  \n",
    "- For the best model:\n",
    "    - Either using the confusion matrix or the methods in `sklearn.metrics` get the following metrics on the validation set `X_val_pca2`:\n",
    "         - Create confusion matrix\n",
    "         - Recall (Sensitivity)\n",
    "         - Specificity\n",
    "         - Precision\n",
    "         - Balanced Accuracy\n",
    "         - F1 Score\n"
   ]
  },
  {
   "cell_type": "code",
   "execution_count": 98,
   "metadata": {},
   "outputs": [],
   "source": [
    "from sklearn.svm import SVC"
   ]
  },
  {
   "cell_type": "code",
   "execution_count": 99,
   "metadata": {},
   "outputs": [],
   "source": [
    "estimator = SVC(kernel ='rbf')"
   ]
  },
  {
   "cell_type": "markdown",
   "metadata": {},
   "source": [
    "#### SVC Model 1 "
   ]
  },
  {
   "cell_type": "code",
   "execution_count": 100,
   "metadata": {},
   "outputs": [
    {
     "name": "stderr",
     "output_type": "stream",
     "text": [
      "C:\\Users\\razia\\Anaconda3\\lib\\site-packages\\sklearn\\base.py:451: UserWarning: X does not have valid feature names, but StandardScaler was fitted with feature names\n",
      "  \"X does not have valid feature names, but\"\n",
      "C:\\Users\\razia\\Anaconda3\\lib\\site-packages\\sklearn\\base.py:451: UserWarning: X does not have valid feature names, but StandardScaler was fitted with feature names\n",
      "  \"X does not have valid feature names, but\"\n",
      "C:\\Users\\razia\\Anaconda3\\lib\\site-packages\\sklearn\\base.py:451: UserWarning: X does not have valid feature names, but StandardScaler was fitted with feature names\n",
      "  \"X does not have valid feature names, but\"\n"
     ]
    }
   ],
   "source": [
    "X_train = ss.transform(X_train)\n",
    "X_val = ss.transform(X_val)\n",
    "X_test = ss.transform(X_test)\n",
    "\n",
    "param_grid = {'C': [0.1, 1, 10], 'gamma': [0.1, 1, 10]}\n",
    "grid_search = GridSearchCV(SVC(kernel='rbf'), param_grid, cv=5)\n",
    "grid_search.fit(X_train, y_train_cat)\n",
    "best_svc = grid_search.best_estimator_\n",
    "best_svc.fit(X_train, y_train_cat)\n",
    "svc_val_pred = best_svc.predict(X_val)"
   ]
  },
  {
   "cell_type": "code",
   "execution_count": 101,
   "metadata": {},
   "outputs": [
    {
     "name": "stdout",
     "output_type": "stream",
     "text": [
      "Confusion matrix:\n",
      "[[766  46]\n",
      " [ 71 446]]\n"
     ]
    }
   ],
   "source": [
    "from sklearn.metrics import confusion_matrix, recall_score, precision_score, f1_score\n",
    "cfm = metrics.confusion_matrix(y_val_cat, svc_val_pred)\n",
    "print('Confusion matrix:')\n",
    "print(cfm)"
   ]
  },
  {
   "cell_type": "code",
   "execution_count": 102,
   "metadata": {},
   "outputs": [
    {
     "name": "stdout",
     "output_type": "stream",
     "text": [
      "              precision    recall  f1-score   support\n",
      "\n",
      "         0.0       0.92      0.94      0.93       812\n",
      "         1.0       0.91      0.86      0.88       517\n",
      "\n",
      "    accuracy                           0.91      1329\n",
      "   macro avg       0.91      0.90      0.91      1329\n",
      "weighted avg       0.91      0.91      0.91      1329\n",
      "\n"
     ]
    }
   ],
   "source": [
    "print(metrics.classification_report(y_val_cat, svc_val_pred))"
   ]
  },
  {
   "cell_type": "code",
   "execution_count": 103,
   "metadata": {},
   "outputs": [
    {
     "name": "stdout",
     "output_type": "stream",
     "text": [
      "recall 0.8626692456479691\n",
      "balanced_accuracy 0.9030094996712752\n",
      "Specificity: 0.9433497536945813\n",
      "False Positive Rate: 0.05665024630541872\n"
     ]
    }
   ],
   "source": [
    "tn, fp, fn, tp = cfm.ravel()\n",
    "recall = recall_score(y_val_cat, svc_val_pred)\n",
    "print(\"recall\",recall)\n",
    "specificity = tn / (tn + fp)\n",
    "fpr = fp / (fp + tn)\n",
    "balanced_accuracy = (recall + specificity) / 2\n",
    "print(\"balanced_accuracy\",balanced_accuracy)\n",
    "print(\"Specificity:\", specificity)\n",
    "print(\"False Positive Rate:\", fpr)"
   ]
  },
  {
   "cell_type": "markdown",
   "metadata": {},
   "source": [
    "#### SVC Model 2"
   ]
  },
  {
   "cell_type": "code",
   "execution_count": 104,
   "metadata": {},
   "outputs": [],
   "source": [
    "param_grid = {'C': [0.1, 1, 10], \n",
    "              'gamma': [0.1, 1, 10]}\n",
    "\n",
    "grid_search = GridSearchCV(estimator, param_grid, cv=5)\n",
    "grid_search.fit(X_train_pca2, y_train_cat)\n",
    "\n",
    "best_params = grid_search.best_params_\n",
    "best_score = grid_search.best_score_\n",
    "\n",
    "best_estimator = SVC(kernel='rbf', C=best_params['C'], gamma=best_params['gamma'])\n",
    "best_estimator.fit(X_train_pca2, y_train_cat)\n",
    "\n",
    "svc2_val_pred = best_estimator.predict(X_val_pca2)"
   ]
  },
  {
   "cell_type": "code",
   "execution_count": 105,
   "metadata": {},
   "outputs": [
    {
     "name": "stdout",
     "output_type": "stream",
     "text": [
      "[[764  48]\n",
      " [ 70 447]]\n"
     ]
    }
   ],
   "source": [
    "cfm2 = confusion_matrix(y_val_cat, svc2_val_pred)\n",
    "print(cfm2)\n"
   ]
  },
  {
   "cell_type": "code",
   "execution_count": 106,
   "metadata": {},
   "outputs": [
    {
     "name": "stdout",
     "output_type": "stream",
     "text": [
      "              precision    recall  f1-score   support\n",
      "\n",
      "         0.0       0.92      0.94      0.93       812\n",
      "         1.0       0.90      0.86      0.88       517\n",
      "\n",
      "    accuracy                           0.91      1329\n",
      "   macro avg       0.91      0.90      0.91      1329\n",
      "weighted avg       0.91      0.91      0.91      1329\n",
      "\n"
     ]
    }
   ],
   "source": [
    "print(metrics.classification_report(y_val_cat, svc2_val_pred))"
   ]
  },
  {
   "cell_type": "code",
   "execution_count": 107,
   "metadata": {},
   "outputs": [
    {
     "name": "stdout",
     "output_type": "stream",
     "text": [
      "recall 0.8646034816247582\n",
      "specificity 0.9408866995073891\n",
      "False Positive Rate: 0.059113300492610835\n",
      "balanced_accuracy 0.9027450905660737\n"
     ]
    }
   ],
   "source": [
    "recall = recall_score(y_val_cat, svc2_val_pred)\n",
    "print(\"recall\",recall)\n",
    "precision = precision_score(y_val_cat, svc2_val_pred)\n",
    "f1 = f1_score(y_val_cat, svc2_val_pred)\n",
    "\n",
    "tn, fp, fn, tp = cfm2.ravel()\n",
    "specificity = tn / (tn + fp)\n",
    "print(\"specificity\",specificity)\n",
    "fpr = fp / (fp + tn)\n",
    "print(\"False Positive Rate:\", fpr)\n",
    "balanced_accuracy = (recall + specificity) / 2\n",
    "print(\"balanced_accuracy\",balanced_accuracy)"
   ]
  },
  {
   "cell_type": "markdown",
   "metadata": {},
   "source": [
    "## Q8 [10]"
   ]
  },
  {
   "cell_type": "markdown",
   "metadata": {},
   "source": [
    "- For regression:\n",
    "    - Think of other ways of improving the regression performance and list at least two possibilities.\n",
    "    - You can use any of the datasets we have been using (standardized data, PCA transformed data), or re-create your own set from the original.\n",
    "    - Implement both of the methods you proposed. \n",
    "    - Is the validation performance increasing? For performance comparison you can use any regression performance metric that you deem to be appropriate. \n",
    "    - Optional: Apply different methods, ideas as you see fit and see if the validation performance is improving."
   ]
  },
  {
   "cell_type": "code",
   "execution_count": 115,
   "metadata": {},
   "outputs": [],
   "source": [
    "# Regression for Feature selection and Ensemble method \n",
    "from sklearn.linear_model import Ridge\n",
    "from sklearn.pipeline import Pipeline\n",
    "from sklearn.feature_selection import RFE"
   ]
  },
  {
   "cell_type": "code",
   "execution_count": 116,
   "metadata": {},
   "outputs": [],
   "source": [
    "# split the data into training, validation, and testing sets\n",
    "X_train, X_test, y_train, y_test = train_test_split(X, y, test_size=0.10, random_state=RANDOM_STATE)\n",
    "X_train, X_val, y_train, y_val = train_test_split(X_train, y_train, test_size=0.20, random_state=RANDOM_STATE)"
   ]
  },
  {
   "cell_type": "code",
   "execution_count": 117,
   "metadata": {},
   "outputs": [
    {
     "name": "stdout",
     "output_type": "stream",
     "text": [
      "R2 score for validation set with feature selection: 0.6281270406953352\n",
      "RMSE for validation set with feature selection: 1.4237996373671455\n"
     ]
    }
   ],
   "source": [
    "pipeline1 = Pipeline([\n",
    "    ('scaler', StandardScaler()),\n",
    "    ('feature_selection', RFE(Ridge(alpha=0.1))),\n",
    "    ('regression', Ridge(alpha=0.1))\n",
    "])\n",
    "# train and evaluate the best pipeline on the validation set\n",
    "pipeline1.fit(X_train, y_train)\n",
    "rr_val_pred = pipeline1.predict(X_val)\n",
    "rr_r2_val1 = r2_score(y_val, rr_val_pred)\n",
    "rr_rmse_val1 = np.sqrt(mean_squared_error(y_val, rr_val_pred))\n",
    "\n",
    "print(\"R2 score for validation set with feature selection:\", rr_r2_val1)\n",
    "print(\"RMSE for validation set with feature selection:\", rr_rmse_val1)\n"
   ]
  },
  {
   "cell_type": "code",
   "execution_count": 118,
   "metadata": {},
   "outputs": [
    {
     "name": "stdout",
     "output_type": "stream",
     "text": [
      "R2 score for validation set with Random Forest regression: 0.7469267516336956\n",
      "RMSE for validation set with Random Forest regression: 1.1745586237604941\n"
     ]
    }
   ],
   "source": [
    "# pipeline for PCA-transformed data with Random Forest regression\n",
    "pipeline2 = Pipeline([\n",
    "    ('pca', PCA(n_components=5)),\n",
    "    ('regression', RandomForestRegressor())\n",
    "])\n",
    "\n",
    "# use GridSearchCV to tune hyperparameters of the Random Forest regression\n",
    "param_grid = {\n",
    "    'regression__n_estimators': [50, 100, 200],\n",
    "    'regression__max_depth': [5, 10, 20, None],\n",
    "    'regression__min_samples_split': [2, 5, 10]\n",
    "}\n",
    "grid_search = GridSearchCV(pipeline2, param_grid=param_grid, cv=5,)\n",
    "grid_search.fit(X_train, y_train)\n",
    "\n",
    "# train and evaluate the best pipeline on the validation set\n",
    "best_pipeline = grid_search.best_estimator_\n",
    "plr_val_pred = best_pipeline.predict(X_val)\n",
    "plr_r2_val2 = r2_score(y_val, plr_val_pred)\n",
    "plr_rmse_val2 = np.sqrt(mean_squared_error(y_val, plr_val_pred))\n",
    "\n",
    "print(\"R2 score for validation set with Random Forest regression:\", plr_r2_val2)\n",
    "print(\"RMSE for validation set with Random Forest regression:\", plr_rmse_val2)"
   ]
  },
  {
   "cell_type": "markdown",
   "metadata": {},
   "source": [
    "The performance of the validation increases,\n",
    "Random Forest Regression appears to do the best on the validation set, according on the R-squared and RMSE values. It is able to explain the greatest amount of variation in the target variable and has the fewest prediction mistakes thanks to its highest R-squared value and lowest RMSE value."
   ]
  },
  {
   "cell_type": "markdown",
   "metadata": {},
   "source": [
    "## Q9 [10]"
   ]
  },
  {
   "cell_type": "markdown",
   "metadata": {},
   "source": [
    "- For classification:\n",
    "    - Try at least one classifier other than SVM (RF, GBM, Logistic Regression, etc). \n",
    "    - Think of other ways of improving the regression performance and list at least two possibilities.\n",
    "    - You can use any of the datasets we have been using (standardized data, PCA transformed data), or re-create your own set from the original.\n",
    "    - Implement both of the methods you proposed. \n",
    "    - Is the validation performance increasing? For performance comparison you can use any regression performance metric that you deem to be appropriate. \n",
    "    - Optional: Apply different methods, ideas as you see fit and see if the validation performance is improving."
   ]
  },
  {
   "cell_type": "markdown",
   "metadata": {},
   "source": [
    "# Trying to improve the performance using Feature Selection"
   ]
  },
  {
   "cell_type": "code",
   "execution_count": 122,
   "metadata": {},
   "outputs": [
    {
     "name": "stdout",
     "output_type": "stream",
     "text": [
      "recall 0.8820116054158608\n",
      "precision 0.8958742632612967\n",
      "f1 0.888888888888889\n",
      "specificity 0.9408866995073891\n",
      "balanced_accuracy 0.911449152461625\n"
     ]
    }
   ],
   "source": [
    "from sklearn.feature_selection import SelectKBest, mutual_info_classif\n",
    "\n",
    "selector = SelectKBest(mutual_info_classif, k=5)\n",
    "X_train_selected = selector.fit_transform(X_train_pca2, y_train_cat)\n",
    "X_val_selected = selector.transform(X_val_pca2)\n",
    "\n",
    "svm = SVC(kernel='rbf', C=1, gamma=0.1)\n",
    "svm.fit(X_train_selected, y_train_cat)\n",
    "\n",
    "FS_val_pred = svm.predict(X_val_selected)\n",
    "\n",
    "\n",
    "recall = recall_score(y_val_cat, FS_val_pred)\n",
    "print('recall',recall)\n",
    "precision = precision_score(y_val_cat, FS_val_pred)\n",
    "print('precision',precision)\n",
    "f1 = f1_score(y_val_cat, FS_val_pred)\n",
    "print('f1',f1)\n",
    "tn, fp, fn, tp = cfm2.ravel()\n",
    "specificity = tn / (tn + fp)\n",
    "print('specificity',specificity)\n",
    "\n",
    "balanced_accuracy = (recall + specificity) / 2\n",
    "print('balanced_accuracy',balanced_accuracy)\n"
   ]
  },
  {
   "cell_type": "code",
   "execution_count": 125,
   "metadata": {},
   "outputs": [
    {
     "name": "stdout",
     "output_type": "stream",
     "text": [
      "[[759  53]\n",
      " [ 61 456]]\n"
     ]
    }
   ],
   "source": [
    "conf_matrix = confusion_matrix(y_val_cat, FS_val_pred)\n",
    "print(conf_matrix)"
   ]
  },
  {
   "cell_type": "code",
   "execution_count": 126,
   "metadata": {},
   "outputs": [
    {
     "name": "stdout",
     "output_type": "stream",
     "text": [
      "              precision    recall  f1-score   support\n",
      "\n",
      "         0.0       0.93      0.93      0.93       812\n",
      "         1.0       0.90      0.88      0.89       517\n",
      "\n",
      "    accuracy                           0.91      1329\n",
      "   macro avg       0.91      0.91      0.91      1329\n",
      "weighted avg       0.91      0.91      0.91      1329\n",
      "\n"
     ]
    }
   ],
   "source": [
    "print(metrics.classification_report(y_val_cat, FS_val_pred))"
   ]
  },
  {
   "cell_type": "markdown",
   "metadata": {},
   "source": [
    "# Trying to improve the performance Using Random forest Classifier"
   ]
  },
  {
   "cell_type": "code",
   "execution_count": 119,
   "metadata": {},
   "outputs": [
    {
     "name": "stdout",
     "output_type": "stream",
     "text": [
      "recall 0.8568665377176016\n",
      "precision 0.9022403258655805\n",
      "f1 0.8789682539682541\n",
      "specificity 0.9408866995073891\n",
      "balanced_accuracy 0.8988766186124953\n"
     ]
    }
   ],
   "source": [
    "from sklearn.ensemble import RandomForestClassifier\n",
    "\n",
    "rf = RandomForestClassifier(n_estimators=100, max_depth=5)\n",
    "rf.fit(X_train_pca2, y_train_cat)\n",
    "\n",
    "rfc_val_pred = rf.predict(X_val_pca2)\n",
    "\n",
    "\n",
    "recall = recall_score(y_val_cat, rfc_val_pred)\n",
    "print('recall',recall)\n",
    "precision = precision_score(y_val_cat, rfc_val_pred)\n",
    "print('precision',precision)\n",
    "f1 = f1_score(y_val_cat, rfc_val_pred)\n",
    "print('f1',f1)\n",
    "tn, fp, fn, tp = cfm2.ravel()\n",
    "specificity = tn / (tn + fp)\n",
    "print('specificity',specificity)\n",
    "balanced_accuracy = (recall + specificity) / 2\n",
    "print('balanced_accuracy',balanced_accuracy)"
   ]
  },
  {
   "cell_type": "code",
   "execution_count": 120,
   "metadata": {},
   "outputs": [
    {
     "name": "stdout",
     "output_type": "stream",
     "text": [
      "[[764  48]\n",
      " [ 74 443]]\n"
     ]
    }
   ],
   "source": [
    "cfm3 = confusion_matrix(y_val_cat, rfc_val_pred)\n",
    "print(cfm3)"
   ]
  },
  {
   "cell_type": "code",
   "execution_count": 121,
   "metadata": {},
   "outputs": [
    {
     "name": "stdout",
     "output_type": "stream",
     "text": [
      "              precision    recall  f1-score   support\n",
      "\n",
      "         0.0       0.91      0.94      0.93       812\n",
      "         1.0       0.90      0.86      0.88       517\n",
      "\n",
      "    accuracy                           0.91      1329\n",
      "   macro avg       0.91      0.90      0.90      1329\n",
      "weighted avg       0.91      0.91      0.91      1329\n",
      "\n"
     ]
    }
   ],
   "source": [
    "print(metrics.classification_report(y_val_cat, rfc_val_pred))"
   ]
  },
  {
   "cell_type": "markdown",
   "metadata": {},
   "source": [
    "## Q10 [10]"
   ]
  },
  {
   "cell_type": "markdown",
   "metadata": {},
   "source": [
    "- Choose the best 2 regressors among the trained regressions models:\n",
    "- Create a table summarizing results on the **test** set for regression (with target variables in `y_test`):\n",
    "    - Show the R^2 and RMSE performance metrics on test data for each model.\n",
    "- Which model is best for regression? Is this in line with your analysis (the validation performance of the models) or is this not expected?\n",
    "\n",
    "\n",
    "\n",
    "- Choose the best 2 classifiers among the trained classification models:\n",
    "- Create a table summarizing results on the **test** set for classification (with target variables in `y_test_cat`):\n",
    "    - Show the classification performance metrics (accuracy, recall, precision, f1-score, etc.) on test data for each model. \n",
    "- Which model is best for classification? Is this in line with your analysis (the validation performance of the models) or is this not expected? \n",
    "\n",
    "\n",
    "\n",
    "> Note that the same transformation used during training should be applied on the testing set. (If you applied PCA on training data for the selected model, you need to apply PCA on the testing set as well.) \n",
    "\n"
   ]
  },
  {
   "cell_type": "code",
   "execution_count": 128,
   "metadata": {},
   "outputs": [
    {
     "data": {
      "text/html": [
       "<div>\n",
       "<style scoped>\n",
       "    .dataframe tbody tr th:only-of-type {\n",
       "        vertical-align: middle;\n",
       "    }\n",
       "\n",
       "    .dataframe tbody tr th {\n",
       "        vertical-align: top;\n",
       "    }\n",
       "\n",
       "    .dataframe thead th {\n",
       "        text-align: right;\n",
       "    }\n",
       "</style>\n",
       "<table border=\"1\" class=\"dataframe\">\n",
       "  <thead>\n",
       "    <tr style=\"text-align: right;\">\n",
       "      <th></th>\n",
       "      <th>Model</th>\n",
       "      <th>Score</th>\n",
       "    </tr>\n",
       "  </thead>\n",
       "  <tbody>\n",
       "    <tr>\n",
       "      <th>0</th>\n",
       "      <td>Linear Regression (train_r2)</td>\n",
       "      <td>0.664009</td>\n",
       "    </tr>\n",
       "    <tr>\n",
       "      <th>1</th>\n",
       "      <td>Linear Regression (val_r2)</td>\n",
       "      <td>0.646343</td>\n",
       "    </tr>\n",
       "    <tr>\n",
       "      <th>2</th>\n",
       "      <td>Linear Regression (train_rmse)</td>\n",
       "      <td>1.272012</td>\n",
       "    </tr>\n",
       "    <tr>\n",
       "      <th>3</th>\n",
       "      <td>Linear Regression (val_rmse)</td>\n",
       "      <td>1.388489</td>\n",
       "    </tr>\n",
       "    <tr>\n",
       "      <th>4</th>\n",
       "      <td>Random Forest (rf_r2_train)</td>\n",
       "      <td>0.963212</td>\n",
       "    </tr>\n",
       "    <tr>\n",
       "      <th>5</th>\n",
       "      <td>Random Forest (rf_r2_val)</td>\n",
       "      <td>0.756102</td>\n",
       "    </tr>\n",
       "    <tr>\n",
       "      <th>6</th>\n",
       "      <td>Random Forest (rf_rmse_train)</td>\n",
       "      <td>0.420902</td>\n",
       "    </tr>\n",
       "    <tr>\n",
       "      <th>7</th>\n",
       "      <td>Random Forest (rf_rmse_val)</td>\n",
       "      <td>1.153070</td>\n",
       "    </tr>\n",
       "    <tr>\n",
       "      <th>8</th>\n",
       "      <td>Random Forest_HP (rf1_r2_train)</td>\n",
       "      <td>0.827411</td>\n",
       "    </tr>\n",
       "    <tr>\n",
       "      <th>9</th>\n",
       "      <td>Random Forest_HP (rf_r2_val)</td>\n",
       "      <td>0.744507</td>\n",
       "    </tr>\n",
       "    <tr>\n",
       "      <th>10</th>\n",
       "      <td>Random Forest_HP (rf_rmse_train)</td>\n",
       "      <td>0.911664</td>\n",
       "    </tr>\n",
       "    <tr>\n",
       "      <th>11</th>\n",
       "      <td>Random Forest_HP (rf_rmse_val)</td>\n",
       "      <td>1.180161</td>\n",
       "    </tr>\n",
       "    <tr>\n",
       "      <th>12</th>\n",
       "      <td>SVM (SVM_r2_train)</td>\n",
       "      <td>0.624451</td>\n",
       "    </tr>\n",
       "    <tr>\n",
       "      <th>13</th>\n",
       "      <td>SVM (SVM_r2_val)</td>\n",
       "      <td>0.602187</td>\n",
       "    </tr>\n",
       "    <tr>\n",
       "      <th>14</th>\n",
       "      <td>SVM (SVM_rmse_train)</td>\n",
       "      <td>1.344810</td>\n",
       "    </tr>\n",
       "    <tr>\n",
       "      <th>15</th>\n",
       "      <td>SVM (SVM_rmse_val)</td>\n",
       "      <td>1.472622</td>\n",
       "    </tr>\n",
       "    <tr>\n",
       "      <th>16</th>\n",
       "      <td>Polynomial SVM (PSVM_r2_train)</td>\n",
       "      <td>0.740485</td>\n",
       "    </tr>\n",
       "    <tr>\n",
       "      <th>17</th>\n",
       "      <td>Polynomial SVM (PSVM_r2_val)</td>\n",
       "      <td>0.731049</td>\n",
       "    </tr>\n",
       "    <tr>\n",
       "      <th>18</th>\n",
       "      <td>Polynomial SVM (PSVM_rmse_train)</td>\n",
       "      <td>1.117914</td>\n",
       "    </tr>\n",
       "    <tr>\n",
       "      <th>19</th>\n",
       "      <td>Polynomial SVM (PSVM_rmse_val)</td>\n",
       "      <td>1.210845</td>\n",
       "    </tr>\n",
       "    <tr>\n",
       "      <th>20</th>\n",
       "      <td>SVM(RBF) (SVR_r2_train)</td>\n",
       "      <td>0.765324</td>\n",
       "    </tr>\n",
       "    <tr>\n",
       "      <th>21</th>\n",
       "      <td>SVM(RBF) (SVR_r2_val)</td>\n",
       "      <td>0.747621</td>\n",
       "    </tr>\n",
       "    <tr>\n",
       "      <th>22</th>\n",
       "      <td>SVM(RBF) (SVR_rmse_train)</td>\n",
       "      <td>1.063071</td>\n",
       "    </tr>\n",
       "    <tr>\n",
       "      <th>23</th>\n",
       "      <td>SVM(RBF) (SVR_rmse_val)</td>\n",
       "      <td>1.172947</td>\n",
       "    </tr>\n",
       "    <tr>\n",
       "      <th>24</th>\n",
       "      <td>Linear Regression with PCA (train_r2)</td>\n",
       "      <td>0.655791</td>\n",
       "    </tr>\n",
       "    <tr>\n",
       "      <th>25</th>\n",
       "      <td>Linear Regression with PCA(val_r2)</td>\n",
       "      <td>0.633321</td>\n",
       "    </tr>\n",
       "    <tr>\n",
       "      <th>26</th>\n",
       "      <td>Linear Regression with PCA (train_rmse)</td>\n",
       "      <td>1.287475</td>\n",
       "    </tr>\n",
       "    <tr>\n",
       "      <th>27</th>\n",
       "      <td>LInear Regression with PCA (rf_rmse_val)</td>\n",
       "      <td>1.413822</td>\n",
       "    </tr>\n",
       "    <tr>\n",
       "      <th>28</th>\n",
       "      <td>SVM(RBF) on PCA (SVR_r2_train)</td>\n",
       "      <td>0.788830</td>\n",
       "    </tr>\n",
       "    <tr>\n",
       "      <th>29</th>\n",
       "      <td>SVM(RBF) on PCA (SVR_r2_val)</td>\n",
       "      <td>0.752192</td>\n",
       "    </tr>\n",
       "    <tr>\n",
       "      <th>30</th>\n",
       "      <td>SVM(RBF) on PCA (SVR_rmse_train)</td>\n",
       "      <td>1.008425</td>\n",
       "    </tr>\n",
       "    <tr>\n",
       "      <th>31</th>\n",
       "      <td>SVM(RBF)on PCA (SVR_rmse_val)</td>\n",
       "      <td>1.162275</td>\n",
       "    </tr>\n",
       "  </tbody>\n",
       "</table>\n",
       "</div>"
      ],
      "text/plain": [
       "                                       Model     Score\n",
       "0               Linear Regression (train_r2)  0.664009\n",
       "1                 Linear Regression (val_r2)  0.646343\n",
       "2             Linear Regression (train_rmse)  1.272012\n",
       "3               Linear Regression (val_rmse)  1.388489\n",
       "4                Random Forest (rf_r2_train)  0.963212\n",
       "5                  Random Forest (rf_r2_val)  0.756102\n",
       "6              Random Forest (rf_rmse_train)  0.420902\n",
       "7                Random Forest (rf_rmse_val)  1.153070\n",
       "8            Random Forest_HP (rf1_r2_train)  0.827411\n",
       "9               Random Forest_HP (rf_r2_val)  0.744507\n",
       "10          Random Forest_HP (rf_rmse_train)  0.911664\n",
       "11            Random Forest_HP (rf_rmse_val)  1.180161\n",
       "12                        SVM (SVM_r2_train)  0.624451\n",
       "13                          SVM (SVM_r2_val)  0.602187\n",
       "14                      SVM (SVM_rmse_train)  1.344810\n",
       "15                        SVM (SVM_rmse_val)  1.472622\n",
       "16            Polynomial SVM (PSVM_r2_train)  0.740485\n",
       "17              Polynomial SVM (PSVM_r2_val)  0.731049\n",
       "18          Polynomial SVM (PSVM_rmse_train)  1.117914\n",
       "19            Polynomial SVM (PSVM_rmse_val)  1.210845\n",
       "20                   SVM(RBF) (SVR_r2_train)  0.765324\n",
       "21                     SVM(RBF) (SVR_r2_val)  0.747621\n",
       "22                 SVM(RBF) (SVR_rmse_train)  1.063071\n",
       "23                   SVM(RBF) (SVR_rmse_val)  1.172947\n",
       "24     Linear Regression with PCA (train_r2)  0.655791\n",
       "25        Linear Regression with PCA(val_r2)  0.633321\n",
       "26   Linear Regression with PCA (train_rmse)  1.287475\n",
       "27  LInear Regression with PCA (rf_rmse_val)  1.413822\n",
       "28            SVM(RBF) on PCA (SVR_r2_train)  0.788830\n",
       "29              SVM(RBF) on PCA (SVR_r2_val)  0.752192\n",
       "30          SVM(RBF) on PCA (SVR_rmse_train)  1.008425\n",
       "31             SVM(RBF)on PCA (SVR_rmse_val)  1.162275"
      ]
     },
     "execution_count": 128,
     "metadata": {},
     "output_type": "execute_result"
    }
   ],
   "source": [
    "# YOUR CODE\n",
    "scores_df"
   ]
  },
  {
   "cell_type": "markdown",
   "metadata": {},
   "source": [
    "As we see here in the above dataframe the two best regressors that perform well are Random Forests and Random Forests with Pca"
   ]
  },
  {
   "cell_type": "code",
   "execution_count": 146,
   "metadata": {},
   "outputs": [
    {
     "data": {
      "text/html": [
       "<div>\n",
       "<style scoped>\n",
       "    .dataframe tbody tr th:only-of-type {\n",
       "        vertical-align: middle;\n",
       "    }\n",
       "\n",
       "    .dataframe tbody tr th {\n",
       "        vertical-align: top;\n",
       "    }\n",
       "\n",
       "    .dataframe thead th {\n",
       "        text-align: right;\n",
       "    }\n",
       "</style>\n",
       "<table border=\"1\" class=\"dataframe\">\n",
       "  <thead>\n",
       "    <tr style=\"text-align: right;\">\n",
       "      <th></th>\n",
       "      <th>Model</th>\n",
       "      <th>Score</th>\n",
       "    </tr>\n",
       "  </thead>\n",
       "  <tbody>\n",
       "    <tr>\n",
       "      <th>4</th>\n",
       "      <td>Random Forest (rf_r2_train)</td>\n",
       "      <td>0.963212</td>\n",
       "    </tr>\n",
       "    <tr>\n",
       "      <th>5</th>\n",
       "      <td>Random Forest (rf_r2_val)</td>\n",
       "      <td>0.756102</td>\n",
       "    </tr>\n",
       "    <tr>\n",
       "      <th>6</th>\n",
       "      <td>Random Forest (rf_rmse_train)</td>\n",
       "      <td>0.420902</td>\n",
       "    </tr>\n",
       "    <tr>\n",
       "      <th>7</th>\n",
       "      <td>Random Forest (rf_rmse_val)</td>\n",
       "      <td>1.153070</td>\n",
       "    </tr>\n",
       "    <tr>\n",
       "      <th>8</th>\n",
       "      <td>Random Forest_HP (rf1_r2_train)</td>\n",
       "      <td>0.827411</td>\n",
       "    </tr>\n",
       "    <tr>\n",
       "      <th>9</th>\n",
       "      <td>Random Forest_HP (rf_r2_val)</td>\n",
       "      <td>0.744507</td>\n",
       "    </tr>\n",
       "    <tr>\n",
       "      <th>10</th>\n",
       "      <td>Random Forest_HP (rf_rmse_train)</td>\n",
       "      <td>0.911664</td>\n",
       "    </tr>\n",
       "    <tr>\n",
       "      <th>11</th>\n",
       "      <td>Random Forest_HP (rf_rmse_val)</td>\n",
       "      <td>1.180161</td>\n",
       "    </tr>\n",
       "    <tr>\n",
       "      <th>32</th>\n",
       "      <td>Random Forest with PCA (train_r2)</td>\n",
       "      <td>0.964615</td>\n",
       "    </tr>\n",
       "    <tr>\n",
       "      <th>33</th>\n",
       "      <td>Random Forest with PCA(val_r2)</td>\n",
       "      <td>0.738186</td>\n",
       "    </tr>\n",
       "    <tr>\n",
       "      <th>34</th>\n",
       "      <td>Random Forest with PCA (train_rmse)</td>\n",
       "      <td>0.412797</td>\n",
       "    </tr>\n",
       "    <tr>\n",
       "      <th>35</th>\n",
       "      <td>Random Forest with PCA (rf_rmse_val)</td>\n",
       "      <td>1.194670</td>\n",
       "    </tr>\n",
       "  </tbody>\n",
       "</table>\n",
       "</div>"
      ],
      "text/plain": [
       "                                   Model     Score\n",
       "4            Random Forest (rf_r2_train)  0.963212\n",
       "5              Random Forest (rf_r2_val)  0.756102\n",
       "6          Random Forest (rf_rmse_train)  0.420902\n",
       "7            Random Forest (rf_rmse_val)  1.153070\n",
       "8        Random Forest_HP (rf1_r2_train)  0.827411\n",
       "9           Random Forest_HP (rf_r2_val)  0.744507\n",
       "10      Random Forest_HP (rf_rmse_train)  0.911664\n",
       "11        Random Forest_HP (rf_rmse_val)  1.180161\n",
       "32     Random Forest with PCA (train_r2)  0.964615\n",
       "33        Random Forest with PCA(val_r2)  0.738186\n",
       "34   Random Forest with PCA (train_rmse)  0.412797\n",
       "35  Random Forest with PCA (rf_rmse_val)  1.194670"
      ]
     },
     "execution_count": 146,
     "metadata": {},
     "output_type": "execute_result"
    }
   ],
   "source": [
    "best_models = scores_df[scores_df['Model'].str.contains('Random Forest')]\n",
    "best_models"
   ]
  },
  {
   "cell_type": "code",
   "execution_count": 147,
   "metadata": {},
   "outputs": [
    {
     "name": "stdout",
     "output_type": "stream",
     "text": [
      "The R2 score of the model using the test data is:  0.9223812985932226\n"
     ]
    }
   ],
   "source": [
    "estimator = RandomForestRegressor(n_estimators=100, random_state=RANDOM_STATE)\n",
    "estimator.fit(X_test, y_test)\n",
    "\n",
    "# Calculate the R2 score on the test data\n",
    "rf_test_pred = estimator.predict(X_test)\n",
    "print(\"The R2 score of the model using the test data is: \", r2_score(y_test, rf_test_pred))"
   ]
  },
  {
   "cell_type": "code",
   "execution_count": 151,
   "metadata": {},
   "outputs": [
    {
     "name": "stdout",
     "output_type": "stream",
     "text": [
      "The RMSE on the test data is:  0.6502028840617012\n"
     ]
    }
   ],
   "source": [
    "# Calculate the RMSE on the test data\n",
    "rf_rmse_test = mean_squared_error(y_test, rf_test_pred, squared=False)\n",
    "print(\"The RMSE on the test data is: \", rf_rmse_test)"
   ]
  },
  {
   "cell_type": "markdown",
   "metadata": {},
   "source": [
    "The best two classification models are SVM classifiers and Random Forest Classifiers"
   ]
  },
  {
   "cell_type": "code",
   "execution_count": 159,
   "metadata": {},
   "outputs": [
    {
     "name": "stdout",
     "output_type": "stream",
     "text": [
      "Accuracy of training : 0.919112114371708\n",
      "Accuracy of testing: 0.9161028416779432\n"
     ]
    }
   ],
   "source": [
    "from sklearn.ensemble import RandomForestClassifier\n",
    "\n",
    "r_f = RandomForestClassifier(n_estimators=100, max_depth=5)\n",
    "r_f.fit(X_train_pca2, y_train_cat)\n",
    "\n",
    "r_f_val_pred = rf.predict(X_val_pca2)\n",
    "pred_Train = r_f.predict(X_train_pca2)\n",
    "print(\"Accuracy of training :\",metrics.accuracy_score(y_train_cat, pred_Train))\n",
    "\n",
    "pred_Test = rf.predict(X_test_pca2)\n",
    "\n",
    "print(\"Accuracy of testing:\",metrics.accuracy_score(y_test_cat, pred_Test))"
   ]
  },
  {
   "cell_type": "code",
   "execution_count": 161,
   "metadata": {},
   "outputs": [
    {
     "name": "stdout",
     "output_type": "stream",
     "text": [
      "              precision    recall  f1-score   support\n",
      "\n",
      "         0.0       0.93      0.94      0.93       467\n",
      "         1.0       0.90      0.87      0.88       272\n",
      "\n",
      "    accuracy                           0.92       739\n",
      "   macro avg       0.91      0.91      0.91       739\n",
      "weighted avg       0.92      0.92      0.92       739\n",
      "\n"
     ]
    }
   ],
   "source": [
    "print(metrics.classification_report(y_test_cat, pred_Test))"
   ]
  },
  {
   "cell_type": "markdown",
   "metadata": {},
   "source": [
    "- What did you learn in this project? Any suggestions?"
   ]
  },
  {
   "cell_type": "markdown",
   "metadata": {},
   "source": [
    "There was some ambiguity regarding the expectations for a few of the questions such as #10. The initial code snippets are very much appreciated, \n",
    "For this project, I learned about the sklearn's model selections and metrics.  I see how this tool can be very useful regarding classification and Regression.  I also have discovered that many models must be created and then attempt to find the model that has the best fit with the data."
   ]
  },
  {
   "cell_type": "markdown",
   "metadata": {},
   "source": [
    "# Thank you\n",
    "Ilyas Ustun  \n",
    "twitter: \\_ilyas\\_ustun\\_"
   ]
  }
 ],
 "metadata": {
  "kernelspec": {
   "display_name": "Python 3",
   "language": "python",
   "name": "python3"
  },
  "language_info": {
   "codemirror_mode": {
    "name": "ipython",
    "version": 3
   },
   "file_extension": ".py",
   "mimetype": "text/x-python",
   "name": "python",
   "nbconvert_exporter": "python",
   "pygments_lexer": "ipython3",
   "version": "3.7.3"
  },
  "toc": {
   "base_numbering": 1,
   "nav_menu": {},
   "number_sections": false,
   "sideBar": false,
   "skip_h1_title": false,
   "title_cell": "Table of Contents",
   "title_sidebar": "Contents",
   "toc_cell": false,
   "toc_position": {},
   "toc_section_display": false,
   "toc_window_display": false
  }
 },
 "nbformat": 4,
 "nbformat_minor": 4
}
